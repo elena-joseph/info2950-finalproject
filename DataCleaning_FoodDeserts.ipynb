{
 "cells": [
  {
   "cell_type": "markdown",
   "id": "86001300",
   "metadata": {},
   "source": [
    "# Data Cleaning: Food Deserts in the United States \n",
    "\n",
    "Carly Hu, Elena Joseph, Jason Kim, Anisha Saini\n",
    "\n",
    "## Contents\n",
    "\n",
    "1. __Data Cleaning__\n",
    "    1. National Data Cleaning\n",
    "    2. New York Data Cleaning\n",
    "\n"
   ]
  },
  {
   "cell_type": "markdown",
   "id": "c9673802",
   "metadata": {},
   "source": [
    "--- \n",
    "\n",
    "# Introduction"
   ]
  },
  {
   "cell_type": "markdown",
   "id": "3eaf928e",
   "metadata": {},
   "source": [
    "In this notebook, we will be showcasing our data cleaning process that was completed before we began our analysis for our project, Food Deserts in the US.\n",
    "\n"
   ]
  },
  {
   "cell_type": "markdown",
   "id": "28613c59",
   "metadata": {},
   "source": [
    "---\n",
    "\n",
    "# Loading Data"
   ]
  },
  {
   "cell_type": "code",
   "execution_count": 17,
   "id": "bc38790c",
   "metadata": {},
   "outputs": [],
   "source": [
    "import numpy as np\n",
    "import pandas as pd\n",
    "import seaborn as sns\n",
    "import math\n",
    "\n",
    "from matplotlib import pyplot as plt\n",
    "from sklearn.model_selection import train_test_split\n",
    "from sklearn.linear_model import LinearRegression, LogisticRegression\n",
    "from sklearn.metrics import classification_report\n",
    "from scipy import stats\n",
    "import statsmodels.api as sm\n",
    "\n",
    "import duckdb, sqlalchemy"
   ]
  },
  {
   "cell_type": "code",
   "execution_count": 18,
   "id": "6e56b900",
   "metadata": {},
   "outputs": [
    {
     "name": "stdout",
     "output_type": "stream",
     "text": [
      "The sql extension is already loaded. To reload it, use:\n",
      "  %reload_ext sql\n"
     ]
    }
   ],
   "source": [
    "%load_ext sql\n",
    "\n",
    "%config SqlMagic.autopandas = True\n",
    "%config SqlMagic.feedback = False\n",
    "%config SqlMagic.displaycon = False\n",
    "\n",
    "%sql duckdb:///:memory:"
   ]
  },
  {
   "cell_type": "code",
   "execution_count": 19,
   "id": "ae03701a",
   "metadata": {},
   "outputs": [
    {
     "name": "stdout",
     "output_type": "stream",
     "text": [
      "(72864, 147)\n"
     ]
    },
    {
     "data": {
      "text/html": [
       "<div>\n",
       "<style scoped>\n",
       "    .dataframe tbody tr th:only-of-type {\n",
       "        vertical-align: middle;\n",
       "    }\n",
       "\n",
       "    .dataframe tbody tr th {\n",
       "        vertical-align: top;\n",
       "    }\n",
       "\n",
       "    .dataframe thead th {\n",
       "        text-align: right;\n",
       "    }\n",
       "</style>\n",
       "<table border=\"1\" class=\"dataframe\">\n",
       "  <thead>\n",
       "    <tr style=\"text-align: right;\">\n",
       "      <th></th>\n",
       "      <th>CensusTract</th>\n",
       "      <th>State</th>\n",
       "      <th>County</th>\n",
       "      <th>Urban</th>\n",
       "      <th>POP2010</th>\n",
       "      <th>OHU2010</th>\n",
       "      <th>GroupQuartersFlag</th>\n",
       "      <th>NUMGQTRS</th>\n",
       "      <th>PCTGQTRS</th>\n",
       "      <th>LILATracts_1And10</th>\n",
       "      <th>...</th>\n",
       "      <th>TractSeniors</th>\n",
       "      <th>TractWhite</th>\n",
       "      <th>TractBlack</th>\n",
       "      <th>TractAsian</th>\n",
       "      <th>TractNHOPI</th>\n",
       "      <th>TractAIAN</th>\n",
       "      <th>TractOMultir</th>\n",
       "      <th>TractHispanic</th>\n",
       "      <th>TractHUNV</th>\n",
       "      <th>TractSNAP</th>\n",
       "    </tr>\n",
       "  </thead>\n",
       "  <tbody>\n",
       "    <tr>\n",
       "      <th>0</th>\n",
       "      <td>1001020100</td>\n",
       "      <td>Alabama</td>\n",
       "      <td>Autauga</td>\n",
       "      <td>1</td>\n",
       "      <td>1912</td>\n",
       "      <td>693</td>\n",
       "      <td>0</td>\n",
       "      <td>0</td>\n",
       "      <td>0.000000</td>\n",
       "      <td>0</td>\n",
       "      <td>...</td>\n",
       "      <td>221</td>\n",
       "      <td>1622</td>\n",
       "      <td>217</td>\n",
       "      <td>14</td>\n",
       "      <td>0</td>\n",
       "      <td>14</td>\n",
       "      <td>45</td>\n",
       "      <td>44</td>\n",
       "      <td>26</td>\n",
       "      <td>112</td>\n",
       "    </tr>\n",
       "    <tr>\n",
       "      <th>1</th>\n",
       "      <td>1001020200</td>\n",
       "      <td>Alabama</td>\n",
       "      <td>Autauga</td>\n",
       "      <td>1</td>\n",
       "      <td>2170</td>\n",
       "      <td>743</td>\n",
       "      <td>0</td>\n",
       "      <td>181</td>\n",
       "      <td>0.083410</td>\n",
       "      <td>0</td>\n",
       "      <td>...</td>\n",
       "      <td>214</td>\n",
       "      <td>888</td>\n",
       "      <td>1217</td>\n",
       "      <td>5</td>\n",
       "      <td>0</td>\n",
       "      <td>5</td>\n",
       "      <td>55</td>\n",
       "      <td>75</td>\n",
       "      <td>87</td>\n",
       "      <td>202</td>\n",
       "    </tr>\n",
       "    <tr>\n",
       "      <th>2</th>\n",
       "      <td>1001020300</td>\n",
       "      <td>Alabama</td>\n",
       "      <td>Autauga</td>\n",
       "      <td>1</td>\n",
       "      <td>3373</td>\n",
       "      <td>1256</td>\n",
       "      <td>0</td>\n",
       "      <td>0</td>\n",
       "      <td>0.000000</td>\n",
       "      <td>0</td>\n",
       "      <td>...</td>\n",
       "      <td>439</td>\n",
       "      <td>2576</td>\n",
       "      <td>647</td>\n",
       "      <td>17</td>\n",
       "      <td>5</td>\n",
       "      <td>11</td>\n",
       "      <td>117</td>\n",
       "      <td>87</td>\n",
       "      <td>108</td>\n",
       "      <td>120</td>\n",
       "    </tr>\n",
       "    <tr>\n",
       "      <th>3</th>\n",
       "      <td>1001020400</td>\n",
       "      <td>Alabama</td>\n",
       "      <td>Autauga</td>\n",
       "      <td>1</td>\n",
       "      <td>4386</td>\n",
       "      <td>1722</td>\n",
       "      <td>0</td>\n",
       "      <td>0</td>\n",
       "      <td>0.000000</td>\n",
       "      <td>0</td>\n",
       "      <td>...</td>\n",
       "      <td>904</td>\n",
       "      <td>4086</td>\n",
       "      <td>193</td>\n",
       "      <td>18</td>\n",
       "      <td>4</td>\n",
       "      <td>11</td>\n",
       "      <td>74</td>\n",
       "      <td>85</td>\n",
       "      <td>19</td>\n",
       "      <td>82</td>\n",
       "    </tr>\n",
       "    <tr>\n",
       "      <th>4</th>\n",
       "      <td>1001020500</td>\n",
       "      <td>Alabama</td>\n",
       "      <td>Autauga</td>\n",
       "      <td>1</td>\n",
       "      <td>10766</td>\n",
       "      <td>4082</td>\n",
       "      <td>0</td>\n",
       "      <td>181</td>\n",
       "      <td>0.016812</td>\n",
       "      <td>0</td>\n",
       "      <td>...</td>\n",
       "      <td>1126</td>\n",
       "      <td>8666</td>\n",
       "      <td>1437</td>\n",
       "      <td>296</td>\n",
       "      <td>9</td>\n",
       "      <td>48</td>\n",
       "      <td>310</td>\n",
       "      <td>355</td>\n",
       "      <td>198</td>\n",
       "      <td>488</td>\n",
       "    </tr>\n",
       "  </tbody>\n",
       "</table>\n",
       "<p>5 rows × 147 columns</p>\n",
       "</div>"
      ],
      "text/plain": [
       "   CensusTract    State   County  Urban  POP2010  OHU2010  GroupQuartersFlag  \\\n",
       "0   1001020100  Alabama  Autauga      1     1912      693                  0   \n",
       "1   1001020200  Alabama  Autauga      1     2170      743                  0   \n",
       "2   1001020300  Alabama  Autauga      1     3373     1256                  0   \n",
       "3   1001020400  Alabama  Autauga      1     4386     1722                  0   \n",
       "4   1001020500  Alabama  Autauga      1    10766     4082                  0   \n",
       "\n",
       "   NUMGQTRS  PCTGQTRS  LILATracts_1And10  ...  TractSeniors  TractWhite  \\\n",
       "0         0  0.000000                  0  ...           221        1622   \n",
       "1       181  0.083410                  0  ...           214         888   \n",
       "2         0  0.000000                  0  ...           439        2576   \n",
       "3         0  0.000000                  0  ...           904        4086   \n",
       "4       181  0.016812                  0  ...          1126        8666   \n",
       "\n",
       "   TractBlack  TractAsian  TractNHOPI  TractAIAN  TractOMultir  TractHispanic  \\\n",
       "0         217          14           0         14            45             44   \n",
       "1        1217           5           0          5            55             75   \n",
       "2         647          17           5         11           117             87   \n",
       "3         193          18           4         11            74             85   \n",
       "4        1437         296           9         48           310            355   \n",
       "\n",
       "   TractHUNV  TractSNAP  \n",
       "0         26        112  \n",
       "1         87        202  \n",
       "2        108        120  \n",
       "3         19         82  \n",
       "4        198        488  \n",
       "\n",
       "[5 rows x 147 columns]"
      ]
     },
     "execution_count": 19,
     "metadata": {},
     "output_type": "execute_result"
    }
   ],
   "source": [
    "#Loading in the dataset\n",
    "df = pd.read_csv('food_access_research_atlas.csv')\n",
    "print(df.shape)\n",
    "df.head()"
   ]
  },
  {
   "cell_type": "markdown",
   "id": "3b928a21",
   "metadata": {},
   "source": [
    "This data frame displays the first five rows of data after loading the dataset from the source. "
   ]
  },
  {
   "cell_type": "markdown",
   "id": "ceab7420",
   "metadata": {},
   "source": [
    "\n",
    "---\n",
    "\n",
    "# Data Cleaning\n",
    "### National Data Cleaning"
   ]
  },
  {
   "cell_type": "markdown",
   "id": "b2a86855",
   "metadata": {},
   "source": [
    "After observing that there are 147 columns in this dataset, we decided to filter out only the columns relevant to our research question."
   ]
  },
  {
   "cell_type": "code",
   "execution_count": 20,
   "id": "a6457af0",
   "metadata": {},
   "outputs": [
    {
     "name": "stdout",
     "output_type": "stream",
     "text": [
      "Returning data to local variable half\n",
      "Returning data to local variable one\n",
      "Returning data to local variable ten\n",
      "Returning data to local variable twenty\n"
     ]
    }
   ],
   "source": [
    "#Filtering out the columns that are of interest to the research question from the dataset\n",
    "%sql half << SELECT State, County, lawhitehalf as White, lablackhalf as Black, laasianhalf as Asian,\\\n",
    "lanhopihalf as Pacific_Islander, laaianhalf as American_Indian, laomultirhalf as Other, lahisphalf as Hispanic FROM df\n",
    "%sql one << SELECT State, County, lawhite1 as White, lablack1 as Black, laasian1 as Asian,\\\n",
    "lanhopi1 as Pacific_Islander, laaian1 as American_Indian, laomultir1 as Other, lahisp1 as Hispanic FROM df\n",
    "%sql ten << SELECT State, County, lawhite10 as White, lablack10 as Black, laasian10 as Asian,\\\n",
    "lanhopi10 as Pacific_Islander, laaian10 as American_Indian, laomultir10 as Other, lahisp10 as Hispanic FROM df\n",
    "%sql twenty << SELECT State, County, lawhite20 as White, lablack20 as Black, laasian20 as Asian,\\\n",
    "lanhopi20 as Pacific_Islander, laaian20 as American_Indian, laomultir20 as Other, lahisp20 as Hispanic FROM df"
   ]
  },
  {
   "cell_type": "markdown",
   "id": "4cf41c4d",
   "metadata": {},
   "source": [
    "We seperated out the original data into four smaller dataframes that represents the population of the people living that many miles or further away from the nearest supermarket. Below, we simply melted the dataframe to make it easier to plot using seaborn package."
   ]
  },
  {
   "cell_type": "code",
   "execution_count": 21,
   "id": "f4810485",
   "metadata": {},
   "outputs": [
    {
     "data": {
      "text/html": [
       "<div>\n",
       "<style scoped>\n",
       "    .dataframe tbody tr th:only-of-type {\n",
       "        vertical-align: middle;\n",
       "    }\n",
       "\n",
       "    .dataframe tbody tr th {\n",
       "        vertical-align: top;\n",
       "    }\n",
       "\n",
       "    .dataframe thead th {\n",
       "        text-align: right;\n",
       "    }\n",
       "</style>\n",
       "<table border=\"1\" class=\"dataframe\">\n",
       "  <thead>\n",
       "    <tr style=\"text-align: right;\">\n",
       "      <th></th>\n",
       "      <th>Race</th>\n",
       "      <th>HalfMile</th>\n",
       "      <th>OneMile</th>\n",
       "      <th>TenMiles</th>\n",
       "      <th>TwentyMiles</th>\n",
       "    </tr>\n",
       "  </thead>\n",
       "  <tbody>\n",
       "    <tr>\n",
       "      <th>0</th>\n",
       "      <td>American_Indian</td>\n",
       "      <td>2.159289e+06</td>\n",
       "      <td>1.466854e+06</td>\n",
       "      <td>3.385671e+05</td>\n",
       "      <td>154033.742896</td>\n",
       "    </tr>\n",
       "    <tr>\n",
       "      <th>1</th>\n",
       "      <td>Asian</td>\n",
       "      <td>7.930698e+06</td>\n",
       "      <td>3.113423e+06</td>\n",
       "      <td>2.297992e+04</td>\n",
       "      <td>3825.977523</td>\n",
       "    </tr>\n",
       "    <tr>\n",
       "      <th>2</th>\n",
       "      <td>Black</td>\n",
       "      <td>2.437161e+07</td>\n",
       "      <td>1.129574e+07</td>\n",
       "      <td>3.393879e+05</td>\n",
       "      <td>6923.342056</td>\n",
       "    </tr>\n",
       "    <tr>\n",
       "      <th>3</th>\n",
       "      <td>Hispanic</td>\n",
       "      <td>2.771349e+07</td>\n",
       "      <td>1.177554e+07</td>\n",
       "      <td>3.906380e+05</td>\n",
       "      <td>69964.466858</td>\n",
       "    </tr>\n",
       "    <tr>\n",
       "      <th>4</th>\n",
       "      <td>Other</td>\n",
       "      <td>1.551538e+07</td>\n",
       "      <td>6.789885e+06</td>\n",
       "      <td>2.397046e+05</td>\n",
       "      <td>37668.043287</td>\n",
       "    </tr>\n",
       "    <tr>\n",
       "      <th>5</th>\n",
       "      <td>Pacific_Islander</td>\n",
       "      <td>3.298089e+05</td>\n",
       "      <td>1.577236e+05</td>\n",
       "      <td>4.905566e+03</td>\n",
       "      <td>735.266505</td>\n",
       "    </tr>\n",
       "    <tr>\n",
       "      <th>6</th>\n",
       "      <td>White</td>\n",
       "      <td>1.657078e+08</td>\n",
       "      <td>1.007398e+08</td>\n",
       "      <td>4.312731e+06</td>\n",
       "      <td>431478.337847</td>\n",
       "    </tr>\n",
       "  </tbody>\n",
       "</table>\n",
       "</div>"
      ],
      "text/plain": [
       "               Race      HalfMile       OneMile      TenMiles    TwentyMiles\n",
       "0   American_Indian  2.159289e+06  1.466854e+06  3.385671e+05  154033.742896\n",
       "1             Asian  7.930698e+06  3.113423e+06  2.297992e+04    3825.977523\n",
       "2             Black  2.437161e+07  1.129574e+07  3.393879e+05    6923.342056\n",
       "3          Hispanic  2.771349e+07  1.177554e+07  3.906380e+05   69964.466858\n",
       "4             Other  1.551538e+07  6.789885e+06  2.397046e+05   37668.043287\n",
       "5  Pacific_Islander  3.298089e+05  1.577236e+05  4.905566e+03     735.266505\n",
       "6             White  1.657078e+08  1.007398e+08  4.312731e+06  431478.337847"
      ]
     },
     "execution_count": 21,
     "metadata": {},
     "output_type": "execute_result"
    }
   ],
   "source": [
    "# Cleaning and rearranging the data to make it easier to work with\n",
    "cleaned_half = pd.melt(half, id_vars =['State','County'], var_name='Race', value_name='Population').groupby('Race').sum().reset_index()\n",
    "cleaned_one = pd.melt(one, id_vars =['State','County'], var_name='Race', value_name='Population').groupby('Race').sum().reset_index()\n",
    "cleaned_ten = pd.melt(ten, id_vars =['State','County'], var_name='Race', value_name='Population').groupby('Race').sum().reset_index()\n",
    "cleaned_twenty = pd.melt(twenty, id_vars =['State','County'], var_name='Race', value_name='Population').groupby('Race').sum().reset_index()\n",
    "\n",
    "pop_at_each_dist = pd.DataFrame({'Race':cleaned_half['Race'], 'HalfMile':cleaned_half['Population'], \\\n",
    "'OneMile':cleaned_one['Population'],'TenMiles':cleaned_ten['Population'],'TwentyMiles':cleaned_twenty['Population']})\n",
    "pop_at_each_dist.to_csv('pop_at_each_dist.csv')\n",
    "\n",
    "pop_at_each_dist"
   ]
  },
  {
   "cell_type": "markdown",
   "id": "0130db2c",
   "metadata": {},
   "source": [
    "As mentioned above, this is the filtered data frame containing the population of each race at the various distances."
   ]
  },
  {
   "cell_type": "code",
   "execution_count": 22,
   "id": "c1f38e94",
   "metadata": {},
   "outputs": [
    {
     "data": {
      "image/png": "[encoded data removed]",
      "text/plain": [
       "<Figure size 432x288 with 1 Axes>"
      ]
     },
     "metadata": {
      "needs_background": "light"
     },
     "output_type": "display_data"
    }
   ],
   "source": [
    "# Visualize population distrbution at each distances\n",
    "pop_at_each_dist_melted = pd.melt(pop_at_each_dist, id_vars='Race', var_name='Distance_away', value_name='Population')\n",
    "sns.barplot(data=pop_at_each_dist_melted,x='Distance_away', y='Population', hue='Race').set(title='Population Count By Race in each Distance Tract: USA')\n",
    "plt.show()"
   ]
  },
  {
   "cell_type": "markdown",
   "id": "b63a7876",
   "metadata": {},
   "source": [
    "This bar graph displays the population of each race in the US, as highlighted in the legend, in terms of distances from a supermarket."
   ]
  },
  {
   "cell_type": "markdown",
   "id": "b915087e",
   "metadata": {},
   "source": [
    "We also wanted to know the total population we are working with grouped by race so we extracted the population data below."
   ]
  },
  {
   "cell_type": "code",
   "execution_count": 23,
   "id": "11e72b04",
   "metadata": {},
   "outputs": [
    {
     "name": "stdout",
     "output_type": "stream",
     "text": [
      "Returning data to local variable total_population\n"
     ]
    },
    {
     "data": {
      "text/html": [
       "<div>\n",
       "<style scoped>\n",
       "    .dataframe tbody tr th:only-of-type {\n",
       "        vertical-align: middle;\n",
       "    }\n",
       "\n",
       "    .dataframe tbody tr th {\n",
       "        vertical-align: top;\n",
       "    }\n",
       "\n",
       "    .dataframe thead th {\n",
       "        text-align: right;\n",
       "    }\n",
       "</style>\n",
       "<table border=\"1\" class=\"dataframe\">\n",
       "  <thead>\n",
       "    <tr style=\"text-align: right;\">\n",
       "      <th></th>\n",
       "      <th>Race</th>\n",
       "      <th>Population</th>\n",
       "    </tr>\n",
       "  </thead>\n",
       "  <tbody>\n",
       "    <tr>\n",
       "      <th>0</th>\n",
       "      <td>American_Indian</td>\n",
       "      <td>2932248</td>\n",
       "    </tr>\n",
       "    <tr>\n",
       "      <th>1</th>\n",
       "      <td>Asian</td>\n",
       "      <td>14674252</td>\n",
       "    </tr>\n",
       "    <tr>\n",
       "      <th>2</th>\n",
       "      <td>Black</td>\n",
       "      <td>38929319</td>\n",
       "    </tr>\n",
       "    <tr>\n",
       "      <th>3</th>\n",
       "      <td>Hispanic</td>\n",
       "      <td>50477594</td>\n",
       "    </tr>\n",
       "    <tr>\n",
       "      <th>4</th>\n",
       "      <td>Other</td>\n",
       "      <td>28116441</td>\n",
       "    </tr>\n",
       "    <tr>\n",
       "      <th>5</th>\n",
       "      <td>Pacific_Islander</td>\n",
       "      <td>540013</td>\n",
       "    </tr>\n",
       "    <tr>\n",
       "      <th>6</th>\n",
       "      <td>White</td>\n",
       "      <td>223553265</td>\n",
       "    </tr>\n",
       "  </tbody>\n",
       "</table>\n",
       "</div>"
      ],
      "text/plain": [
       "               Race  Population\n",
       "0   American_Indian     2932248\n",
       "1             Asian    14674252\n",
       "2             Black    38929319\n",
       "3          Hispanic    50477594\n",
       "4             Other    28116441\n",
       "5  Pacific_Islander      540013\n",
       "6             White   223553265"
      ]
     },
     "execution_count": 23,
     "metadata": {},
     "output_type": "execute_result"
    }
   ],
   "source": [
    "# Getting the total population of different races in the US from the original dataset\n",
    "%sql total_population << SELECT TractWhite AS White,TractBlack AS Black, TractAsian AS Asian, TractNHOPI AS Pacific_Islander, \\\n",
    "TractAIAN AS American_Indian, TractOMultir AS Other, TractHispanic AS Hispanic FROM df\n",
    "\n",
    "total_population = pd.melt(total_population, var_name='Race', value_name='Population').groupby('Race').sum().reset_index()\n",
    "total_population.to_csv('total_population_df.csv')\n",
    "\n",
    "total_population"
   ]
  },
  {
   "cell_type": "markdown",
   "id": "e109f315",
   "metadata": {},
   "source": [
    "As mentioned above, this data frame represents the total population for each race in the US, as accounted by this dataset."
   ]
  },
  {
   "cell_type": "code",
   "execution_count": 24,
   "id": "89e87e22",
   "metadata": {},
   "outputs": [
    {
     "data": {
      "image/png": "[encoded data removed]",
      "text/plain": [
       "<Figure size 432x288 with 1 Axes>"
      ]
     },
     "metadata": {
      "needs_background": "light"
     },
     "output_type": "display_data"
    }
   ],
   "source": [
    "# Visualize population distribution across races\n",
    "sns.barplot(data=total_population,x='Race', y='Population').set(title='Population Count by Race: USA')\n",
    "plt.show()"
   ]
  },
  {
   "cell_type": "markdown",
   "id": "7664610c",
   "metadata": {},
   "source": [
    "This bar graph showcases the population of each race in the US. As seen, the white population is the highest racial group. "
   ]
  },
  {
   "cell_type": "markdown",
   "id": "f7f3f02a",
   "metadata": {},
   "source": [
    "### NY Data Cleaning"
   ]
  },
  {
   "cell_type": "code",
   "execution_count": 25,
   "id": "60d84948",
   "metadata": {},
   "outputs": [
    {
     "name": "stdout",
     "output_type": "stream",
     "text": [
      "Returning data to local variable ny_half\n",
      "Returning data to local variable ny_one\n",
      "Returning data to local variable ny_ten\n",
      "Returning data to local variable ny_twenty\n"
     ]
    },
    {
     "data": {
      "text/html": [
       "<div>\n",
       "<style scoped>\n",
       "    .dataframe tbody tr th:only-of-type {\n",
       "        vertical-align: middle;\n",
       "    }\n",
       "\n",
       "    .dataframe tbody tr th {\n",
       "        vertical-align: top;\n",
       "    }\n",
       "\n",
       "    .dataframe thead th {\n",
       "        text-align: right;\n",
       "    }\n",
       "</style>\n",
       "<table border=\"1\" class=\"dataframe\">\n",
       "  <thead>\n",
       "    <tr style=\"text-align: right;\">\n",
       "      <th></th>\n",
       "      <th>Race</th>\n",
       "      <th>HalfMile</th>\n",
       "      <th>OneMile</th>\n",
       "      <th>TenMiles</th>\n",
       "      <th>TwentyMiles</th>\n",
       "    </tr>\n",
       "  </thead>\n",
       "  <tbody>\n",
       "    <tr>\n",
       "      <th>0</th>\n",
       "      <td>American_Indian</td>\n",
       "      <td>3.455974e+04</td>\n",
       "      <td>2.110377e+04</td>\n",
       "      <td>787.270739</td>\n",
       "      <td>1.000088</td>\n",
       "    </tr>\n",
       "    <tr>\n",
       "      <th>1</th>\n",
       "      <td>Asian</td>\n",
       "      <td>2.628393e+05</td>\n",
       "      <td>9.479964e+04</td>\n",
       "      <td>346.265939</td>\n",
       "      <td>0.000265</td>\n",
       "    </tr>\n",
       "    <tr>\n",
       "      <th>2</th>\n",
       "      <td>Black</td>\n",
       "      <td>5.924514e+05</td>\n",
       "      <td>1.717682e+05</td>\n",
       "      <td>2408.879887</td>\n",
       "      <td>0.715675</td>\n",
       "    </tr>\n",
       "    <tr>\n",
       "      <th>3</th>\n",
       "      <td>Hispanic</td>\n",
       "      <td>6.036213e+05</td>\n",
       "      <td>2.148840e+05</td>\n",
       "      <td>2023.171552</td>\n",
       "      <td>4.505039</td>\n",
       "    </tr>\n",
       "    <tr>\n",
       "      <th>4</th>\n",
       "      <td>Other</td>\n",
       "      <td>3.583624e+05</td>\n",
       "      <td>1.331233e+05</td>\n",
       "      <td>1583.693025</td>\n",
       "      <td>2.110698</td>\n",
       "    </tr>\n",
       "    <tr>\n",
       "      <th>5</th>\n",
       "      <td>Pacific_Islander</td>\n",
       "      <td>2.482825e+03</td>\n",
       "      <td>1.263375e+03</td>\n",
       "      <td>27.135887</td>\n",
       "      <td>0.000000</td>\n",
       "    </tr>\n",
       "    <tr>\n",
       "      <th>6</th>\n",
       "      <td>White</td>\n",
       "      <td>6.927099e+06</td>\n",
       "      <td>4.036151e+06</td>\n",
       "      <td>82422.596879</td>\n",
       "      <td>372.440094</td>\n",
       "    </tr>\n",
       "  </tbody>\n",
       "</table>\n",
       "</div>"
      ],
      "text/plain": [
       "               Race      HalfMile       OneMile      TenMiles  TwentyMiles\n",
       "0   American_Indian  3.455974e+04  2.110377e+04    787.270739     1.000088\n",
       "1             Asian  2.628393e+05  9.479964e+04    346.265939     0.000265\n",
       "2             Black  5.924514e+05  1.717682e+05   2408.879887     0.715675\n",
       "3          Hispanic  6.036213e+05  2.148840e+05   2023.171552     4.505039\n",
       "4             Other  3.583624e+05  1.331233e+05   1583.693025     2.110698\n",
       "5  Pacific_Islander  2.482825e+03  1.263375e+03     27.135887     0.000000\n",
       "6             White  6.927099e+06  4.036151e+06  82422.596879   372.440094"
      ]
     },
     "execution_count": 25,
     "metadata": {},
     "output_type": "execute_result"
    }
   ],
   "source": [
    "%sql ny_half << SELECT State, County, lawhitehalf as White, lablackhalf as Black, laasianhalf as Asian,\\\n",
    "lanhopihalf as Pacific_Islander, laaianhalf as American_Indian, laomultirhalf as Other, lahisphalf \\\n",
    "as Hispanic FROM df WHERE State = 'New York'\n",
    "%sql ny_one << SELECT State, County, lawhite1 as White, lablack1 as Black, laasian1 as Asian,\\\n",
    "lanhopi1 as Pacific_Islander, laaian1 as American_Indian, laomultir1 as Other, lahisp1 as Hispanic \\\n",
    "FROM df WHERE State = 'New York'\n",
    "%sql ny_ten << SELECT State, County, lawhite10 as White, lablack10 as Black, laasian10 as Asian,\\\n",
    "lanhopi10 as Pacific_Islander, laaian10 as American_Indian, laomultir10 as Other, lahisp10 as Hispanic FROM df \\\n",
    "WHERE State = 'New York'\n",
    "%sql ny_twenty << SELECT State, County, lawhite20 as White, lablack20 as Black, laasian20 as Asian,\\\n",
    "lanhopi20 as Pacific_Islander, laaian20 as American_Indian, laomultir20 as Other, lahisp20 as Hispanic FROM df \\\n",
    "WHERE State = 'New York'\n",
    "\n",
    "cleaned_ny_half = pd.melt(ny_half, id_vars =['State','County'], var_name='Race', value_name='Population').groupby('Race').sum().reset_index()\n",
    "cleaned_ny_one = pd.melt(ny_one, id_vars =['State','County'], var_name='Race', value_name='Population').groupby('Race').sum().reset_index()\n",
    "cleaned_ny_ten = pd.melt(ny_ten, id_vars =['State','County'], var_name='Race', value_name='Population').groupby('Race').sum().reset_index()\n",
    "cleaned_ny_twenty = pd.melt(ny_twenty, id_vars =['State','County'], var_name='Race', value_name='Population').groupby('Race').sum().reset_index()\n",
    "\n",
    "ny_pop_at_each_dist = pd.DataFrame({'Race':cleaned_ny_half['Race'], 'HalfMile':cleaned_ny_half['Population'], \\\n",
    "'OneMile':cleaned_ny_one['Population'],'TenMiles':cleaned_ny_ten['Population'],'TwentyMiles':cleaned_ny_twenty['Population']})\n",
    "ny_pop_at_each_dist.to_csv('ny_pop_at_each_dist.csv')\n",
    "ny_pop_at_each_dist"
   ]
  },
  {
   "cell_type": "markdown",
   "id": "8bfac007",
   "metadata": {},
   "source": [
    "This data frame drops several columns and cleans the data to keep the relevant columns to our dataset and to New York. We renamed the race variables to make the race in question more clear. We also used the melt function to aggregate all the distances from a food desert into one column. This data frame displays the columns in terms of New York, which are race and the population counts by various distances."
   ]
  },
  {
   "cell_type": "code",
   "execution_count": 26,
   "id": "d336b55a",
   "metadata": {},
   "outputs": [
    {
     "data": {
      "image/png": "[encoded data removed]",
      "text/plain": [
       "<Figure size 432x288 with 1 Axes>"
      ]
     },
     "metadata": {
      "needs_background": "light"
     },
     "output_type": "display_data"
    }
   ],
   "source": [
    "# New York \n",
    "ny_pop_at_each_dist_melted = pd.melt(ny_pop_at_each_dist, id_vars='Race', var_name='Distance_away', value_name='Population')\n",
    "sns.barplot(data=ny_pop_at_each_dist_melted,x='Distance_away', y='Population', hue='Race')\\\n",
    ".set(title='Population Count by Race in each Distance Tract: NY State')\n",
    "plt.show()"
   ]
  },
  {
   "cell_type": "markdown",
   "id": "9ff11313",
   "metadata": {},
   "source": [
    "This bar graph display the population of each race within the state of NY, as highlighted in the legend, in terms of distances from a supermarket. "
   ]
  },
  {
   "cell_type": "code",
   "execution_count": 27,
   "id": "d628cb78",
   "metadata": {},
   "outputs": [
    {
     "name": "stdout",
     "output_type": "stream",
     "text": [
      "Returning data to local variable ny_total_population\n"
     ]
    },
    {
     "data": {
      "text/html": [
       "<div>\n",
       "<style scoped>\n",
       "    .dataframe tbody tr th:only-of-type {\n",
       "        vertical-align: middle;\n",
       "    }\n",
       "\n",
       "    .dataframe tbody tr th {\n",
       "        vertical-align: top;\n",
       "    }\n",
       "\n",
       "    .dataframe thead th {\n",
       "        text-align: right;\n",
       "    }\n",
       "</style>\n",
       "<table border=\"1\" class=\"dataframe\">\n",
       "  <thead>\n",
       "    <tr style=\"text-align: right;\">\n",
       "      <th></th>\n",
       "      <th>Race</th>\n",
       "      <th>Population</th>\n",
       "    </tr>\n",
       "  </thead>\n",
       "  <tbody>\n",
       "    <tr>\n",
       "      <th>0</th>\n",
       "      <td>American_Indian</td>\n",
       "      <td>106906</td>\n",
       "    </tr>\n",
       "    <tr>\n",
       "      <th>1</th>\n",
       "      <td>Asian</td>\n",
       "      <td>1420244</td>\n",
       "    </tr>\n",
       "    <tr>\n",
       "      <th>2</th>\n",
       "      <td>Black</td>\n",
       "      <td>3073800</td>\n",
       "    </tr>\n",
       "    <tr>\n",
       "      <th>3</th>\n",
       "      <td>Hispanic</td>\n",
       "      <td>3416922</td>\n",
       "    </tr>\n",
       "    <tr>\n",
       "      <th>4</th>\n",
       "      <td>Other</td>\n",
       "      <td>2027412</td>\n",
       "    </tr>\n",
       "    <tr>\n",
       "      <th>5</th>\n",
       "      <td>Pacific_Islander</td>\n",
       "      <td>8766</td>\n",
       "    </tr>\n",
       "    <tr>\n",
       "      <th>6</th>\n",
       "      <td>White</td>\n",
       "      <td>12740974</td>\n",
       "    </tr>\n",
       "  </tbody>\n",
       "</table>\n",
       "</div>"
      ],
      "text/plain": [
       "               Race  Population\n",
       "0   American_Indian      106906\n",
       "1             Asian     1420244\n",
       "2             Black     3073800\n",
       "3          Hispanic     3416922\n",
       "4             Other     2027412\n",
       "5  Pacific_Islander        8766\n",
       "6             White    12740974"
      ]
     },
     "execution_count": 27,
     "metadata": {},
     "output_type": "execute_result"
    }
   ],
   "source": [
    "# NY total population\n",
    "%sql ny_total_population << SELECT TractWhite AS White,TractBlack AS Black, TractAsian AS Asian, TractNHOPI AS Pacific_Islander, \\\n",
    "TractAIAN AS American_Indian, TractOMultir AS Other, TractHispanic AS Hispanic FROM df WHERE State = 'New York'\n",
    "\n",
    "ny_total_population = pd.melt(ny_total_population, var_name='Race', value_name='Population').groupby('Race').sum().reset_index()\n",
    "ny_total_population.to_csv('ny_total_population.csv')\n",
    "ny_total_population"
   ]
  },
  {
   "cell_type": "markdown",
   "id": "43a90788",
   "metadata": {},
   "source": [
    "This data frame represents the total population of different races in New York from the original dataset."
   ]
  },
  {
   "cell_type": "code",
   "execution_count": 28,
   "id": "1916b640",
   "metadata": {},
   "outputs": [
    {
     "data": {
      "image/png": "[encoded data removed]",
      "text/plain": [
       "<Figure size 432x288 with 1 Axes>"
      ]
     },
     "metadata": {
      "needs_background": "light"
     },
     "output_type": "display_data"
    }
   ],
   "source": [
    "# New York State population distribution\n",
    "sns.barplot(data=ny_total_population, x='Race', y='Population').set(title='Population Count by Race: NY State')\n",
    "plt.show()"
   ]
  },
  {
   "cell_type": "markdown",
   "id": "50437127",
   "metadata": {},
   "source": [
    "This bar graph display the population of each race in terms of New York State, as highlighted in the legend, in terms of distances from a supermarket. "
   ]
  },
  {
   "cell_type": "code",
   "execution_count": null,
   "id": "fbdca97f",
   "metadata": {},
   "outputs": [],
   "source": []
  }
 ],
 "metadata": {
  "kernelspec": {
   "display_name": "Python 3 (ipykernel)",
   "language": "python",
   "name": "python3"
  },
  "language_info": {
   "codemirror_mode": {
    "name": "ipython",
    "version": 3
   },
   "file_extension": ".py",
   "mimetype": "text/x-python",
   "name": "python",
   "nbconvert_exporter": "python",
   "pygments_lexer": "ipython3",
   "version": "3.8.13"
  }
 },
 "nbformat": 4,
 "nbformat_minor": 5
}
