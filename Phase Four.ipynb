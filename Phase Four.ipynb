{
 "cells": [
  {
   "cell_type": "markdown",
   "id": "86001300",
   "metadata": {},
   "source": [
    "# Food Deserts in the United States [Phase Four Submission]\n",
    "\n",
    "Carly Hu, Elena Joseph, Jason Kim, Anisha Saini\n",
    "\n",
    "## Contents\n",
    "\n",
    "1. __Introduction__\n",
    "2. __Loading Data__\n",
    "3. __Data Cleaning__\n",
    "    1. National Data Cleaning\n",
    "    2. New York Data Cleaning\n",
    "4. __Data Description__\n",
    "5. __Data Limitations__\n",
    "6. __Pre-analysis hypotheses__\n",
    "7. __Data Analysis__\n",
    "    1. National Analysis\n",
    "        1. Population visualizations\n",
    "        2. Hypothesis testing\n",
    "        3. Focus on Native Americans, hypothesis testing for regression \n",
    "    2. New York Analysis\n",
    "        1. Population visualizations\n",
    "        2. Hypothesis testing\n",
    "        3. Focus on white population, hypothesis testing for regression\n",
    "    3. Comparing US and NYS distributions\n",
    "    4. Regression: Urban tracts\n",
    "8. __Interpretation and Conclusion__\n",
    "    1. Interpretation\n",
    "    2. Conclusion\n",
    "9. __Acknowledgements__\n",
    "10. __Questions for Reviewers__\n"
   ]
  },
  {
   "cell_type": "markdown",
   "id": "c9673802",
   "metadata": {},
   "source": [
    "--- \n",
    "\n",
    "# Introduction"
   ]
  },
  {
   "cell_type": "markdown",
   "id": "3eaf928e",
   "metadata": {},
   "source": [
    "In this project, we are exploring food deserts present in the United States and its relation to race. A food desert is defined by the US Department of Agriculture as living beyond one mile from a grocery store in a urban or suburban area and beyond 10 miles from a grocery store in a rural area. The data source was the Food Access Research Atlas which measures access to supermarkets at various census tracts in terms of various demographic variables. This data source is maintained by the Economic Research Service (ERS) and U.S. Department of Agriculture (USDA). \n",
    "\n",
    "With this data, we were highly interested in exploring the distribution of food deserts in the United States as food is an essential need for life. Without access to food, the quality of people's life is compromised as they have to travel larger distances to purchase food. This extra distance not only compromsies people's time but also expects people to have access and be able to afford reliable transportation, in addition to any costs and time associated with grocery shopping. This does not even include any other implications, such as finding caretakers for elderly or children who may not be able to accompany the food shopper to the store. Thus, food inaccess can be highly intertwined with other issues, compromising the quality of life. \n",
    "\n",
    "We have seen throughout history that there tends to be significant inequality among different races for basic treatment and needs. We decided to explore this relation, as well as the difference in this relation between New York State, where our team is based in, and the national United States. Thus, our __research questions__ are as follow: \n",
    "- Is there a statistically significant difference in terms of access to food in the US across different races, where statisically signficance is defined by having a p-value less than 0.05? \n",
    "- If so, does New York state reflect national levels of food access inequality across races? \n",
    "\n",
    "Through our analysis, we have found that there does exist a statistically significant difference in terms of food access across race, specifically Native Americans on the national level, and white Americans in New York state. We also found that New York state does not reflect national levels of food access inequality across races. \n",
    "\n",
    "We hope these findings can inform lawmakers of what can be done in certain areas to help people facing food insecurity and thus, create effective legislation to curb such issues and improve the quality of lives of those currently struggling. \n"
   ]
  },
  {
   "cell_type": "markdown",
   "id": "28613c59",
   "metadata": {},
   "source": [
    "---\n",
    "\n",
    "# Loading Data"
   ]
  },
  {
   "cell_type": "code",
   "execution_count": 101,
   "id": "bc38790c",
   "metadata": {},
   "outputs": [
    {
     "ename": "ModuleNotFoundError",
     "evalue": "No module named 'statsmodels'",
     "output_type": "error",
     "traceback": [
      "\u001b[0;31m---------------------------------------------------------------------------\u001b[0m",
      "\u001b[0;31mModuleNotFoundError\u001b[0m                       Traceback (most recent call last)",
      "Input \u001b[0;32mIn [101]\u001b[0m, in \u001b[0;36m<cell line: 11>\u001b[0;34m()\u001b[0m\n\u001b[1;32m      9\u001b[0m \u001b[38;5;28;01mfrom\u001b[39;00m \u001b[38;5;21;01msklearn\u001b[39;00m\u001b[38;5;21;01m.\u001b[39;00m\u001b[38;5;21;01mmetrics\u001b[39;00m \u001b[38;5;28;01mimport\u001b[39;00m classification_report\n\u001b[1;32m     10\u001b[0m \u001b[38;5;28;01mfrom\u001b[39;00m \u001b[38;5;21;01mscipy\u001b[39;00m \u001b[38;5;28;01mimport\u001b[39;00m stats\n\u001b[0;32m---> 11\u001b[0m \u001b[38;5;28;01mimport\u001b[39;00m \u001b[38;5;21;01mstatsmodels\u001b[39;00m\u001b[38;5;21;01m.\u001b[39;00m\u001b[38;5;21;01mapi\u001b[39;00m \u001b[38;5;28;01mas\u001b[39;00m \u001b[38;5;21;01msm\u001b[39;00m\n\u001b[1;32m     13\u001b[0m \u001b[38;5;28;01mimport\u001b[39;00m \u001b[38;5;21;01mduckdb\u001b[39;00m\u001b[38;5;241m,\u001b[39m \u001b[38;5;21;01msqlalchemy\u001b[39;00m\n",
      "\u001b[0;31mModuleNotFoundError\u001b[0m: No module named 'statsmodels'"
     ]
    }
   ],
   "source": [
    "import numpy as np\n",
    "import pandas as pd\n",
    "import seaborn as sns\n",
    "import math\n",
    "\n",
    "from matplotlib import pyplot as plt\n",
    "from sklearn.model_selection import train_test_split\n",
    "from sklearn.linear_model import LinearRegression, LogisticRegression\n",
    "from sklearn.metrics import classification_report\n",
    "from scipy import stats\n",
    "import statsmodels.api as sm\n",
    "\n",
    "import duckdb, sqlalchemy"
   ]
  },
  {
   "cell_type": "code",
   "execution_count": 209,
   "id": "6e56b900",
   "metadata": {},
   "outputs": [
    {
     "name": "stdout",
     "output_type": "stream",
     "text": [
      "The sql extension is already loaded. To reload it, use:\n",
      "  %reload_ext sql\n"
     ]
    }
   ],
   "source": [
    "%load_ext sql\n",
    "\n",
    "%config SqlMagic.autopandas = True\n",
    "%config SqlMagic.feedback = False\n",
    "%config SqlMagic.displaycon = False\n",
    "\n",
    "%sql duckdb:///:memory:"
   ]
  },
  {
   "cell_type": "code",
   "execution_count": 210,
   "id": "ae03701a",
   "metadata": {},
   "outputs": [
    {
     "name": "stdout",
     "output_type": "stream",
     "text": [
      "(72864, 147)\n"
     ]
    },
    {
     "data": {
      "text/html": [
       "<div>\n",
       "<style scoped>\n",
       "    .dataframe tbody tr th:only-of-type {\n",
       "        vertical-align: middle;\n",
       "    }\n",
       "\n",
       "    .dataframe tbody tr th {\n",
       "        vertical-align: top;\n",
       "    }\n",
       "\n",
       "    .dataframe thead th {\n",
       "        text-align: right;\n",
       "    }\n",
       "</style>\n",
       "<table border=\"1\" class=\"dataframe\">\n",
       "  <thead>\n",
       "    <tr style=\"text-align: right;\">\n",
       "      <th></th>\n",
       "      <th>CensusTract</th>\n",
       "      <th>State</th>\n",
       "      <th>County</th>\n",
       "      <th>Urban</th>\n",
       "      <th>POP2010</th>\n",
       "      <th>OHU2010</th>\n",
       "      <th>GroupQuartersFlag</th>\n",
       "      <th>NUMGQTRS</th>\n",
       "      <th>PCTGQTRS</th>\n",
       "      <th>LILATracts_1And10</th>\n",
       "      <th>...</th>\n",
       "      <th>TractSeniors</th>\n",
       "      <th>TractWhite</th>\n",
       "      <th>TractBlack</th>\n",
       "      <th>TractAsian</th>\n",
       "      <th>TractNHOPI</th>\n",
       "      <th>TractAIAN</th>\n",
       "      <th>TractOMultir</th>\n",
       "      <th>TractHispanic</th>\n",
       "      <th>TractHUNV</th>\n",
       "      <th>TractSNAP</th>\n",
       "    </tr>\n",
       "  </thead>\n",
       "  <tbody>\n",
       "    <tr>\n",
       "      <th>0</th>\n",
       "      <td>1001020100</td>\n",
       "      <td>Alabama</td>\n",
       "      <td>Autauga</td>\n",
       "      <td>1</td>\n",
       "      <td>1912</td>\n",
       "      <td>693</td>\n",
       "      <td>0</td>\n",
       "      <td>0</td>\n",
       "      <td>0.000000</td>\n",
       "      <td>0</td>\n",
       "      <td>...</td>\n",
       "      <td>221</td>\n",
       "      <td>1622</td>\n",
       "      <td>217</td>\n",
       "      <td>14</td>\n",
       "      <td>0</td>\n",
       "      <td>14</td>\n",
       "      <td>45</td>\n",
       "      <td>44</td>\n",
       "      <td>26</td>\n",
       "      <td>112</td>\n",
       "    </tr>\n",
       "    <tr>\n",
       "      <th>1</th>\n",
       "      <td>1001020200</td>\n",
       "      <td>Alabama</td>\n",
       "      <td>Autauga</td>\n",
       "      <td>1</td>\n",
       "      <td>2170</td>\n",
       "      <td>743</td>\n",
       "      <td>0</td>\n",
       "      <td>181</td>\n",
       "      <td>0.083410</td>\n",
       "      <td>0</td>\n",
       "      <td>...</td>\n",
       "      <td>214</td>\n",
       "      <td>888</td>\n",
       "      <td>1217</td>\n",
       "      <td>5</td>\n",
       "      <td>0</td>\n",
       "      <td>5</td>\n",
       "      <td>55</td>\n",
       "      <td>75</td>\n",
       "      <td>87</td>\n",
       "      <td>202</td>\n",
       "    </tr>\n",
       "    <tr>\n",
       "      <th>2</th>\n",
       "      <td>1001020300</td>\n",
       "      <td>Alabama</td>\n",
       "      <td>Autauga</td>\n",
       "      <td>1</td>\n",
       "      <td>3373</td>\n",
       "      <td>1256</td>\n",
       "      <td>0</td>\n",
       "      <td>0</td>\n",
       "      <td>0.000000</td>\n",
       "      <td>0</td>\n",
       "      <td>...</td>\n",
       "      <td>439</td>\n",
       "      <td>2576</td>\n",
       "      <td>647</td>\n",
       "      <td>17</td>\n",
       "      <td>5</td>\n",
       "      <td>11</td>\n",
       "      <td>117</td>\n",
       "      <td>87</td>\n",
       "      <td>108</td>\n",
       "      <td>120</td>\n",
       "    </tr>\n",
       "    <tr>\n",
       "      <th>3</th>\n",
       "      <td>1001020400</td>\n",
       "      <td>Alabama</td>\n",
       "      <td>Autauga</td>\n",
       "      <td>1</td>\n",
       "      <td>4386</td>\n",
       "      <td>1722</td>\n",
       "      <td>0</td>\n",
       "      <td>0</td>\n",
       "      <td>0.000000</td>\n",
       "      <td>0</td>\n",
       "      <td>...</td>\n",
       "      <td>904</td>\n",
       "      <td>4086</td>\n",
       "      <td>193</td>\n",
       "      <td>18</td>\n",
       "      <td>4</td>\n",
       "      <td>11</td>\n",
       "      <td>74</td>\n",
       "      <td>85</td>\n",
       "      <td>19</td>\n",
       "      <td>82</td>\n",
       "    </tr>\n",
       "    <tr>\n",
       "      <th>4</th>\n",
       "      <td>1001020500</td>\n",
       "      <td>Alabama</td>\n",
       "      <td>Autauga</td>\n",
       "      <td>1</td>\n",
       "      <td>10766</td>\n",
       "      <td>4082</td>\n",
       "      <td>0</td>\n",
       "      <td>181</td>\n",
       "      <td>0.016812</td>\n",
       "      <td>0</td>\n",
       "      <td>...</td>\n",
       "      <td>1126</td>\n",
       "      <td>8666</td>\n",
       "      <td>1437</td>\n",
       "      <td>296</td>\n",
       "      <td>9</td>\n",
       "      <td>48</td>\n",
       "      <td>310</td>\n",
       "      <td>355</td>\n",
       "      <td>198</td>\n",
       "      <td>488</td>\n",
       "    </tr>\n",
       "  </tbody>\n",
       "</table>\n",
       "<p>5 rows × 147 columns</p>\n",
       "</div>"
      ],
      "text/plain": [
       "   CensusTract    State   County  Urban  POP2010  OHU2010  GroupQuartersFlag  \\\n",
       "0   1001020100  Alabama  Autauga      1     1912      693                  0   \n",
       "1   1001020200  Alabama  Autauga      1     2170      743                  0   \n",
       "2   1001020300  Alabama  Autauga      1     3373     1256                  0   \n",
       "3   1001020400  Alabama  Autauga      1     4386     1722                  0   \n",
       "4   1001020500  Alabama  Autauga      1    10766     4082                  0   \n",
       "\n",
       "   NUMGQTRS  PCTGQTRS  LILATracts_1And10  ...  TractSeniors  TractWhite  \\\n",
       "0         0  0.000000                  0  ...           221        1622   \n",
       "1       181  0.083410                  0  ...           214         888   \n",
       "2         0  0.000000                  0  ...           439        2576   \n",
       "3         0  0.000000                  0  ...           904        4086   \n",
       "4       181  0.016812                  0  ...          1126        8666   \n",
       "\n",
       "   TractBlack  TractAsian  TractNHOPI  TractAIAN  TractOMultir  TractHispanic  \\\n",
       "0         217          14           0         14            45             44   \n",
       "1        1217           5           0          5            55             75   \n",
       "2         647          17           5         11           117             87   \n",
       "3         193          18           4         11            74             85   \n",
       "4        1437         296           9         48           310            355   \n",
       "\n",
       "   TractHUNV  TractSNAP  \n",
       "0         26        112  \n",
       "1         87        202  \n",
       "2        108        120  \n",
       "3         19         82  \n",
       "4        198        488  \n",
       "\n",
       "[5 rows x 147 columns]"
      ]
     },
     "execution_count": 210,
     "metadata": {},
     "output_type": "execute_result"
    }
   ],
   "source": [
    "#Loading in the dataset\n",
    "df = pd.read_csv('food_access_research_atlas.csv')\n",
    "print(df.shape)\n",
    "df.head()"
   ]
  },
  {
   "cell_type": "markdown",
   "id": "3b928a21",
   "metadata": {},
   "source": [
    "This data frame displays the first five rows of data after loading the dataset from the source. "
   ]
  },
  {
   "cell_type": "markdown",
   "id": "ceab7420",
   "metadata": {},
   "source": [
    "\n",
    "---\n",
    "\n",
    "# Data Cleaning\n",
    "### National Data Cleaning"
   ]
  },
  {
   "cell_type": "markdown",
   "id": "b2a86855",
   "metadata": {},
   "source": [
    "After observing that there are 147 columns in this dataset, we decided to filter out only the columns relevant to our research question."
   ]
  },
  {
   "cell_type": "code",
   "execution_count": 211,
   "id": "a6457af0",
   "metadata": {},
   "outputs": [
    {
     "name": "stdout",
     "output_type": "stream",
     "text": [
      "Returning data to local variable half\n",
      "Returning data to local variable one\n",
      "Returning data to local variable ten\n",
      "Returning data to local variable twenty\n"
     ]
    }
   ],
   "source": [
    "#Filtering out the columns that are of interest to the research question from the dataset\n",
    "%sql half << SELECT State, County, lawhitehalf as White, lablackhalf as Black, laasianhalf as Asian,\\\n",
    "lanhopihalf as Pacific_Islander, laaianhalf as American_Indian, laomultirhalf as Other, lahisphalf as Hispanic FROM df\n",
    "%sql one << SELECT State, County, lawhite1 as White, lablack1 as Black, laasian1 as Asian,\\\n",
    "lanhopi1 as Pacific_Islander, laaian1 as American_Indian, laomultir1 as Other, lahisp1 as Hispanic FROM df\n",
    "%sql ten << SELECT State, County, lawhite10 as White, lablack10 as Black, laasian10 as Asian,\\\n",
    "lanhopi10 as Pacific_Islander, laaian10 as American_Indian, laomultir10 as Other, lahisp10 as Hispanic FROM df\n",
    "%sql twenty << SELECT State, County, lawhite20 as White, lablack20 as Black, laasian20 as Asian,\\\n",
    "lanhopi20 as Pacific_Islander, laaian20 as American_Indian, laomultir20 as Other, lahisp20 as Hispanic FROM df"
   ]
  },
  {
   "cell_type": "markdown",
   "id": "4cf41c4d",
   "metadata": {},
   "source": [
    "We seperated out the original data into four smaller dataframes that represents the population of the people living that many miles or further away from the nearest supermarket. Below, we simply melted the dataframe to make it easier to plot using seaborn package."
   ]
  },
  {
   "cell_type": "code",
   "execution_count": 212,
   "id": "0fe6185f",
   "metadata": {},
   "outputs": [
    {
     "data": {
      "text/html": [
       "<div>\n",
       "<style scoped>\n",
       "    .dataframe tbody tr th:only-of-type {\n",
       "        vertical-align: middle;\n",
       "    }\n",
       "\n",
       "    .dataframe tbody tr th {\n",
       "        vertical-align: top;\n",
       "    }\n",
       "\n",
       "    .dataframe thead th {\n",
       "        text-align: right;\n",
       "    }\n",
       "</style>\n",
       "<table border=\"1\" class=\"dataframe\">\n",
       "  <thead>\n",
       "    <tr style=\"text-align: right;\">\n",
       "      <th></th>\n",
       "      <th>Race</th>\n",
       "      <th>HalfMile</th>\n",
       "      <th>OneMile</th>\n",
       "      <th>TenMiles</th>\n",
       "      <th>TwentyMiles</th>\n",
       "    </tr>\n",
       "  </thead>\n",
       "  <tbody>\n",
       "    <tr>\n",
       "      <th>0</th>\n",
       "      <td>American_Indian</td>\n",
       "      <td>2.159289e+06</td>\n",
       "      <td>1.466854e+06</td>\n",
       "      <td>3.385671e+05</td>\n",
       "      <td>154033.742896</td>\n",
       "    </tr>\n",
       "    <tr>\n",
       "      <th>1</th>\n",
       "      <td>Asian</td>\n",
       "      <td>7.930698e+06</td>\n",
       "      <td>3.113423e+06</td>\n",
       "      <td>2.297992e+04</td>\n",
       "      <td>3825.977523</td>\n",
       "    </tr>\n",
       "    <tr>\n",
       "      <th>2</th>\n",
       "      <td>Black</td>\n",
       "      <td>2.437161e+07</td>\n",
       "      <td>1.129574e+07</td>\n",
       "      <td>3.393879e+05</td>\n",
       "      <td>6923.342056</td>\n",
       "    </tr>\n",
       "    <tr>\n",
       "      <th>3</th>\n",
       "      <td>Hispanic</td>\n",
       "      <td>2.771349e+07</td>\n",
       "      <td>1.177554e+07</td>\n",
       "      <td>3.906380e+05</td>\n",
       "      <td>69964.466858</td>\n",
       "    </tr>\n",
       "    <tr>\n",
       "      <th>4</th>\n",
       "      <td>Other</td>\n",
       "      <td>1.551538e+07</td>\n",
       "      <td>6.789885e+06</td>\n",
       "      <td>2.397046e+05</td>\n",
       "      <td>37668.043287</td>\n",
       "    </tr>\n",
       "    <tr>\n",
       "      <th>5</th>\n",
       "      <td>Pacific_Islander</td>\n",
       "      <td>3.298089e+05</td>\n",
       "      <td>1.577236e+05</td>\n",
       "      <td>4.905566e+03</td>\n",
       "      <td>735.266505</td>\n",
       "    </tr>\n",
       "    <tr>\n",
       "      <th>6</th>\n",
       "      <td>White</td>\n",
       "      <td>1.657078e+08</td>\n",
       "      <td>1.007398e+08</td>\n",
       "      <td>4.312731e+06</td>\n",
       "      <td>431478.337847</td>\n",
       "    </tr>\n",
       "  </tbody>\n",
       "</table>\n",
       "</div>"
      ],
      "text/plain": [
       "               Race      HalfMile       OneMile      TenMiles    TwentyMiles\n",
       "0   American_Indian  2.159289e+06  1.466854e+06  3.385671e+05  154033.742896\n",
       "1             Asian  7.930698e+06  3.113423e+06  2.297992e+04    3825.977523\n",
       "2             Black  2.437161e+07  1.129574e+07  3.393879e+05    6923.342056\n",
       "3          Hispanic  2.771349e+07  1.177554e+07  3.906380e+05   69964.466858\n",
       "4             Other  1.551538e+07  6.789885e+06  2.397046e+05   37668.043287\n",
       "5  Pacific_Islander  3.298089e+05  1.577236e+05  4.905566e+03     735.266505\n",
       "6             White  1.657078e+08  1.007398e+08  4.312731e+06  431478.337847"
      ]
     },
     "execution_count": 212,
     "metadata": {},
     "output_type": "execute_result"
    }
   ],
   "source": [
    "# Cleaning and rearranging the data to make it easier to work with\n",
    "cleaned_half = pd.melt(half, id_vars =['State','County'], var_name='Race', value_name='Population').groupby('Race').sum().reset_index()\n",
    "cleaned_one = pd.melt(one, id_vars =['State','County'], var_name='Race', value_name='Population').groupby('Race').sum().reset_index()\n",
    "cleaned_ten = pd.melt(ten, id_vars =['State','County'], var_name='Race', value_name='Population').groupby('Race').sum().reset_index()\n",
    "cleaned_twenty = pd.melt(twenty, id_vars =['State','County'], var_name='Race', value_name='Population').groupby('Race').sum().reset_index()\n",
    "\n",
    "pop_at_each_dist = pd.DataFrame({'Race':cleaned_half['Race'], 'HalfMile':cleaned_half['Population'], \\\n",
    "'OneMile':cleaned_one['Population'],'TenMiles':cleaned_ten['Population'],'TwentyMiles':cleaned_twenty['Population']})\n",
    "pop_at_each_dist.to_csv('pop_at_each_dist.csv')\n",
    "\n",
    "pop_at_each_dist"
   ]
  },
  {
   "cell_type": "markdown",
   "id": "aecf5873",
   "metadata": {},
   "source": [
    "As mentioned above, this is the filtered data frame containing the population of each race at the various distances."
   ]
  },
  {
   "cell_type": "code",
   "execution_count": 213,
   "id": "703da0b9",
   "metadata": {},
   "outputs": [
    {
     "data": {
      "image/png": "[encoded data removed]",
      "text/plain": [
       "<Figure size 432x288 with 1 Axes>"
      ]
     },
     "metadata": {
      "needs_background": "light"
     },
     "output_type": "display_data"
    }
   ],
   "source": [
    "# Visualize population distrbution at each distances\n",
    "pop_at_each_dist_melted = pd.melt(pop_at_each_dist, id_vars='Race', var_name='Distance_away', value_name='Population')\n",
    "sns.barplot(data=pop_at_each_dist_melted,x='Distance_away', y='Population', hue='Race').set(title='Population Count By Race in each Distance Tract: USA')\n",
    "plt.show()"
   ]
  },
  {
   "cell_type": "markdown",
   "id": "19725450",
   "metadata": {},
   "source": [
    "This bar graph displays the population of each race in the US, as highlighted in the legend, in terms of distances from a supermarket."
   ]
  },
  {
   "cell_type": "markdown",
   "id": "89985ab2",
   "metadata": {},
   "source": [
    "We also wanted to know the total population we are working with grouped by race so we extracted the population data below."
   ]
  },
  {
   "cell_type": "code",
   "execution_count": 214,
   "id": "4cb8abfa",
   "metadata": {},
   "outputs": [
    {
     "name": "stdout",
     "output_type": "stream",
     "text": [
      "Returning data to local variable total_population\n"
     ]
    },
    {
     "data": {
      "text/html": [
       "<div>\n",
       "<style scoped>\n",
       "    .dataframe tbody tr th:only-of-type {\n",
       "        vertical-align: middle;\n",
       "    }\n",
       "\n",
       "    .dataframe tbody tr th {\n",
       "        vertical-align: top;\n",
       "    }\n",
       "\n",
       "    .dataframe thead th {\n",
       "        text-align: right;\n",
       "    }\n",
       "</style>\n",
       "<table border=\"1\" class=\"dataframe\">\n",
       "  <thead>\n",
       "    <tr style=\"text-align: right;\">\n",
       "      <th></th>\n",
       "      <th>Race</th>\n",
       "      <th>Population</th>\n",
       "    </tr>\n",
       "  </thead>\n",
       "  <tbody>\n",
       "    <tr>\n",
       "      <th>0</th>\n",
       "      <td>American_Indian</td>\n",
       "      <td>2932248</td>\n",
       "    </tr>\n",
       "    <tr>\n",
       "      <th>1</th>\n",
       "      <td>Asian</td>\n",
       "      <td>14674252</td>\n",
       "    </tr>\n",
       "    <tr>\n",
       "      <th>2</th>\n",
       "      <td>Black</td>\n",
       "      <td>38929319</td>\n",
       "    </tr>\n",
       "    <tr>\n",
       "      <th>3</th>\n",
       "      <td>Hispanic</td>\n",
       "      <td>50477594</td>\n",
       "    </tr>\n",
       "    <tr>\n",
       "      <th>4</th>\n",
       "      <td>Other</td>\n",
       "      <td>28116441</td>\n",
       "    </tr>\n",
       "    <tr>\n",
       "      <th>5</th>\n",
       "      <td>Pacific_Islander</td>\n",
       "      <td>540013</td>\n",
       "    </tr>\n",
       "    <tr>\n",
       "      <th>6</th>\n",
       "      <td>White</td>\n",
       "      <td>223553265</td>\n",
       "    </tr>\n",
       "  </tbody>\n",
       "</table>\n",
       "</div>"
      ],
      "text/plain": [
       "               Race  Population\n",
       "0   American_Indian     2932248\n",
       "1             Asian    14674252\n",
       "2             Black    38929319\n",
       "3          Hispanic    50477594\n",
       "4             Other    28116441\n",
       "5  Pacific_Islander      540013\n",
       "6             White   223553265"
      ]
     },
     "execution_count": 214,
     "metadata": {},
     "output_type": "execute_result"
    }
   ],
   "source": [
    "# Getting the total population of different races in the US from the original dataset\n",
    "%sql total_population << SELECT TractWhite AS White,TractBlack AS Black, TractAsian AS Asian, TractNHOPI AS Pacific_Islander, \\\n",
    "TractAIAN AS American_Indian, TractOMultir AS Other, TractHispanic AS Hispanic FROM df\n",
    "\n",
    "total_population = pd.melt(total_population, var_name='Race', value_name='Population').groupby('Race').sum().reset_index()\n",
    "total_population.to_csv('total_population_df.csv')\n",
    "\n",
    "total_population"
   ]
  },
  {
   "cell_type": "markdown",
   "id": "f203820f",
   "metadata": {},
   "source": [
    "As mentioned above, this data frame represents the total population for each race in the US, as accounted by this dataset."
   ]
  },
  {
   "cell_type": "code",
   "execution_count": 215,
   "id": "d184910e",
   "metadata": {},
   "outputs": [
    {
     "data": {
      "image/png": "[encoded data removed]",
      "text/plain": [
       "<Figure size 432x288 with 1 Axes>"
      ]
     },
     "metadata": {
      "needs_background": "light"
     },
     "output_type": "display_data"
    }
   ],
   "source": [
    "# Visualize population distribution across races\n",
    "sns.barplot(data=total_population,x='Race', y='Population').set(title='Population Count by Race: USA')\n",
    "plt.show()"
   ]
  },
  {
   "cell_type": "markdown",
   "id": "e84b588c",
   "metadata": {},
   "source": [
    "This bar graph showcases the population of each race in the US. As seen, the white population is the highest racial group. "
   ]
  },
  {
   "cell_type": "markdown",
   "id": "f7f3f02a",
   "metadata": {},
   "source": [
    "### NY Data Cleaning"
   ]
  },
  {
   "cell_type": "code",
   "execution_count": 216,
   "id": "60d84948",
   "metadata": {},
   "outputs": [
    {
     "name": "stdout",
     "output_type": "stream",
     "text": [
      "Returning data to local variable ny_half\n",
      "Returning data to local variable ny_one\n",
      "Returning data to local variable ny_ten\n",
      "Returning data to local variable ny_twenty\n"
     ]
    },
    {
     "data": {
      "text/html": [
       "<div>\n",
       "<style scoped>\n",
       "    .dataframe tbody tr th:only-of-type {\n",
       "        vertical-align: middle;\n",
       "    }\n",
       "\n",
       "    .dataframe tbody tr th {\n",
       "        vertical-align: top;\n",
       "    }\n",
       "\n",
       "    .dataframe thead th {\n",
       "        text-align: right;\n",
       "    }\n",
       "</style>\n",
       "<table border=\"1\" class=\"dataframe\">\n",
       "  <thead>\n",
       "    <tr style=\"text-align: right;\">\n",
       "      <th></th>\n",
       "      <th>Race</th>\n",
       "      <th>HalfMile</th>\n",
       "      <th>OneMile</th>\n",
       "      <th>TenMiles</th>\n",
       "      <th>TwentyMiles</th>\n",
       "    </tr>\n",
       "  </thead>\n",
       "  <tbody>\n",
       "    <tr>\n",
       "      <th>0</th>\n",
       "      <td>American_Indian</td>\n",
       "      <td>3.455974e+04</td>\n",
       "      <td>2.110377e+04</td>\n",
       "      <td>787.270739</td>\n",
       "      <td>1.000088</td>\n",
       "    </tr>\n",
       "    <tr>\n",
       "      <th>1</th>\n",
       "      <td>Asian</td>\n",
       "      <td>2.628393e+05</td>\n",
       "      <td>9.479964e+04</td>\n",
       "      <td>346.265939</td>\n",
       "      <td>0.000265</td>\n",
       "    </tr>\n",
       "    <tr>\n",
       "      <th>2</th>\n",
       "      <td>Black</td>\n",
       "      <td>5.924514e+05</td>\n",
       "      <td>1.717682e+05</td>\n",
       "      <td>2408.879887</td>\n",
       "      <td>0.715675</td>\n",
       "    </tr>\n",
       "    <tr>\n",
       "      <th>3</th>\n",
       "      <td>Hispanic</td>\n",
       "      <td>6.036213e+05</td>\n",
       "      <td>2.148840e+05</td>\n",
       "      <td>2023.171552</td>\n",
       "      <td>4.505039</td>\n",
       "    </tr>\n",
       "    <tr>\n",
       "      <th>4</th>\n",
       "      <td>Other</td>\n",
       "      <td>3.583624e+05</td>\n",
       "      <td>1.331233e+05</td>\n",
       "      <td>1583.693025</td>\n",
       "      <td>2.110698</td>\n",
       "    </tr>\n",
       "    <tr>\n",
       "      <th>5</th>\n",
       "      <td>Pacific_Islander</td>\n",
       "      <td>2.482825e+03</td>\n",
       "      <td>1.263375e+03</td>\n",
       "      <td>27.135887</td>\n",
       "      <td>0.000000</td>\n",
       "    </tr>\n",
       "    <tr>\n",
       "      <th>6</th>\n",
       "      <td>White</td>\n",
       "      <td>6.927099e+06</td>\n",
       "      <td>4.036151e+06</td>\n",
       "      <td>82422.596879</td>\n",
       "      <td>372.440094</td>\n",
       "    </tr>\n",
       "  </tbody>\n",
       "</table>\n",
       "</div>"
      ],
      "text/plain": [
       "               Race      HalfMile       OneMile      TenMiles  TwentyMiles\n",
       "0   American_Indian  3.455974e+04  2.110377e+04    787.270739     1.000088\n",
       "1             Asian  2.628393e+05  9.479964e+04    346.265939     0.000265\n",
       "2             Black  5.924514e+05  1.717682e+05   2408.879887     0.715675\n",
       "3          Hispanic  6.036213e+05  2.148840e+05   2023.171552     4.505039\n",
       "4             Other  3.583624e+05  1.331233e+05   1583.693025     2.110698\n",
       "5  Pacific_Islander  2.482825e+03  1.263375e+03     27.135887     0.000000\n",
       "6             White  6.927099e+06  4.036151e+06  82422.596879   372.440094"
      ]
     },
     "execution_count": 216,
     "metadata": {},
     "output_type": "execute_result"
    }
   ],
   "source": [
    "%sql ny_half << SELECT State, County, lawhitehalf as White, lablackhalf as Black, laasianhalf as Asian,\\\n",
    "lanhopihalf as Pacific_Islander, laaianhalf as American_Indian, laomultirhalf as Other, lahisphalf \\\n",
    "as Hispanic FROM df WHERE State = 'New York'\n",
    "%sql ny_one << SELECT State, County, lawhite1 as White, lablack1 as Black, laasian1 as Asian,\\\n",
    "lanhopi1 as Pacific_Islander, laaian1 as American_Indian, laomultir1 as Other, lahisp1 as Hispanic \\\n",
    "FROM df WHERE State = 'New York'\n",
    "%sql ny_ten << SELECT State, County, lawhite10 as White, lablack10 as Black, laasian10 as Asian,\\\n",
    "lanhopi10 as Pacific_Islander, laaian10 as American_Indian, laomultir10 as Other, lahisp10 as Hispanic FROM df \\\n",
    "WHERE State = 'New York'\n",
    "%sql ny_twenty << SELECT State, County, lawhite20 as White, lablack20 as Black, laasian20 as Asian,\\\n",
    "lanhopi20 as Pacific_Islander, laaian20 as American_Indian, laomultir20 as Other, lahisp20 as Hispanic FROM df \\\n",
    "WHERE State = 'New York'\n",
    "\n",
    "cleaned_ny_half = pd.melt(ny_half, id_vars =['State','County'], var_name='Race', value_name='Population').groupby('Race').sum().reset_index()\n",
    "cleaned_ny_one = pd.melt(ny_one, id_vars =['State','County'], var_name='Race', value_name='Population').groupby('Race').sum().reset_index()\n",
    "cleaned_ny_ten = pd.melt(ny_ten, id_vars =['State','County'], var_name='Race', value_name='Population').groupby('Race').sum().reset_index()\n",
    "cleaned_ny_twenty = pd.melt(ny_twenty, id_vars =['State','County'], var_name='Race', value_name='Population').groupby('Race').sum().reset_index()\n",
    "\n",
    "ny_pop_at_each_dist = pd.DataFrame({'Race':cleaned_ny_half['Race'], 'HalfMile':cleaned_ny_half['Population'], \\\n",
    "'OneMile':cleaned_ny_one['Population'],'TenMiles':cleaned_ny_ten['Population'],'TwentyMiles':cleaned_ny_twenty['Population']})\n",
    "ny_pop_at_each_dist.to_csv('ny_pop_at_each_dist.csv')\n",
    "ny_pop_at_each_dist"
   ]
  },
  {
   "cell_type": "markdown",
   "id": "8bfac007",
   "metadata": {},
   "source": [
    "This data frame drops several columns and cleans the data to keep the relevant columns to our dataset and to New York. We renamed the race variables to make the race in question more clear. We also used the melt function to aggregate all the distances from a food desert into one column. This data frame displays the columns in terms of New York, which are race and the population counts by various distances."
   ]
  },
  {
   "cell_type": "code",
   "execution_count": 130,
   "id": "f2442a6c",
   "metadata": {
    "scrolled": false
   },
   "outputs": [
    {
     "data": {
      "image/png": "[encoded data removed]",
      "text/plain": [
       "<Figure size 432x288 with 1 Axes>"
      ]
     },
     "metadata": {
      "needs_background": "light"
     },
     "output_type": "display_data"
    }
   ],
   "source": [
    "# New York \n",
    "ny_pop_at_each_dist_melted = pd.melt(ny_pop_at_each_dist, id_vars='Race', var_name='Distance_away', value_name='Population')\n",
    "sns.barplot(data=ny_pop_at_each_dist_melted,x='Distance_away', y='Population', hue='Race')\\\n",
    ".set(title='Population Count by Race in each Distance Tract: NY State')\n",
    "plt.show()"
   ]
  },
  {
   "cell_type": "markdown",
   "id": "712dc9f4",
   "metadata": {},
   "source": [
    "This bar graph display the population of each race within the state of NY, as highlighted in the legend, in terms of distances from a supermarket. "
   ]
  },
  {
   "cell_type": "code",
   "execution_count": 131,
   "id": "6095e360",
   "metadata": {
    "scrolled": true
   },
   "outputs": [
    {
     "name": "stdout",
     "output_type": "stream",
     "text": [
      "Returning data to local variable ny_total_population\n"
     ]
    },
    {
     "data": {
      "text/html": [
       "<div>\n",
       "<style scoped>\n",
       "    .dataframe tbody tr th:only-of-type {\n",
       "        vertical-align: middle;\n",
       "    }\n",
       "\n",
       "    .dataframe tbody tr th {\n",
       "        vertical-align: top;\n",
       "    }\n",
       "\n",
       "    .dataframe thead th {\n",
       "        text-align: right;\n",
       "    }\n",
       "</style>\n",
       "<table border=\"1\" class=\"dataframe\">\n",
       "  <thead>\n",
       "    <tr style=\"text-align: right;\">\n",
       "      <th></th>\n",
       "      <th>Race</th>\n",
       "      <th>Population</th>\n",
       "    </tr>\n",
       "  </thead>\n",
       "  <tbody>\n",
       "    <tr>\n",
       "      <th>0</th>\n",
       "      <td>American_Indian</td>\n",
       "      <td>106906</td>\n",
       "    </tr>\n",
       "    <tr>\n",
       "      <th>1</th>\n",
       "      <td>Asian</td>\n",
       "      <td>1420244</td>\n",
       "    </tr>\n",
       "    <tr>\n",
       "      <th>2</th>\n",
       "      <td>Black</td>\n",
       "      <td>3073800</td>\n",
       "    </tr>\n",
       "    <tr>\n",
       "      <th>3</th>\n",
       "      <td>Hispanic</td>\n",
       "      <td>3416922</td>\n",
       "    </tr>\n",
       "    <tr>\n",
       "      <th>4</th>\n",
       "      <td>Other</td>\n",
       "      <td>2027412</td>\n",
       "    </tr>\n",
       "    <tr>\n",
       "      <th>5</th>\n",
       "      <td>Pacific_Islander</td>\n",
       "      <td>8766</td>\n",
       "    </tr>\n",
       "    <tr>\n",
       "      <th>6</th>\n",
       "      <td>White</td>\n",
       "      <td>12740974</td>\n",
       "    </tr>\n",
       "  </tbody>\n",
       "</table>\n",
       "</div>"
      ],
      "text/plain": [
       "               Race  Population\n",
       "0   American_Indian      106906\n",
       "1             Asian     1420244\n",
       "2             Black     3073800\n",
       "3          Hispanic     3416922\n",
       "4             Other     2027412\n",
       "5  Pacific_Islander        8766\n",
       "6             White    12740974"
      ]
     },
     "execution_count": 131,
     "metadata": {},
     "output_type": "execute_result"
    }
   ],
   "source": [
    "# NY total population\n",
    "%sql ny_total_population << SELECT TractWhite AS White,TractBlack AS Black, TractAsian AS Asian, TractNHOPI AS Pacific_Islander, \\\n",
    "TractAIAN AS American_Indian, TractOMultir AS Other, TractHispanic AS Hispanic FROM df WHERE State = 'New York'\n",
    "\n",
    "ny_total_population = pd.melt(ny_total_population, var_name='Race', value_name='Population').groupby('Race').sum().reset_index()\n",
    "ny_total_population.to_csv('ny_total_population.csv')\n",
    "ny_total_population"
   ]
  },
  {
   "cell_type": "markdown",
   "id": "958dcc54",
   "metadata": {},
   "source": [
    "This data frame represents the total population of different races in New York from the original dataset."
   ]
  },
  {
   "cell_type": "code",
   "execution_count": 132,
   "id": "8ac8bb88",
   "metadata": {},
   "outputs": [
    {
     "data": {
      "image/png": "[encoded data removed]",
      "text/plain": [
       "<Figure size 432x288 with 1 Axes>"
      ]
     },
     "metadata": {
      "needs_background": "light"
     },
     "output_type": "display_data"
    }
   ],
   "source": [
    "# New York State population distribution\n",
    "sns.barplot(data=ny_total_population, x='Race', y='Population').set(title='Population Count by Race: NY State')\n",
    "plt.show()"
   ]
  },
  {
   "cell_type": "markdown",
   "id": "55becb3c",
   "metadata": {},
   "source": [
    "This bar graph display the population of each race in terms of New York State, as highlighted in the legend, in terms of distances from a supermarket. "
   ]
  },
  {
   "cell_type": "markdown",
   "id": "76197216",
   "metadata": {},
   "source": [
    "\n",
    "---\n",
    "\n",
    "# Data Description"
   ]
  },
  {
   "cell_type": "markdown",
   "id": "35b7fefb",
   "metadata": {},
   "source": [
    "### What are the observations (rows) and the attributes (columns)?\n",
    "The rows specify the 72864 different census-tracts in the entire nation with 4906 just in New York state. Out of total 147 columns, 28 provide data on racial distribution, namely counts within White populations, Black or African American populations, Asian populations, Native Hawaiian or Other Pacific Islander populations, American Indian or Alaska Native populations, Other/Multiple Race populations, and Hispanic or Latino populations beyond ½ mile, 1 mile, 10 miles, and 20 miles from the nearest supermarket.\n",
    "### Why was this dataset created?\n",
    "Food insecurity is a pertinent public health problem in the United States. This dataset aims to provide insights on access to food and map these measures to contextual census-tract-level characteristics.\n",
    "### Who funded the creation of the dataset?\n",
    "The Food Access Research Atlas is funded by the Economic Research Service (ERS) and U.S. Department of Agriculture (USDA). We are thankful for the collection and distribution of this data to enable us to conduct this analysis on food insecurity in the US. \n",
    "### What processes might have influenced what data was observed and recorded and what was not?\n",
    "The 2010 Census of Population and Housing and the 2019 STARS directory/2019 Trade Dimensions TDLinx directory are both comprehensive forms of data collection for populations and grocery store locations, respectively. However, the collection dates of 2010 and 2019 mean that more recent data about population movement and grocery store construction and demolition are not considered."
   ]
  },
  {
   "cell_type": "markdown",
   "id": "7cedfbd5",
   "metadata": {},
   "source": [
    "### What preprocessing was done, and how did the data come to be in the form that you are using?\n",
    "- In preprocessing, we dropped several columns that weren’t relevant to our analysis and included columns regarding country, state, and variables for the count of the low-access population of each race at beyond a distance of 0.5 miles, 1 miles, 10 miles, and 20 miles from a supermarket. The state and country were used as identifier variables. Several csv files were created to account for the variables for the count of the low-access population of each race at beyond a specific distance, country, and state. For example, the half_df.csv showcases a dataframe that has columns ‘Race’ and ‘Population’, referencing population count; this dataframe accounts for the count of each race beyond 0.5 miles away from a supermarket. We did note that for some dataframes, such as the 20 miles away, there were many 0s within the dataframe. We realized that this did not indicate missing data but it indicated that certain populations did not exist at a location at that distance. Therefore, we decided to account for these 0s within our dataset.\n",
    "- Furthermore, a dataframe, pop_at_each_dist, was created that aggregates the information of the dataframe at the various distances from the supermarket. It adds a column, named ‘Distance_away’, to the dataframe, in addition to the columns of ‘Race’ and ‘Population’, that enables viewers to understand the count of population of a certain race at a certain distance from the supermarket. \n",
    "- However, because the White race has a higher proportion of the population generally. We realized that the White population would then always be significantly higher across all distance tracts (0.5 miles, 1 mile, etc) in terms of food access. It was important to analyze each race in terms of their racial population; thus, we decided to compare the proportions of each race at each distance tract to analyze if a racial population has a statistically significant difference in terms of food access, compared to other racial populations. \n",
    "- To do this, we created a dataframe, total_population, to aggregate the total population of different races in the US after pulling data of the variables TractWhite, TractBlack, and so on for each race from the original dataset. \n",
    "- From there, we created the df, total_population_melted, which presents the data by unpivoting the Race column to become a column value, rather than the row format it was in the previous data frame. Moreover, the name ‘Population” was added to communicate that the numbers represented population per race. Thus, there are two columns “Race” and “Population” to showcase the population of each race in the US. \n",
    "- Now the data is set up to help get the proportions of each race. A proportion column was added to each corresponding distance and was calculated accordingly, by dividing the population count for that specific race at the specific distance by the total U.S. population. After, a melt processing occurred to create a new dataframe where this data was aggregated in a more succinct format with 3 columns: Race, Distance_away, and Proportion. This dataframe, prop_at_each_dist_melted, enabled creation of a corresponding data visualization.\n",
    "- Moreover, we realized that there may be overlap between these different tracts of low-access racial population counts. However, because we are determining if there is a statistically significant difference in low-access in terms of race, we can analyze each tract independently, such as looking at low-access population counts beyond 0.5 miles and beyond 1 miles. At this step, one is able to conduct analysis to determine if there is a statistically significant difference in food access between various races in the US total population. \n",
    "- In terms of analyzing New York, these aforementioned steps are repeated but are completed in terms of New York, meaning that there was filtering the data to keep only New York relevant data and in terms of population analysis, this was completed in terms of the New York State population. \n",
    "- After these steps, one is able to conduct analysis to determine if there is a statistically significant difference in food access between various races in the New York State population. This can then be compared to that of the United States population to determine whether the food access in New York State in terms of race reflects the national food access by race.  \n",
    "- The “raw” data was saved in addition to the every cleaned dataframe created within our GitHub repository, enabling users to access any data frame of their choice, raw or cleaned, that best suits their needs for any unanticipated future uses. This can be accessed at ‘https://github.coecis.cornell.edu/ch862/info2950-finalproject’ and are the various csv files within the repository.\n",
    "- Preprocessing was done on a Jupyter Notebook, utilizing Python, SQL, as well as the Python packages of pandas and seaborn. This can be accessed at our GitHub repository, ‘https://github.coecis.cornell.edu/ch862/info2950-finalproject’, in the file named ‘Phase Two.ipynb’.\n"
   ]
  },
  {
   "cell_type": "markdown",
   "id": "a4465996",
   "metadata": {},
   "source": [
    "### If people are involved, were they aware of the data collection and if so, what purpose did they expect the data to be used for?\n",
    "The data collected was demographic data on people and their proximity to food deserts. The people involved in the data collection from the Census are aware of the data collection as it is mandated that all residents in the United State must disclose information in the Census survey. As this Census information provides demographic information, they are aware that this data can be utlizied for other purposes in which the population is analyzed by area and demographic information, such as this food desert project. This logic can also applied from the data collection on income, vehicle availability, and SNAP from the 2014-18 American Community Survey as it was required by law and thus, people will be aware of the data collection and that it can be used for population analysis based on the data of the collected variables. The 2019 STARS directory/2019 Trade Dimensions TDLinx directory are directories of stores and thus, this question is not applicable as people were not involved in the data collection. \n",
    "### Where can your raw source data be found, if applicable? Provide a link to the raw data (hosted in a Cornell Google Drive or Cornell Box).\n",
    "The raw source data can be found within the following Cornell Google Drive link: https://drive.google.com/drive/folders/1BEDQN9lTk-JAM5VzSr7iSjpQ-JLpUUT6?usp=sharing\n"
   ]
  },
  {
   "cell_type": "markdown",
   "id": "e7846a74",
   "metadata": {},
   "source": [
    "\n",
    "---\n",
    "\n",
    "# Data Limitations"
   ]
  },
  {
   "cell_type": "markdown",
   "id": "41bd133e",
   "metadata": {},
   "source": [
    "The data we are using is pulled from the Food Access Research Atlas, which is a data set maintained by the Economic Research Service (ERS) and U.S. Department of Agriculture (USDA) (https://www.ers.usda.gov/data-products/food-access-research-atlas/documentation/#data).\n",
    "\n",
    "Below is information from the ERS regarding the sources of this data:\n",
    "- Population data on age, race, ethnicity, and residence in quarters are from the __2010 US Census__\n",
    "- Urban or rural residence data are from the __2019 US census__\n",
    "- Data on income, vehicle availability, and SNAP  are from the __2014-18 American Community Survey__\n",
    "- Supermarket/supercenter/grocery store data, meant to represent sources of \"affordable and nutritious food\" are from __two 2019 lists combined__: one list contains stores that receive SNAP benefits, and the other is from TDLinx.\n",
    "\n",
    "__Limitations:__\n",
    "1. All of the data is sourced from 2010-2019, thus, any conclusions or predictions we make will only apply to this time period.\n",
    "2. While the data is reliably sourced, it contains population data from 2010, which is somewhat outdated. Thus, if we are to make predictions, we must keep in mind that the models rely on some data collected over 10 years ago and do not account for today's population demographics.\n",
    "3. Data from the American Community Survey comes from a randomly selected sample of Americans, and it is likely that many Americans do not fill out the survey though it is \"required by law.\" Thus, the sample may be somewhat biased to Americans who are willing to or have the time to fill out a survey about their income and other resources. \n",
    "4. Our analysis (as of Phase II) will focus only on race, thus, we are ignoring the potential influence of intersectionality (income, gender, etc.) on food accessibility.  \n",
    "\n"
   ]
  },
  {
   "cell_type": "markdown",
   "id": "861ed115",
   "metadata": {},
   "source": [
    "\n",
    "--- \n",
    "\n",
    "# Pre-analysis Hypotheses"
   ]
  },
  {
   "cell_type": "markdown",
   "id": "31d2392a",
   "metadata": {},
   "source": [
    "Hypothesis 1: There will be a statistically significant difference in terms of food access among different racial groups.  \n",
    "Hypothesis 2: Food access levels across different races in New York State will not be a representative sample of national food access levels across different races.\n"
   ]
  },
  {
   "cell_type": "markdown",
   "id": "c090f1b9",
   "metadata": {},
   "source": [
    "\n",
    "---\n",
    "\n",
    "# Data Analysis"
   ]
  },
  {
   "cell_type": "markdown",
   "id": "a7361f8e",
   "metadata": {},
   "source": [
    "\n",
    "We found from our initial preprocessing that the White population greatly outnumbers the population of other races, streching the axis too much for us to make any notable observations about their distributions. To circumvent this issue, we will be focusing on the proportion of people in food desserts within the same race and then compare that ratio with the different races for both the nation as a whole and New York State."
   ]
  },
  {
   "cell_type": "markdown",
   "id": "9ada40ac",
   "metadata": {},
   "source": [
    "## National Analysis"
   ]
  },
  {
   "cell_type": "markdown",
   "id": "579daf0c",
   "metadata": {},
   "source": [
    "Below, we are simply calculating the proportion of people that lives certain miles away from a supermarket and creating a new dataframe."
   ]
  },
  {
   "cell_type": "code",
   "execution_count": 133,
   "id": "3105a7ed",
   "metadata": {},
   "outputs": [
    {
     "data": {
      "text/html": [
       "<div>\n",
       "<style scoped>\n",
       "    .dataframe tbody tr th:only-of-type {\n",
       "        vertical-align: middle;\n",
       "    }\n",
       "\n",
       "    .dataframe tbody tr th {\n",
       "        vertical-align: top;\n",
       "    }\n",
       "\n",
       "    .dataframe thead th {\n",
       "        text-align: right;\n",
       "    }\n",
       "</style>\n",
       "<table border=\"1\" class=\"dataframe\">\n",
       "  <thead>\n",
       "    <tr style=\"text-align: right;\">\n",
       "      <th></th>\n",
       "      <th>Race</th>\n",
       "      <th>HalfMile</th>\n",
       "      <th>HalfProportion</th>\n",
       "      <th>OneMile</th>\n",
       "      <th>OneProportion</th>\n",
       "      <th>TenMiles</th>\n",
       "      <th>TenProportion</th>\n",
       "      <th>TwentyMiles</th>\n",
       "      <th>TwentyProportion</th>\n",
       "    </tr>\n",
       "  </thead>\n",
       "  <tbody>\n",
       "    <tr>\n",
       "      <th>0</th>\n",
       "      <td>American_Indian</td>\n",
       "      <td>2.159289e+06</td>\n",
       "      <td>0.736394</td>\n",
       "      <td>1.466854e+06</td>\n",
       "      <td>0.500249</td>\n",
       "      <td>3.385671e+05</td>\n",
       "      <td>0.115463</td>\n",
       "      <td>154033.742896</td>\n",
       "      <td>0.052531</td>\n",
       "    </tr>\n",
       "    <tr>\n",
       "      <th>1</th>\n",
       "      <td>Asian</td>\n",
       "      <td>7.930698e+06</td>\n",
       "      <td>0.540450</td>\n",
       "      <td>3.113423e+06</td>\n",
       "      <td>0.212169</td>\n",
       "      <td>2.297992e+04</td>\n",
       "      <td>0.001566</td>\n",
       "      <td>3825.977523</td>\n",
       "      <td>0.000261</td>\n",
       "    </tr>\n",
       "    <tr>\n",
       "      <th>2</th>\n",
       "      <td>Black</td>\n",
       "      <td>2.437161e+07</td>\n",
       "      <td>0.626048</td>\n",
       "      <td>1.129574e+07</td>\n",
       "      <td>0.290160</td>\n",
       "      <td>3.393879e+05</td>\n",
       "      <td>0.008718</td>\n",
       "      <td>6923.342056</td>\n",
       "      <td>0.000178</td>\n",
       "    </tr>\n",
       "    <tr>\n",
       "      <th>3</th>\n",
       "      <td>Hispanic</td>\n",
       "      <td>2.771349e+07</td>\n",
       "      <td>0.549026</td>\n",
       "      <td>1.177554e+07</td>\n",
       "      <td>0.233282</td>\n",
       "      <td>3.906380e+05</td>\n",
       "      <td>0.007739</td>\n",
       "      <td>69964.466858</td>\n",
       "      <td>0.001386</td>\n",
       "    </tr>\n",
       "    <tr>\n",
       "      <th>4</th>\n",
       "      <td>Other</td>\n",
       "      <td>1.551538e+07</td>\n",
       "      <td>0.551826</td>\n",
       "      <td>6.789885e+06</td>\n",
       "      <td>0.241492</td>\n",
       "      <td>2.397046e+05</td>\n",
       "      <td>0.008525</td>\n",
       "      <td>37668.043287</td>\n",
       "      <td>0.001340</td>\n",
       "    </tr>\n",
       "    <tr>\n",
       "      <th>5</th>\n",
       "      <td>Pacific_Islander</td>\n",
       "      <td>3.298089e+05</td>\n",
       "      <td>0.610743</td>\n",
       "      <td>1.577236e+05</td>\n",
       "      <td>0.292074</td>\n",
       "      <td>4.905566e+03</td>\n",
       "      <td>0.009084</td>\n",
       "      <td>735.266505</td>\n",
       "      <td>0.001362</td>\n",
       "    </tr>\n",
       "    <tr>\n",
       "      <th>6</th>\n",
       "      <td>White</td>\n",
       "      <td>1.657078e+08</td>\n",
       "      <td>0.741245</td>\n",
       "      <td>1.007398e+08</td>\n",
       "      <td>0.450630</td>\n",
       "      <td>4.312731e+06</td>\n",
       "      <td>0.019292</td>\n",
       "      <td>431478.337847</td>\n",
       "      <td>0.001930</td>\n",
       "    </tr>\n",
       "  </tbody>\n",
       "</table>\n",
       "</div>"
      ],
      "text/plain": [
       "               Race      HalfMile  HalfProportion       OneMile  \\\n",
       "0   American_Indian  2.159289e+06        0.736394  1.466854e+06   \n",
       "1             Asian  7.930698e+06        0.540450  3.113423e+06   \n",
       "2             Black  2.437161e+07        0.626048  1.129574e+07   \n",
       "3          Hispanic  2.771349e+07        0.549026  1.177554e+07   \n",
       "4             Other  1.551538e+07        0.551826  6.789885e+06   \n",
       "5  Pacific_Islander  3.298089e+05        0.610743  1.577236e+05   \n",
       "6             White  1.657078e+08        0.741245  1.007398e+08   \n",
       "\n",
       "   OneProportion      TenMiles  TenProportion    TwentyMiles  TwentyProportion  \n",
       "0       0.500249  3.385671e+05       0.115463  154033.742896          0.052531  \n",
       "1       0.212169  2.297992e+04       0.001566    3825.977523          0.000261  \n",
       "2       0.290160  3.393879e+05       0.008718    6923.342056          0.000178  \n",
       "3       0.233282  3.906380e+05       0.007739   69964.466858          0.001386  \n",
       "4       0.241492  2.397046e+05       0.008525   37668.043287          0.001340  \n",
       "5       0.292074  4.905566e+03       0.009084     735.266505          0.001362  \n",
       "6       0.450630  4.312731e+06       0.019292  431478.337847          0.001930  "
      ]
     },
     "execution_count": 133,
     "metadata": {},
     "output_type": "execute_result"
    }
   ],
   "source": [
    "# Adding proportion column to dataframes of each distance\n",
    "cleaned_half['Proportion'] = cleaned_half['Population'] / total_population['Population']\n",
    "cleaned_one['Proportion'] = cleaned_one['Population'] / total_population['Population']\n",
    "cleaned_ten['Proportion'] = cleaned_ten['Population'] / total_population['Population']\n",
    "cleaned_twenty['Proportion'] = cleaned_twenty['Population'] / total_population['Population']\n",
    "\n",
    "# Combining four dataframes with the proportions into one dataframe that contains both population and proportion\n",
    "pop_prop_at_each_dist = pop_at_each_dist.copy() # Creating deep copy to not affect the previous dataset and corresponding graphs\n",
    "pop_prop_at_each_dist.insert(2, 'HalfProportion', cleaned_half['Proportion'])\n",
    "pop_prop_at_each_dist.insert(4, 'OneProportion', cleaned_one['Proportion'])\n",
    "pop_prop_at_each_dist.insert(6, 'TenProportion', cleaned_ten['Proportion'])\n",
    "pop_prop_at_each_dist.insert(8, 'TwentyProportion', cleaned_twenty['Proportion'])\n",
    "pop_prop_at_each_dist.to_csv('pop_prop_at_each_dist.csv')\n",
    "\n",
    "pop_prop_at_each_dist"
   ]
  },
  {
   "cell_type": "markdown",
   "id": "f30d4aba",
   "metadata": {},
   "source": [
    "As aforementioned, this data frame includes the proportion of the population for each distance tract, in addition to the previous population information it held."
   ]
  },
  {
   "cell_type": "code",
   "execution_count": 134,
   "id": "83f3c0aa",
   "metadata": {
    "scrolled": true
   },
   "outputs": [
    {
     "data": {
      "image/png": "[encoded data removed]",
      "text/plain": [
       "<Figure size 432x288 with 1 Axes>"
      ]
     },
     "metadata": {
      "needs_background": "light"
     },
     "output_type": "display_data"
    }
   ],
   "source": [
    "# Creating dataframe with only proportions at each distance\n",
    "prop_at_each_dist = pd.DataFrame({'Race':cleaned_half['Race'], 'HalfMile':cleaned_half['Proportion'], \\\n",
    "'OneMile':cleaned_one['Proportion'],'TenMiles':cleaned_ten['Proportion'],'TwentyMiles':cleaned_twenty['Proportion']})\n",
    "prop_at_each_dist.to_csv('prop_at_each_dist.csv')\n",
    "\n",
    "# Visualizing the racial distribution of proportions of food desserts at each distance\n",
    "prop_at_each_dist_melted = pd.melt(prop_at_each_dist, id_vars='Race', var_name='Distance_away', value_name='Proportion')\n",
    "sns.barplot(data=prop_at_each_dist_melted, x='Distance_away', y='Proportion', hue='Race').set(title='Proportion Count by Race for Each Distance Tract: USA')\n",
    "plt.show()"
   ]
  },
  {
   "cell_type": "markdown",
   "id": "39c0ba79",
   "metadata": {},
   "source": [
    "This bar graph displays the proportion of the population of each race at various distance tracts for the US. Here, we begin to notice how the American Indian and White population appear to have a higher proportion of people with lower access to supermarkets in each of the distances. "
   ]
  },
  {
   "cell_type": "code",
   "execution_count": 135,
   "id": "e639b11d",
   "metadata": {},
   "outputs": [
    {
     "data": {
      "image/png": "[encoded data removed]",
      "text/plain": [
       "<Figure size 432x288 with 2 Axes>"
      ]
     },
     "metadata": {
      "needs_background": "light"
     },
     "output_type": "display_data"
    }
   ],
   "source": [
    "pop_prop_at_each_dist_heatmap = pd.melt(pop_prop_at_each_dist.drop(columns=['HalfMile','OneMile','TenMiles','TwentyMiles']),\\\n",
    "                                        id_vars='Race', var_name = 'Distance', value_name='Proportion')\n",
    "heatmap_df = pop_prop_at_each_dist_heatmap.pivot(\"Race\", \"Distance\", \"Proportion\")\n",
    "ax = sns.heatmap(heatmap_df)\n",
    "plt.title(\"Proportion of Population at Various Distances by Race: US\")\n",
    "plt.show()"
   ]
  },
  {
   "cell_type": "markdown",
   "id": "52e5e231",
   "metadata": {},
   "source": [
    "This heatmap is another visualization of the proportions in terms of the US. We notice how the colors get darker as the distance increases. We will now try to dive deeper with the distributions within each distance below."
   ]
  },
  {
   "cell_type": "code",
   "execution_count": 136,
   "id": "374845d4",
   "metadata": {},
   "outputs": [
    {
     "data": {
      "image/png": "[encoded data removed]",
      "text/plain": [
       "<Figure size 432x288 with 1 Axes>"
      ]
     },
     "metadata": {
      "needs_background": "light"
     },
     "output_type": "display_data"
    }
   ],
   "source": [
    "sns.barplot(data=cleaned_half, x='Race', y='Proportion').set(title='Proportion Count by Race for Half Mile Tract: USA')\n",
    "plt.axhline(cleaned_half['Proportion'].mean())\n",
    "plt.show()"
   ]
  },
  {
   "cell_type": "markdown",
   "id": "6e55100b",
   "metadata": {},
   "source": [
    "This bar graph displays the proportion of each race in terms of the US population for those half a mile away from a supermarket. The blue horizontal line represents the national mean value of racial population proportion across all races for the half mile tract. As shown, American Indian and White is above the national mean while Black is at the national mean for food insecurity in this distance tract."
   ]
  },
  {
   "cell_type": "code",
   "execution_count": 137,
   "id": "d1556c18",
   "metadata": {},
   "outputs": [
    {
     "data": {
      "text/plain": [
       "<matplotlib.lines.Line2D at 0x7f8abaa842b0>"
      ]
     },
     "execution_count": 137,
     "metadata": {},
     "output_type": "execute_result"
    },
    {
     "data": {
      "image/png": "[encoded data removed]",
      "text/plain": [
       "<Figure size 432x288 with 1 Axes>"
      ]
     },
     "metadata": {
      "needs_background": "light"
     },
     "output_type": "display_data"
    }
   ],
   "source": [
    "sns.barplot(data=cleaned_one, x='Race', y='Proportion').set(title='Proportion Count by Race for One Mile Tract: USA')\n",
    "plt.axhline(cleaned_one['Proportion'].mean())"
   ]
  },
  {
   "cell_type": "markdown",
   "id": "ef045059",
   "metadata": {},
   "source": [
    "This bar graph displays the proportion of each race in terms of the US population for those one mile away from a supermarket. The blue horizontal line represents the national mean value of racial population proportion across all races for the one mile tract. As shown, American Indian and White is above the national mean for food insecurity in this distance tract."
   ]
  },
  {
   "cell_type": "code",
   "execution_count": 138,
   "id": "718c38ef",
   "metadata": {},
   "outputs": [
    {
     "data": {
      "text/plain": [
       "<matplotlib.lines.Line2D at 0x7f8ad6b77c40>"
      ]
     },
     "execution_count": 138,
     "metadata": {},
     "output_type": "execute_result"
    },
    {
     "data": {
      "image/png": "[encoded data removed]",
      "text/plain": [
       "<Figure size 432x288 with 1 Axes>"
      ]
     },
     "metadata": {
      "needs_background": "light"
     },
     "output_type": "display_data"
    }
   ],
   "source": [
    "sns.barplot(data=cleaned_ten, x='Race', y='Proportion').set(title='Proportion Count by Race for 10 Mile Tract: USA')\n",
    "plt.axhline(cleaned_ten['Proportion'].mean())"
   ]
  },
  {
   "cell_type": "markdown",
   "id": "a3a8d469",
   "metadata": {},
   "source": [
    "This bar graph displays the proportion of each race in terms of the US population for those ten miles away from a supermarket. The blue horizontal line represents the national mean value of racial population proportion across all races for the ten mile tract. As shown, American Indian is above the national mean for food insecurity in this distance tract."
   ]
  },
  {
   "cell_type": "code",
   "execution_count": 139,
   "id": "9865e958",
   "metadata": {},
   "outputs": [
    {
     "data": {
      "text/plain": [
       "<matplotlib.lines.Line2D at 0x7f8ad6b77a90>"
      ]
     },
     "execution_count": 139,
     "metadata": {},
     "output_type": "execute_result"
    },
    {
     "data": {
      "image/png": "[encoded data removed]",
      "text/plain": [
       "<Figure size 432x288 with 1 Axes>"
      ]
     },
     "metadata": {
      "needs_background": "light"
     },
     "output_type": "display_data"
    }
   ],
   "source": [
    "sns.barplot(data=cleaned_twenty, x='Race', y='Proportion').set(title='Proportion Count by Race for 20 Mile Tract: USA')\n",
    "plt.axhline(cleaned_twenty['Proportion'].mean())"
   ]
  },
  {
   "cell_type": "markdown",
   "id": "35767365",
   "metadata": {},
   "source": [
    "This bar graph displays the proportion of each race in terms of the US population for those twenty miles away from a supermarket. The blue horizontal line represents the national mean value of racial population proportion across all races for the twenty mile tracts. As shown, American Indian is above the national mean for food insecurity in this distance tract. "
   ]
  },
  {
   "cell_type": "markdown",
   "id": "bd365c8c",
   "metadata": {},
   "source": [
    "### Hypothesis Test"
   ]
  },
  {
   "cell_type": "code",
   "execution_count": 140,
   "id": "6b1a9ffe",
   "metadata": {},
   "outputs": [],
   "source": [
    "def get_p(dataframe, mean, std, trials=1000):\n",
    "    p_vals = np.array([])\n",
    "    samples = np.random.normal(mean, std, size=trials)\n",
    "    \n",
    "    sns.histplot(samples)\n",
    "    max_prop_index = dataframe['Proportion'].idxmax()\n",
    "    plt.axvline(dataframe['Proportion'][max_prop_index], label=dataframe['Race'][max_prop_index], c='r')\n",
    "    plt.legend(loc='upper left')\n",
    "\n",
    "    for stat in dataframe['Proportion']:\n",
    "        p_vals = np.append(p_vals, np.count_nonzero(samples>=stat)/trials)\n",
    "    \n",
    "    output = dataframe.copy()\n",
    "    output['p-val'] = p_vals\n",
    "    output['Significant'] = p_vals <=0.05\n",
    "    \n",
    "    return output"
   ]
  },
  {
   "cell_type": "code",
   "execution_count": 141,
   "id": "011913a5",
   "metadata": {
    "scrolled": true
   },
   "outputs": [
    {
     "data": {
      "text/html": [
       "<div>\n",
       "<style scoped>\n",
       "    .dataframe tbody tr th:only-of-type {\n",
       "        vertical-align: middle;\n",
       "    }\n",
       "\n",
       "    .dataframe tbody tr th {\n",
       "        vertical-align: top;\n",
       "    }\n",
       "\n",
       "    .dataframe thead th {\n",
       "        text-align: right;\n",
       "    }\n",
       "</style>\n",
       "<table border=\"1\" class=\"dataframe\">\n",
       "  <thead>\n",
       "    <tr style=\"text-align: right;\">\n",
       "      <th></th>\n",
       "      <th>Race</th>\n",
       "      <th>Population</th>\n",
       "      <th>Proportion</th>\n",
       "      <th>p-val</th>\n",
       "      <th>Significant</th>\n",
       "    </tr>\n",
       "  </thead>\n",
       "  <tbody>\n",
       "    <tr>\n",
       "      <th>0</th>\n",
       "      <td>American_Indian</td>\n",
       "      <td>2.159289e+06</td>\n",
       "      <td>0.736394</td>\n",
       "      <td>0.092</td>\n",
       "      <td>False</td>\n",
       "    </tr>\n",
       "    <tr>\n",
       "      <th>1</th>\n",
       "      <td>Asian</td>\n",
       "      <td>7.930698e+06</td>\n",
       "      <td>0.540450</td>\n",
       "      <td>0.828</td>\n",
       "      <td>False</td>\n",
       "    </tr>\n",
       "    <tr>\n",
       "      <th>2</th>\n",
       "      <td>Black</td>\n",
       "      <td>2.437161e+07</td>\n",
       "      <td>0.626048</td>\n",
       "      <td>0.457</td>\n",
       "      <td>False</td>\n",
       "    </tr>\n",
       "    <tr>\n",
       "      <th>3</th>\n",
       "      <td>Hispanic</td>\n",
       "      <td>2.771349e+07</td>\n",
       "      <td>0.549026</td>\n",
       "      <td>0.801</td>\n",
       "      <td>False</td>\n",
       "    </tr>\n",
       "    <tr>\n",
       "      <th>4</th>\n",
       "      <td>Other</td>\n",
       "      <td>1.551538e+07</td>\n",
       "      <td>0.551826</td>\n",
       "      <td>0.790</td>\n",
       "      <td>False</td>\n",
       "    </tr>\n",
       "    <tr>\n",
       "      <th>5</th>\n",
       "      <td>Pacific_Islander</td>\n",
       "      <td>3.298089e+05</td>\n",
       "      <td>0.610743</td>\n",
       "      <td>0.539</td>\n",
       "      <td>False</td>\n",
       "    </tr>\n",
       "    <tr>\n",
       "      <th>6</th>\n",
       "      <td>White</td>\n",
       "      <td>1.657078e+08</td>\n",
       "      <td>0.741245</td>\n",
       "      <td>0.078</td>\n",
       "      <td>False</td>\n",
       "    </tr>\n",
       "  </tbody>\n",
       "</table>\n",
       "</div>"
      ],
      "text/plain": [
       "               Race    Population  Proportion  p-val  Significant\n",
       "0   American_Indian  2.159289e+06    0.736394  0.092        False\n",
       "1             Asian  7.930698e+06    0.540450  0.828        False\n",
       "2             Black  2.437161e+07    0.626048  0.457        False\n",
       "3          Hispanic  2.771349e+07    0.549026  0.801        False\n",
       "4             Other  1.551538e+07    0.551826  0.790        False\n",
       "5  Pacific_Islander  3.298089e+05    0.610743  0.539        False\n",
       "6             White  1.657078e+08    0.741245  0.078        False"
      ]
     },
     "execution_count": 141,
     "metadata": {},
     "output_type": "execute_result"
    },
    {
     "data": {
      "image/png": "[encoded data removed]",
      "text/plain": [
       "<Figure size 432x288 with 1 Axes>"
      ]
     },
     "metadata": {
      "needs_background": "light"
     },
     "output_type": "display_data"
    }
   ],
   "source": [
    "half_prop_mean = cleaned_half['Proportion'].mean()\n",
    "half_prop_std = cleaned_half['Proportion'].std()\n",
    "\n",
    "half_prop_hypo = get_p(cleaned_half, half_prop_mean, half_prop_std)\n",
    "half_prop_hypo"
   ]
  },
  {
   "cell_type": "code",
   "execution_count": 142,
   "id": "31de975e",
   "metadata": {
    "scrolled": true
   },
   "outputs": [
    {
     "data": {
      "text/html": [
       "<div>\n",
       "<style scoped>\n",
       "    .dataframe tbody tr th:only-of-type {\n",
       "        vertical-align: middle;\n",
       "    }\n",
       "\n",
       "    .dataframe tbody tr th {\n",
       "        vertical-align: top;\n",
       "    }\n",
       "\n",
       "    .dataframe thead th {\n",
       "        text-align: right;\n",
       "    }\n",
       "</style>\n",
       "<table border=\"1\" class=\"dataframe\">\n",
       "  <thead>\n",
       "    <tr style=\"text-align: right;\">\n",
       "      <th></th>\n",
       "      <th>Race</th>\n",
       "      <th>Population</th>\n",
       "      <th>Proportion</th>\n",
       "      <th>p-val</th>\n",
       "      <th>Significant</th>\n",
       "    </tr>\n",
       "  </thead>\n",
       "  <tbody>\n",
       "    <tr>\n",
       "      <th>0</th>\n",
       "      <td>American_Indian</td>\n",
       "      <td>1.466854e+06</td>\n",
       "      <td>0.500249</td>\n",
       "      <td>0.042</td>\n",
       "      <td>True</td>\n",
       "    </tr>\n",
       "    <tr>\n",
       "      <th>1</th>\n",
       "      <td>Asian</td>\n",
       "      <td>3.113423e+06</td>\n",
       "      <td>0.212169</td>\n",
       "      <td>0.818</td>\n",
       "      <td>False</td>\n",
       "    </tr>\n",
       "    <tr>\n",
       "      <th>2</th>\n",
       "      <td>Black</td>\n",
       "      <td>1.129574e+07</td>\n",
       "      <td>0.290160</td>\n",
       "      <td>0.586</td>\n",
       "      <td>False</td>\n",
       "    </tr>\n",
       "    <tr>\n",
       "      <th>3</th>\n",
       "      <td>Hispanic</td>\n",
       "      <td>1.177554e+07</td>\n",
       "      <td>0.233282</td>\n",
       "      <td>0.760</td>\n",
       "      <td>False</td>\n",
       "    </tr>\n",
       "    <tr>\n",
       "      <th>4</th>\n",
       "      <td>Other</td>\n",
       "      <td>6.789885e+06</td>\n",
       "      <td>0.241492</td>\n",
       "      <td>0.743</td>\n",
       "      <td>False</td>\n",
       "    </tr>\n",
       "    <tr>\n",
       "      <th>5</th>\n",
       "      <td>Pacific_Islander</td>\n",
       "      <td>1.577236e+05</td>\n",
       "      <td>0.292074</td>\n",
       "      <td>0.579</td>\n",
       "      <td>False</td>\n",
       "    </tr>\n",
       "    <tr>\n",
       "      <th>6</th>\n",
       "      <td>White</td>\n",
       "      <td>1.007398e+08</td>\n",
       "      <td>0.450630</td>\n",
       "      <td>0.107</td>\n",
       "      <td>False</td>\n",
       "    </tr>\n",
       "  </tbody>\n",
       "</table>\n",
       "</div>"
      ],
      "text/plain": [
       "               Race    Population  Proportion  p-val  Significant\n",
       "0   American_Indian  1.466854e+06    0.500249  0.042         True\n",
       "1             Asian  3.113423e+06    0.212169  0.818        False\n",
       "2             Black  1.129574e+07    0.290160  0.586        False\n",
       "3          Hispanic  1.177554e+07    0.233282  0.760        False\n",
       "4             Other  6.789885e+06    0.241492  0.743        False\n",
       "5  Pacific_Islander  1.577236e+05    0.292074  0.579        False\n",
       "6             White  1.007398e+08    0.450630  0.107        False"
      ]
     },
     "execution_count": 142,
     "metadata": {},
     "output_type": "execute_result"
    },
    {
     "data": {
      "image/png": "[encoded data removed]",
      "text/plain": [
       "<Figure size 432x288 with 1 Axes>"
      ]
     },
     "metadata": {
      "needs_background": "light"
     },
     "output_type": "display_data"
    }
   ],
   "source": [
    "one_prop_mean = cleaned_one['Proportion'].mean()\n",
    "one_prop_std = cleaned_one['Proportion'].std()\n",
    "\n",
    "one_prop_hypo = get_p(cleaned_one, one_prop_mean, one_prop_std)\n",
    "one_prop_hypo"
   ]
  },
  {
   "cell_type": "code",
   "execution_count": 143,
   "id": "269512e5",
   "metadata": {
    "scrolled": true
   },
   "outputs": [
    {
     "data": {
      "text/html": [
       "<div>\n",
       "<style scoped>\n",
       "    .dataframe tbody tr th:only-of-type {\n",
       "        vertical-align: middle;\n",
       "    }\n",
       "\n",
       "    .dataframe tbody tr th {\n",
       "        vertical-align: top;\n",
       "    }\n",
       "\n",
       "    .dataframe thead th {\n",
       "        text-align: right;\n",
       "    }\n",
       "</style>\n",
       "<table border=\"1\" class=\"dataframe\">\n",
       "  <thead>\n",
       "    <tr style=\"text-align: right;\">\n",
       "      <th></th>\n",
       "      <th>Race</th>\n",
       "      <th>Population</th>\n",
       "      <th>Proportion</th>\n",
       "      <th>p-val</th>\n",
       "      <th>Significant</th>\n",
       "    </tr>\n",
       "  </thead>\n",
       "  <tbody>\n",
       "    <tr>\n",
       "      <th>0</th>\n",
       "      <td>American_Indian</td>\n",
       "      <td>3.385671e+05</td>\n",
       "      <td>0.115463</td>\n",
       "      <td>0.011</td>\n",
       "      <td>True</td>\n",
       "    </tr>\n",
       "    <tr>\n",
       "      <th>1</th>\n",
       "      <td>Asian</td>\n",
       "      <td>2.297992e+04</td>\n",
       "      <td>0.001566</td>\n",
       "      <td>0.708</td>\n",
       "      <td>False</td>\n",
       "    </tr>\n",
       "    <tr>\n",
       "      <th>2</th>\n",
       "      <td>Black</td>\n",
       "      <td>3.393879e+05</td>\n",
       "      <td>0.008718</td>\n",
       "      <td>0.642</td>\n",
       "      <td>False</td>\n",
       "    </tr>\n",
       "    <tr>\n",
       "      <th>3</th>\n",
       "      <td>Hispanic</td>\n",
       "      <td>3.906380e+05</td>\n",
       "      <td>0.007739</td>\n",
       "      <td>0.648</td>\n",
       "      <td>False</td>\n",
       "    </tr>\n",
       "    <tr>\n",
       "      <th>4</th>\n",
       "      <td>Other</td>\n",
       "      <td>2.397046e+05</td>\n",
       "      <td>0.008525</td>\n",
       "      <td>0.642</td>\n",
       "      <td>False</td>\n",
       "    </tr>\n",
       "    <tr>\n",
       "      <th>5</th>\n",
       "      <td>Pacific_Islander</td>\n",
       "      <td>4.905566e+03</td>\n",
       "      <td>0.009084</td>\n",
       "      <td>0.640</td>\n",
       "      <td>False</td>\n",
       "    </tr>\n",
       "    <tr>\n",
       "      <th>6</th>\n",
       "      <td>White</td>\n",
       "      <td>4.312731e+06</td>\n",
       "      <td>0.019292</td>\n",
       "      <td>0.527</td>\n",
       "      <td>False</td>\n",
       "    </tr>\n",
       "  </tbody>\n",
       "</table>\n",
       "</div>"
      ],
      "text/plain": [
       "               Race    Population  Proportion  p-val  Significant\n",
       "0   American_Indian  3.385671e+05    0.115463  0.011         True\n",
       "1             Asian  2.297992e+04    0.001566  0.708        False\n",
       "2             Black  3.393879e+05    0.008718  0.642        False\n",
       "3          Hispanic  3.906380e+05    0.007739  0.648        False\n",
       "4             Other  2.397046e+05    0.008525  0.642        False\n",
       "5  Pacific_Islander  4.905566e+03    0.009084  0.640        False\n",
       "6             White  4.312731e+06    0.019292  0.527        False"
      ]
     },
     "execution_count": 143,
     "metadata": {},
     "output_type": "execute_result"
    },
    {
     "data": {
      "image/png": "[encoded data removed]",
      "text/plain": [
       "<Figure size 432x288 with 1 Axes>"
      ]
     },
     "metadata": {
      "needs_background": "light"
     },
     "output_type": "display_data"
    }
   ],
   "source": [
    "ten_prop_mean = cleaned_ten['Proportion'].mean()\n",
    "ten_prop_std = cleaned_ten['Proportion'].std()\n",
    "\n",
    "ten_prop_hypo = get_p(cleaned_ten, ten_prop_mean, ten_prop_std)\n",
    "ten_prop_hypo"
   ]
  },
  {
   "cell_type": "code",
   "execution_count": 144,
   "id": "e91792e4",
   "metadata": {
    "scrolled": true
   },
   "outputs": [
    {
     "data": {
      "text/html": [
       "<div>\n",
       "<style scoped>\n",
       "    .dataframe tbody tr th:only-of-type {\n",
       "        vertical-align: middle;\n",
       "    }\n",
       "\n",
       "    .dataframe tbody tr th {\n",
       "        vertical-align: top;\n",
       "    }\n",
       "\n",
       "    .dataframe thead th {\n",
       "        text-align: right;\n",
       "    }\n",
       "</style>\n",
       "<table border=\"1\" class=\"dataframe\">\n",
       "  <thead>\n",
       "    <tr style=\"text-align: right;\">\n",
       "      <th></th>\n",
       "      <th>Race</th>\n",
       "      <th>Population</th>\n",
       "      <th>Proportion</th>\n",
       "      <th>p-val</th>\n",
       "      <th>Significant</th>\n",
       "    </tr>\n",
       "  </thead>\n",
       "  <tbody>\n",
       "    <tr>\n",
       "      <th>0</th>\n",
       "      <td>American_Indian</td>\n",
       "      <td>3.385671e+05</td>\n",
       "      <td>0.115463</td>\n",
       "      <td>0.013</td>\n",
       "      <td>True</td>\n",
       "    </tr>\n",
       "    <tr>\n",
       "      <th>1</th>\n",
       "      <td>Asian</td>\n",
       "      <td>2.297992e+04</td>\n",
       "      <td>0.001566</td>\n",
       "      <td>0.705</td>\n",
       "      <td>False</td>\n",
       "    </tr>\n",
       "    <tr>\n",
       "      <th>2</th>\n",
       "      <td>Black</td>\n",
       "      <td>3.393879e+05</td>\n",
       "      <td>0.008718</td>\n",
       "      <td>0.644</td>\n",
       "      <td>False</td>\n",
       "    </tr>\n",
       "    <tr>\n",
       "      <th>3</th>\n",
       "      <td>Hispanic</td>\n",
       "      <td>3.906380e+05</td>\n",
       "      <td>0.007739</td>\n",
       "      <td>0.656</td>\n",
       "      <td>False</td>\n",
       "    </tr>\n",
       "    <tr>\n",
       "      <th>4</th>\n",
       "      <td>Other</td>\n",
       "      <td>2.397046e+05</td>\n",
       "      <td>0.008525</td>\n",
       "      <td>0.648</td>\n",
       "      <td>False</td>\n",
       "    </tr>\n",
       "    <tr>\n",
       "      <th>5</th>\n",
       "      <td>Pacific_Islander</td>\n",
       "      <td>4.905566e+03</td>\n",
       "      <td>0.009084</td>\n",
       "      <td>0.643</td>\n",
       "      <td>False</td>\n",
       "    </tr>\n",
       "    <tr>\n",
       "      <th>6</th>\n",
       "      <td>White</td>\n",
       "      <td>4.312731e+06</td>\n",
       "      <td>0.019292</td>\n",
       "      <td>0.554</td>\n",
       "      <td>False</td>\n",
       "    </tr>\n",
       "  </tbody>\n",
       "</table>\n",
       "</div>"
      ],
      "text/plain": [
       "               Race    Population  Proportion  p-val  Significant\n",
       "0   American_Indian  3.385671e+05    0.115463  0.013         True\n",
       "1             Asian  2.297992e+04    0.001566  0.705        False\n",
       "2             Black  3.393879e+05    0.008718  0.644        False\n",
       "3          Hispanic  3.906380e+05    0.007739  0.656        False\n",
       "4             Other  2.397046e+05    0.008525  0.648        False\n",
       "5  Pacific_Islander  4.905566e+03    0.009084  0.643        False\n",
       "6             White  4.312731e+06    0.019292  0.554        False"
      ]
     },
     "execution_count": 144,
     "metadata": {},
     "output_type": "execute_result"
    },
    {
     "data": {
      "image/png": "[encoded data removed]",
      "text/plain": [
       "<Figure size 432x288 with 1 Axes>"
      ]
     },
     "metadata": {
      "needs_background": "light"
     },
     "output_type": "display_data"
    }
   ],
   "source": [
    "ten_prop_mean = cleaned_ten['Proportion'].mean()\n",
    "ten_prop_std = cleaned_ten['Proportion'].std()\n",
    "\n",
    "ten_prop_hypo = get_p(cleaned_ten, ten_prop_mean, ten_prop_std)\n",
    "ten_prop_hypo"
   ]
  },
  {
   "cell_type": "code",
   "execution_count": 145,
   "id": "7142506d",
   "metadata": {},
   "outputs": [
    {
     "data": {
      "text/html": [
       "<div>\n",
       "<style scoped>\n",
       "    .dataframe tbody tr th:only-of-type {\n",
       "        vertical-align: middle;\n",
       "    }\n",
       "\n",
       "    .dataframe tbody tr th {\n",
       "        vertical-align: top;\n",
       "    }\n",
       "\n",
       "    .dataframe thead th {\n",
       "        text-align: right;\n",
       "    }\n",
       "</style>\n",
       "<table border=\"1\" class=\"dataframe\">\n",
       "  <thead>\n",
       "    <tr style=\"text-align: right;\">\n",
       "      <th></th>\n",
       "      <th>Race</th>\n",
       "      <th>Population</th>\n",
       "      <th>Proportion</th>\n",
       "      <th>p-val</th>\n",
       "      <th>Significant</th>\n",
       "    </tr>\n",
       "  </thead>\n",
       "  <tbody>\n",
       "    <tr>\n",
       "      <th>0</th>\n",
       "      <td>American_Indian</td>\n",
       "      <td>154033.742896</td>\n",
       "      <td>0.052531</td>\n",
       "      <td>0.006</td>\n",
       "      <td>True</td>\n",
       "    </tr>\n",
       "    <tr>\n",
       "      <th>1</th>\n",
       "      <td>Asian</td>\n",
       "      <td>3825.977523</td>\n",
       "      <td>0.000261</td>\n",
       "      <td>0.649</td>\n",
       "      <td>False</td>\n",
       "    </tr>\n",
       "    <tr>\n",
       "      <th>2</th>\n",
       "      <td>Black</td>\n",
       "      <td>6923.342056</td>\n",
       "      <td>0.000178</td>\n",
       "      <td>0.650</td>\n",
       "      <td>False</td>\n",
       "    </tr>\n",
       "    <tr>\n",
       "      <th>3</th>\n",
       "      <td>Hispanic</td>\n",
       "      <td>69964.466858</td>\n",
       "      <td>0.001386</td>\n",
       "      <td>0.627</td>\n",
       "      <td>False</td>\n",
       "    </tr>\n",
       "    <tr>\n",
       "      <th>4</th>\n",
       "      <td>Other</td>\n",
       "      <td>37668.043287</td>\n",
       "      <td>0.001340</td>\n",
       "      <td>0.628</td>\n",
       "      <td>False</td>\n",
       "    </tr>\n",
       "    <tr>\n",
       "      <th>5</th>\n",
       "      <td>Pacific_Islander</td>\n",
       "      <td>735.266505</td>\n",
       "      <td>0.001362</td>\n",
       "      <td>0.628</td>\n",
       "      <td>False</td>\n",
       "    </tr>\n",
       "    <tr>\n",
       "      <th>6</th>\n",
       "      <td>White</td>\n",
       "      <td>431478.337847</td>\n",
       "      <td>0.001930</td>\n",
       "      <td>0.615</td>\n",
       "      <td>False</td>\n",
       "    </tr>\n",
       "  </tbody>\n",
       "</table>\n",
       "</div>"
      ],
      "text/plain": [
       "               Race     Population  Proportion  p-val  Significant\n",
       "0   American_Indian  154033.742896    0.052531  0.006         True\n",
       "1             Asian    3825.977523    0.000261  0.649        False\n",
       "2             Black    6923.342056    0.000178  0.650        False\n",
       "3          Hispanic   69964.466858    0.001386  0.627        False\n",
       "4             Other   37668.043287    0.001340  0.628        False\n",
       "5  Pacific_Islander     735.266505    0.001362  0.628        False\n",
       "6             White  431478.337847    0.001930  0.615        False"
      ]
     },
     "execution_count": 145,
     "metadata": {},
     "output_type": "execute_result"
    },
    {
     "data": {
      "image/png": "[encoded data removed]",
      "text/plain": [
       "<Figure size 432x288 with 1 Axes>"
      ]
     },
     "metadata": {
      "needs_background": "light"
     },
     "output_type": "display_data"
    }
   ],
   "source": [
    "twenty_prop_mean = cleaned_twenty['Proportion'].mean()\n",
    "twenty_prop_std = cleaned_twenty['Proportion'].std()\n",
    "\n",
    "twenty_prop_hypo = get_p(cleaned_twenty, twenty_prop_mean, twenty_prop_std)\n",
    "twenty_prop_hypo"
   ]
  },
  {
   "cell_type": "markdown",
   "id": "3c46ed83",
   "metadata": {},
   "source": [
    "From the above hypothesis tests, we can reject the null hypothesis that there is no inequality in terms of access to food being more than 10 miles away for the American Indian or Alaska native population. This probability is similar for tracks more than 20 miles away. This got us wondering if there is some underlying factor to explain for the higher proportion for the American Indian or Alaska native population specifically. Below, we will explore the dataset further to see if there is any relevant relationships with the American Indian or Alaska native population."
   ]
  },
  {
   "cell_type": "markdown",
   "id": "c3e08921",
   "metadata": {},
   "source": [
    "### American Indian or Alaska Native Population"
   ]
  },
  {
   "cell_type": "markdown",
   "id": "59d4ff51",
   "metadata": {},
   "source": [
    "We will begin by focusing down on tracts that have the greatest number of American Indian or Alaska native population. We will focus on tracts that are located 20 or more miles from a supermarket as this distance produced the largest difference between the mean and the observed proportion.\n"
   ]
  },
  {
   "cell_type": "code",
   "execution_count": 146,
   "id": "3b8fc416",
   "metadata": {},
   "outputs": [
    {
     "data": {
      "text/html": [
       "<div>\n",
       "<style scoped>\n",
       "    .dataframe tbody tr th:only-of-type {\n",
       "        vertical-align: middle;\n",
       "    }\n",
       "\n",
       "    .dataframe tbody tr th {\n",
       "        vertical-align: top;\n",
       "    }\n",
       "\n",
       "    .dataframe thead th {\n",
       "        text-align: right;\n",
       "    }\n",
       "</style>\n",
       "<table border=\"1\" class=\"dataframe\">\n",
       "  <thead>\n",
       "    <tr style=\"text-align: right;\">\n",
       "      <th></th>\n",
       "      <th>State</th>\n",
       "      <th>County</th>\n",
       "      <th>White</th>\n",
       "      <th>Black</th>\n",
       "      <th>Asian</th>\n",
       "      <th>Pacific_Islander</th>\n",
       "      <th>American_Indian</th>\n",
       "      <th>Other</th>\n",
       "      <th>Hispanic</th>\n",
       "    </tr>\n",
       "  </thead>\n",
       "  <tbody>\n",
       "    <tr>\n",
       "      <th>1180</th>\n",
       "      <td>Alaska</td>\n",
       "      <td>Aleutians West</td>\n",
       "      <td>289.000003</td>\n",
       "      <td>32.0</td>\n",
       "      <td>178.000006</td>\n",
       "      <td>7.0</td>\n",
       "      <td>588.999996</td>\n",
       "      <td>90.000000</td>\n",
       "      <td>60.00000</td>\n",
       "    </tr>\n",
       "    <tr>\n",
       "      <th>1237</th>\n",
       "      <td>Alaska</td>\n",
       "      <td>Bethel</td>\n",
       "      <td>217.393210</td>\n",
       "      <td>4.0</td>\n",
       "      <td>3.000000</td>\n",
       "      <td>3.0</td>\n",
       "      <td>6355.155568</td>\n",
       "      <td>113.262140</td>\n",
       "      <td>33.13107</td>\n",
       "    </tr>\n",
       "    <tr>\n",
       "      <th>1239</th>\n",
       "      <td>Alaska</td>\n",
       "      <td>Bethel</td>\n",
       "      <td>174.051484</td>\n",
       "      <td>5.0</td>\n",
       "      <td>1.000000</td>\n",
       "      <td>0.0</td>\n",
       "      <td>1146.999987</td>\n",
       "      <td>121.000000</td>\n",
       "      <td>10.00000</td>\n",
       "    </tr>\n",
       "    <tr>\n",
       "      <th>1242</th>\n",
       "      <td>Alaska</td>\n",
       "      <td>Dillingham</td>\n",
       "      <td>81.622131</td>\n",
       "      <td>2.0</td>\n",
       "      <td>0.000000</td>\n",
       "      <td>2.0</td>\n",
       "      <td>1489.000202</td>\n",
       "      <td>154.999997</td>\n",
       "      <td>24.00000</td>\n",
       "    </tr>\n",
       "    <tr>\n",
       "      <th>1264</th>\n",
       "      <td>Alaska</td>\n",
       "      <td>Hoonah-Angoon</td>\n",
       "      <td>2.298670</td>\n",
       "      <td>0.0</td>\n",
       "      <td>0.052098</td>\n",
       "      <td>0.0</td>\n",
       "      <td>4.019764</td>\n",
       "      <td>0.275501</td>\n",
       "      <td>0.00000</td>\n",
       "    </tr>\n",
       "  </tbody>\n",
       "</table>\n",
       "</div>"
      ],
      "text/plain": [
       "       State          County       White  Black       Asian  Pacific_Islander  \\\n",
       "1180  Alaska  Aleutians West  289.000003   32.0  178.000006               7.0   \n",
       "1237  Alaska          Bethel  217.393210    4.0    3.000000               3.0   \n",
       "1239  Alaska          Bethel  174.051484    5.0    1.000000               0.0   \n",
       "1242  Alaska      Dillingham   81.622131    2.0    0.000000               2.0   \n",
       "1264  Alaska   Hoonah-Angoon    2.298670    0.0    0.052098               0.0   \n",
       "\n",
       "      American_Indian       Other  Hispanic  \n",
       "1180       588.999996   90.000000  60.00000  \n",
       "1237      6355.155568  113.262140  33.13107  \n",
       "1239      1146.999987  121.000000  10.00000  \n",
       "1242      1489.000202  154.999997  24.00000  \n",
       "1264         4.019764    0.275501   0.00000  "
      ]
     },
     "execution_count": 146,
     "metadata": {},
     "output_type": "execute_result"
    }
   ],
   "source": [
    "# Filter tracts with greatest American Indian or Alaska native \n",
    "most_aian_tracts = (twenty.drop(columns=['State','County']).max(axis=1) == twenty['American_Indian']) & (twenty['American_Indian'] > 0)\n",
    "aian_twenty = twenty[most_aian_tracts]\n",
    "aian_twenty.head()"
   ]
  },
  {
   "cell_type": "code",
   "execution_count": 147,
   "id": "dc910c8d",
   "metadata": {
    "scrolled": true
   },
   "outputs": [
    {
     "data": {
      "text/plain": [
       "<AxesSubplot:xlabel='Count', ylabel='State'>"
      ]
     },
     "execution_count": 147,
     "metadata": {},
     "output_type": "execute_result"
    },
    {
     "data": {
      "image/png": "[encoded data removed]",
      "text/plain": [
       "<Figure size 432x288 with 1 Axes>"
      ]
     },
     "metadata": {
      "needs_background": "light"
     },
     "output_type": "display_data"
    }
   ],
   "source": [
    "# Visualize State distribution\n",
    "sns.histplot(aian_twenty, y='State')"
   ]
  },
  {
   "cell_type": "markdown",
   "id": "7ef6386f",
   "metadata": {},
   "source": [
    "From our initial observations, we can see that Arizona, New Mexico, Alaska, and South Dakota appear to be states with the greatest number of American Indian or Alaska native population tracts that are located 20 or more miles from a supermarket. We label a tract as American Indian or Alaska native population tract if the majority of the people that live 20 or more miles away from a supermarket belong to the American Indian or Alaska native population. "
   ]
  },
  {
   "cell_type": "markdown",
   "id": "0e525bd2",
   "metadata": {},
   "source": [
    "### Hypothesis Testing for Regression"
   ]
  },
  {
   "cell_type": "markdown",
   "id": "7697b7bc",
   "metadata": {},
   "source": [
    "In order to further anlayze if there is an underlying factor that might provide further insight to the extremely high rate of low access to supermarkets with the American Indian or Alaska native population, we will perform a hypothesis testing for regression to determine if there is a relationship between the American Indian or Alaska native population tracts and five features from the original dataset.  \n",
    "\n",
    "These five features are:  \n",
    "&emsp;-low income population  \n",
    "&emsp;-count of kids between 0-17  \n",
    "&emsp;-count of seniors above 65  \n",
    "&emsp;-count of housing units with no vehicle  \n",
    "&emsp;-count of housing units receiving SNAP benefits  \n",
    "\n",
    "Essentially, we will be performing a hypothesis test to determine if there is a relationship between any of these features with the tract being an American Indian or Alaska native population tract. "
   ]
  },
  {
   "cell_type": "code",
   "execution_count": 148,
   "id": "1a7aaa37",
   "metadata": {
    "scrolled": true
   },
   "outputs": [
    {
     "name": "stdout",
     "output_type": "stream",
     "text": [
      "Returning data to local variable reg_df\n"
     ]
    },
    {
     "data": {
      "text/html": [
       "<div>\n",
       "<style scoped>\n",
       "    .dataframe tbody tr th:only-of-type {\n",
       "        vertical-align: middle;\n",
       "    }\n",
       "\n",
       "    .dataframe tbody tr th {\n",
       "        vertical-align: top;\n",
       "    }\n",
       "\n",
       "    .dataframe thead th {\n",
       "        text-align: right;\n",
       "    }\n",
       "</style>\n",
       "<table border=\"1\" class=\"dataframe\">\n",
       "  <thead>\n",
       "    <tr style=\"text-align: right;\">\n",
       "      <th></th>\n",
       "      <th>State</th>\n",
       "      <th>County</th>\n",
       "      <th>LowIncome</th>\n",
       "      <th>Kids</th>\n",
       "      <th>Seniors</th>\n",
       "      <th>NoVehicle</th>\n",
       "      <th>SNAP</th>\n",
       "    </tr>\n",
       "  </thead>\n",
       "  <tbody>\n",
       "    <tr>\n",
       "      <th>0</th>\n",
       "      <td>Alabama</td>\n",
       "      <td>Autauga</td>\n",
       "      <td>448</td>\n",
       "      <td>507</td>\n",
       "      <td>221</td>\n",
       "      <td>26</td>\n",
       "      <td>112</td>\n",
       "    </tr>\n",
       "    <tr>\n",
       "      <th>1</th>\n",
       "      <td>Alabama</td>\n",
       "      <td>Autauga</td>\n",
       "      <td>763</td>\n",
       "      <td>606</td>\n",
       "      <td>214</td>\n",
       "      <td>87</td>\n",
       "      <td>202</td>\n",
       "    </tr>\n",
       "    <tr>\n",
       "      <th>2</th>\n",
       "      <td>Alabama</td>\n",
       "      <td>Autauga</td>\n",
       "      <td>1578</td>\n",
       "      <td>894</td>\n",
       "      <td>439</td>\n",
       "      <td>108</td>\n",
       "      <td>120</td>\n",
       "    </tr>\n",
       "    <tr>\n",
       "      <th>3</th>\n",
       "      <td>Alabama</td>\n",
       "      <td>Autauga</td>\n",
       "      <td>1241</td>\n",
       "      <td>1015</td>\n",
       "      <td>904</td>\n",
       "      <td>19</td>\n",
       "      <td>82</td>\n",
       "    </tr>\n",
       "    <tr>\n",
       "      <th>4</th>\n",
       "      <td>Alabama</td>\n",
       "      <td>Autauga</td>\n",
       "      <td>2692</td>\n",
       "      <td>3162</td>\n",
       "      <td>1126</td>\n",
       "      <td>198</td>\n",
       "      <td>488</td>\n",
       "    </tr>\n",
       "  </tbody>\n",
       "</table>\n",
       "</div>"
      ],
      "text/plain": [
       "     State   County  LowIncome  Kids  Seniors  NoVehicle  SNAP\n",
       "0  Alabama  Autauga        448   507      221         26   112\n",
       "1  Alabama  Autauga        763   606      214         87   202\n",
       "2  Alabama  Autauga       1578   894      439        108   120\n",
       "3  Alabama  Autauga       1241  1015      904         19    82\n",
       "4  Alabama  Autauga       2692  3162     1126        198   488"
      ]
     },
     "execution_count": 148,
     "metadata": {},
     "output_type": "execute_result"
    }
   ],
   "source": [
    "# Cleaning the dataframe to get only columns of interest\n",
    "%sql reg_df << SELECT State, County, TractLOWI AS LowIncome, TractKids AS Kids, TractSeniors AS Seniors, TractHUNV AS NoVehicle,\\\n",
    "TractSNAP AS SNAP FROM df \n",
    "reg_df.head()"
   ]
  },
  {
   "cell_type": "markdown",
   "id": "d0b425ac",
   "metadata": {},
   "source": [
    "In the above data frame, we are filtering out the feature variables (x) from the original dataset and also adding the boolean column (y)."
   ]
  },
  {
   "cell_type": "code",
   "execution_count": 149,
   "id": "bb3dfe91",
   "metadata": {},
   "outputs": [
    {
     "data": {
      "text/html": [
       "<div>\n",
       "<style scoped>\n",
       "    .dataframe tbody tr th:only-of-type {\n",
       "        vertical-align: middle;\n",
       "    }\n",
       "\n",
       "    .dataframe tbody tr th {\n",
       "        vertical-align: top;\n",
       "    }\n",
       "\n",
       "    .dataframe thead th {\n",
       "        text-align: right;\n",
       "    }\n",
       "</style>\n",
       "<table border=\"1\" class=\"dataframe\">\n",
       "  <thead>\n",
       "    <tr style=\"text-align: right;\">\n",
       "      <th></th>\n",
       "      <th>LowIncome</th>\n",
       "      <th>Kids</th>\n",
       "      <th>Seniors</th>\n",
       "      <th>NoVehicle</th>\n",
       "      <th>SNAP</th>\n",
       "    </tr>\n",
       "  </thead>\n",
       "  <tbody>\n",
       "    <tr>\n",
       "      <th>LowIncome</th>\n",
       "      <td>1.000000</td>\n",
       "      <td>0.581498</td>\n",
       "      <td>0.171391</td>\n",
       "      <td>0.324969</td>\n",
       "      <td>0.787675</td>\n",
       "    </tr>\n",
       "    <tr>\n",
       "      <th>Kids</th>\n",
       "      <td>0.581498</td>\n",
       "      <td>1.000000</td>\n",
       "      <td>0.279977</td>\n",
       "      <td>0.032484</td>\n",
       "      <td>0.359257</td>\n",
       "    </tr>\n",
       "    <tr>\n",
       "      <th>Seniors</th>\n",
       "      <td>0.171391</td>\n",
       "      <td>0.279977</td>\n",
       "      <td>1.000000</td>\n",
       "      <td>0.096746</td>\n",
       "      <td>0.107757</td>\n",
       "    </tr>\n",
       "    <tr>\n",
       "      <th>NoVehicle</th>\n",
       "      <td>0.324969</td>\n",
       "      <td>0.032484</td>\n",
       "      <td>0.096746</td>\n",
       "      <td>1.000000</td>\n",
       "      <td>0.447400</td>\n",
       "    </tr>\n",
       "    <tr>\n",
       "      <th>SNAP</th>\n",
       "      <td>0.787675</td>\n",
       "      <td>0.359257</td>\n",
       "      <td>0.107757</td>\n",
       "      <td>0.447400</td>\n",
       "      <td>1.000000</td>\n",
       "    </tr>\n",
       "  </tbody>\n",
       "</table>\n",
       "</div>"
      ],
      "text/plain": [
       "           LowIncome      Kids   Seniors  NoVehicle      SNAP\n",
       "LowIncome   1.000000  0.581498  0.171391   0.324969  0.787675\n",
       "Kids        0.581498  1.000000  0.279977   0.032484  0.359257\n",
       "Seniors     0.171391  0.279977  1.000000   0.096746  0.107757\n",
       "NoVehicle   0.324969  0.032484  0.096746   1.000000  0.447400\n",
       "SNAP        0.787675  0.359257  0.107757   0.447400  1.000000"
      ]
     },
     "execution_count": 149,
     "metadata": {},
     "output_type": "execute_result"
    }
   ],
   "source": [
    "reg_df.corr()"
   ]
  },
  {
   "cell_type": "markdown",
   "id": "fcb345ea",
   "metadata": {},
   "source": [
    "There appears to be high correlation between low income and SNAP variables which makes sense since the SNAP program was designed to support the low income population. In order to avoid multicollinearity, we will be eliminating the SNAP feature when fitting our regression."
   ]
  },
  {
   "cell_type": "code",
   "execution_count": 150,
   "id": "6a6e0d6f",
   "metadata": {},
   "outputs": [
    {
     "data": {
      "text/html": [
       "<div>\n",
       "<style scoped>\n",
       "    .dataframe tbody tr th:only-of-type {\n",
       "        vertical-align: middle;\n",
       "    }\n",
       "\n",
       "    .dataframe tbody tr th {\n",
       "        vertical-align: top;\n",
       "    }\n",
       "\n",
       "    .dataframe thead th {\n",
       "        text-align: right;\n",
       "    }\n",
       "</style>\n",
       "<table border=\"1\" class=\"dataframe\">\n",
       "  <thead>\n",
       "    <tr style=\"text-align: right;\">\n",
       "      <th></th>\n",
       "      <th>State</th>\n",
       "      <th>County</th>\n",
       "      <th>LowIncome</th>\n",
       "      <th>Kids</th>\n",
       "      <th>Seniors</th>\n",
       "      <th>NoVehicle</th>\n",
       "    </tr>\n",
       "  </thead>\n",
       "  <tbody>\n",
       "    <tr>\n",
       "      <th>0</th>\n",
       "      <td>Alabama</td>\n",
       "      <td>Autauga</td>\n",
       "      <td>448</td>\n",
       "      <td>507</td>\n",
       "      <td>221</td>\n",
       "      <td>26</td>\n",
       "    </tr>\n",
       "    <tr>\n",
       "      <th>1</th>\n",
       "      <td>Alabama</td>\n",
       "      <td>Autauga</td>\n",
       "      <td>763</td>\n",
       "      <td>606</td>\n",
       "      <td>214</td>\n",
       "      <td>87</td>\n",
       "    </tr>\n",
       "    <tr>\n",
       "      <th>2</th>\n",
       "      <td>Alabama</td>\n",
       "      <td>Autauga</td>\n",
       "      <td>1578</td>\n",
       "      <td>894</td>\n",
       "      <td>439</td>\n",
       "      <td>108</td>\n",
       "    </tr>\n",
       "    <tr>\n",
       "      <th>3</th>\n",
       "      <td>Alabama</td>\n",
       "      <td>Autauga</td>\n",
       "      <td>1241</td>\n",
       "      <td>1015</td>\n",
       "      <td>904</td>\n",
       "      <td>19</td>\n",
       "    </tr>\n",
       "    <tr>\n",
       "      <th>4</th>\n",
       "      <td>Alabama</td>\n",
       "      <td>Autauga</td>\n",
       "      <td>2692</td>\n",
       "      <td>3162</td>\n",
       "      <td>1126</td>\n",
       "      <td>198</td>\n",
       "    </tr>\n",
       "  </tbody>\n",
       "</table>\n",
       "</div>"
      ],
      "text/plain": [
       "     State   County  LowIncome  Kids  Seniors  NoVehicle\n",
       "0  Alabama  Autauga        448   507      221         26\n",
       "1  Alabama  Autauga        763   606      214         87\n",
       "2  Alabama  Autauga       1578   894      439        108\n",
       "3  Alabama  Autauga       1241  1015      904         19\n",
       "4  Alabama  Autauga       2692  3162     1126        198"
      ]
     },
     "execution_count": 150,
     "metadata": {},
     "output_type": "execute_result"
    }
   ],
   "source": [
    "new_reg_df = reg_df.drop(columns='SNAP')\n",
    "new_reg_df.head()"
   ]
  },
  {
   "cell_type": "markdown",
   "id": "9d52cbfd",
   "metadata": {},
   "source": [
    "Now that we have all the relevant features to fit into our model, by removing the SNAP column, we will normalize all the values to smooth out the distributions."
   ]
  },
  {
   "cell_type": "code",
   "execution_count": 151,
   "id": "8acec236",
   "metadata": {},
   "outputs": [
    {
     "data": {
      "text/html": [
       "<div>\n",
       "<style scoped>\n",
       "    .dataframe tbody tr th:only-of-type {\n",
       "        vertical-align: middle;\n",
       "    }\n",
       "\n",
       "    .dataframe tbody tr th {\n",
       "        vertical-align: top;\n",
       "    }\n",
       "\n",
       "    .dataframe thead th {\n",
       "        text-align: right;\n",
       "    }\n",
       "</style>\n",
       "<table border=\"1\" class=\"dataframe\">\n",
       "  <thead>\n",
       "    <tr style=\"text-align: right;\">\n",
       "      <th></th>\n",
       "      <th>LowIncome</th>\n",
       "      <th>Kids</th>\n",
       "      <th>Seniors</th>\n",
       "      <th>NoVehicle</th>\n",
       "    </tr>\n",
       "  </thead>\n",
       "  <tbody>\n",
       "    <tr>\n",
       "      <th>0</th>\n",
       "      <td>-0.987838</td>\n",
       "      <td>-0.827057</td>\n",
       "      <td>-0.939538</td>\n",
       "      <td>-0.518485</td>\n",
       "    </tr>\n",
       "    <tr>\n",
       "      <th>1</th>\n",
       "      <td>-0.677677</td>\n",
       "      <td>-0.666850</td>\n",
       "      <td>-0.959369</td>\n",
       "      <td>-0.253500</td>\n",
       "    </tr>\n",
       "    <tr>\n",
       "      <th>2</th>\n",
       "      <td>0.124804</td>\n",
       "      <td>-0.200794</td>\n",
       "      <td>-0.321954</td>\n",
       "      <td>-0.162276</td>\n",
       "    </tr>\n",
       "    <tr>\n",
       "      <th>3</th>\n",
       "      <td>-0.207019</td>\n",
       "      <td>-0.004986</td>\n",
       "      <td>0.995371</td>\n",
       "      <td>-0.548893</td>\n",
       "    </tr>\n",
       "    <tr>\n",
       "      <th>4</th>\n",
       "      <td>1.221692</td>\n",
       "      <td>3.469397</td>\n",
       "      <td>1.624288</td>\n",
       "      <td>0.228685</td>\n",
       "    </tr>\n",
       "  </tbody>\n",
       "</table>\n",
       "</div>"
      ],
      "text/plain": [
       "   LowIncome      Kids   Seniors  NoVehicle\n",
       "0  -0.987838 -0.827057 -0.939538  -0.518485\n",
       "1  -0.677677 -0.666850 -0.959369  -0.253500\n",
       "2   0.124804 -0.200794 -0.321954  -0.162276\n",
       "3  -0.207019 -0.004986  0.995371  -0.548893\n",
       "4   1.221692  3.469397  1.624288   0.228685"
      ]
     },
     "execution_count": 151,
     "metadata": {},
     "output_type": "execute_result"
    }
   ],
   "source": [
    "means = new_reg_df[['LowIncome','Kids','Seniors','NoVehicle']].mean()\n",
    "stds = new_reg_df[['LowIncome','Kids','Seniors','NoVehicle']].std()\n",
    "norm_reg_df = (new_reg_df[['LowIncome','Kids','Seniors','NoVehicle']] - means)/ stds\n",
    "norm_reg_df.head()"
   ]
  },
  {
   "cell_type": "markdown",
   "id": "db6268b6",
   "metadata": {},
   "source": [
    "Below, we will be using the above normalized dataframe and print out the summary statistic to determine if any features have a relevant relationship with the American Indian or Alaska native population tracts."
   ]
  },
  {
   "cell_type": "code",
   "execution_count": 152,
   "id": "42b39efc",
   "metadata": {},
   "outputs": [
    {
     "name": "stdout",
     "output_type": "stream",
     "text": [
      "Optimization terminated successfully.\n",
      "         Current function value: 0.693143\n",
      "         Iterations 3\n"
     ]
    },
    {
     "data": {
      "text/html": [
       "<table class=\"simpletable\">\n",
       "<caption>Logit Regression Results</caption>\n",
       "<tr>\n",
       "  <th>Dep. Variable:</th>           <td>y</td>        <th>  No. Observations:  </th>  <td> 72864</td> \n",
       "</tr>\n",
       "<tr>\n",
       "  <th>Model:</th>                 <td>Logit</td>      <th>  Df Residuals:      </th>  <td> 72860</td> \n",
       "</tr>\n",
       "<tr>\n",
       "  <th>Method:</th>                 <td>MLE</td>       <th>  Df Model:          </th>  <td>     3</td> \n",
       "</tr>\n",
       "<tr>\n",
       "  <th>Date:</th>            <td>Mon, 21 Nov 2022</td> <th>  Pseudo R-squ.:     </th>  <td>-67.94</td> \n",
       "</tr>\n",
       "<tr>\n",
       "  <th>Time:</th>                <td>14:53:14</td>     <th>  Log-Likelihood:    </th> <td> -50505.</td>\n",
       "</tr>\n",
       "<tr>\n",
       "  <th>converged:</th>             <td>True</td>       <th>  LL-Null:           </th> <td> -732.61</td>\n",
       "</tr>\n",
       "<tr>\n",
       "  <th>Covariance Type:</th>     <td>nonrobust</td>    <th>  LLR p-value:       </th>  <td> 1.000</td> \n",
       "</tr>\n",
       "</table>\n",
       "<table class=\"simpletable\">\n",
       "<tr>\n",
       "      <td></td>         <th>coef</th>     <th>std err</th>      <th>z</th>      <th>P>|z|</th>  <th>[0.025</th>    <th>0.975]</th>  \n",
       "</tr>\n",
       "<tr>\n",
       "  <th>LowIncome</th> <td>    0.0050</td> <td>    0.010</td> <td>    0.511</td> <td> 0.609</td> <td>   -0.014</td> <td>    0.024</td>\n",
       "</tr>\n",
       "<tr>\n",
       "  <th>Kids</th>      <td>   -0.0013</td> <td>    0.010</td> <td>   -0.140</td> <td> 0.889</td> <td>   -0.020</td> <td>    0.017</td>\n",
       "</tr>\n",
       "<tr>\n",
       "  <th>Seniors</th>   <td>   -0.0043</td> <td>    0.008</td> <td>   -0.549</td> <td> 0.583</td> <td>   -0.019</td> <td>    0.011</td>\n",
       "</tr>\n",
       "<tr>\n",
       "  <th>NoVehicle</th> <td>   -0.0004</td> <td>    0.008</td> <td>   -0.048</td> <td> 0.962</td> <td>   -0.016</td> <td>    0.015</td>\n",
       "</tr>\n",
       "</table>"
      ],
      "text/plain": [
       "<class 'statsmodels.iolib.summary.Summary'>\n",
       "\"\"\"\n",
       "                           Logit Regression Results                           \n",
       "==============================================================================\n",
       "Dep. Variable:                      y   No. Observations:                72864\n",
       "Model:                          Logit   Df Residuals:                    72860\n",
       "Method:                           MLE   Df Model:                            3\n",
       "Date:                Mon, 21 Nov 2022   Pseudo R-squ.:                  -67.94\n",
       "Time:                        14:53:14   Log-Likelihood:                -50505.\n",
       "converged:                       True   LL-Null:                       -732.61\n",
       "Covariance Type:            nonrobust   LLR p-value:                     1.000\n",
       "==============================================================================\n",
       "                 coef    std err          z      P>|z|      [0.025      0.975]\n",
       "------------------------------------------------------------------------------\n",
       "LowIncome      0.0050      0.010      0.511      0.609      -0.014       0.024\n",
       "Kids          -0.0013      0.010     -0.140      0.889      -0.020       0.017\n",
       "Seniors       -0.0043      0.008     -0.549      0.583      -0.019       0.011\n",
       "NoVehicle     -0.0004      0.008     -0.048      0.962      -0.016       0.015\n",
       "==============================================================================\n",
       "\"\"\""
      ]
     },
     "execution_count": 152,
     "metadata": {},
     "output_type": "execute_result"
    }
   ],
   "source": [
    "# Splitting above dataset to fit regression\n",
    "X_train, X_test, y_train, y_test = \\\n",
    "train_test_split(norm_reg_df, most_aian_tracts, test_size=0.3)\n",
    "\n",
    "# Using statsmodel package to get summary statistics of the regression\n",
    "model = sm.Logit(most_aian_tracts, norm_reg_df)\n",
    "results = model.fit()\n",
    "results.summary()"
   ]
  },
  {
   "cell_type": "markdown",
   "id": "35919498",
   "metadata": {},
   "source": [
    "From the above summary statistics, we can see that there are no significant p-values across the four features. In other words, we fail to reject the null hypothesis that there is no relationship between the features (low income, number of kids, number of seniors, and number of housing units without a vehicle) and the American Indian or Alaska native population tracts."
   ]
  },
  {
   "cell_type": "markdown",
   "id": "ae90888f",
   "metadata": {},
   "source": [
    "\n",
    "---\n",
    "\n",
    "## New York Analysis"
   ]
  },
  {
   "cell_type": "code",
   "execution_count": 153,
   "id": "3cbba39a",
   "metadata": {},
   "outputs": [
    {
     "data": {
      "text/html": [
       "<div>\n",
       "<style scoped>\n",
       "    .dataframe tbody tr th:only-of-type {\n",
       "        vertical-align: middle;\n",
       "    }\n",
       "\n",
       "    .dataframe tbody tr th {\n",
       "        vertical-align: top;\n",
       "    }\n",
       "\n",
       "    .dataframe thead th {\n",
       "        text-align: right;\n",
       "    }\n",
       "</style>\n",
       "<table border=\"1\" class=\"dataframe\">\n",
       "  <thead>\n",
       "    <tr style=\"text-align: right;\">\n",
       "      <th></th>\n",
       "      <th>Race</th>\n",
       "      <th>HalfMile</th>\n",
       "      <th>HalfProportion</th>\n",
       "      <th>OneMile</th>\n",
       "      <th>OneProportion</th>\n",
       "      <th>TenMiles</th>\n",
       "      <th>TenProportion</th>\n",
       "      <th>TwentyMiles</th>\n",
       "      <th>TwentyProportion</th>\n",
       "    </tr>\n",
       "  </thead>\n",
       "  <tbody>\n",
       "    <tr>\n",
       "      <th>0</th>\n",
       "      <td>American_Indian</td>\n",
       "      <td>3.455974e+04</td>\n",
       "      <td>0.323272</td>\n",
       "      <td>2.110377e+04</td>\n",
       "      <td>0.197405</td>\n",
       "      <td>787.270739</td>\n",
       "      <td>0.007364</td>\n",
       "      <td>1.000088</td>\n",
       "      <td>9.354839e-06</td>\n",
       "    </tr>\n",
       "    <tr>\n",
       "      <th>1</th>\n",
       "      <td>Asian</td>\n",
       "      <td>2.628393e+05</td>\n",
       "      <td>0.185066</td>\n",
       "      <td>9.479964e+04</td>\n",
       "      <td>0.066749</td>\n",
       "      <td>346.265939</td>\n",
       "      <td>0.000244</td>\n",
       "      <td>0.000265</td>\n",
       "      <td>1.867897e-10</td>\n",
       "    </tr>\n",
       "    <tr>\n",
       "      <th>2</th>\n",
       "      <td>Black</td>\n",
       "      <td>5.924514e+05</td>\n",
       "      <td>0.192742</td>\n",
       "      <td>1.717682e+05</td>\n",
       "      <td>0.055881</td>\n",
       "      <td>2408.879887</td>\n",
       "      <td>0.000784</td>\n",
       "      <td>0.715675</td>\n",
       "      <td>2.328306e-07</td>\n",
       "    </tr>\n",
       "    <tr>\n",
       "      <th>3</th>\n",
       "      <td>Hispanic</td>\n",
       "      <td>6.036213e+05</td>\n",
       "      <td>0.176656</td>\n",
       "      <td>2.148840e+05</td>\n",
       "      <td>0.062888</td>\n",
       "      <td>2023.171552</td>\n",
       "      <td>0.000592</td>\n",
       "      <td>4.505039</td>\n",
       "      <td>1.318449e-06</td>\n",
       "    </tr>\n",
       "    <tr>\n",
       "      <th>4</th>\n",
       "      <td>Other</td>\n",
       "      <td>3.583624e+05</td>\n",
       "      <td>0.176759</td>\n",
       "      <td>1.331233e+05</td>\n",
       "      <td>0.065662</td>\n",
       "      <td>1583.693025</td>\n",
       "      <td>0.000781</td>\n",
       "      <td>2.110698</td>\n",
       "      <td>1.041080e-06</td>\n",
       "    </tr>\n",
       "    <tr>\n",
       "      <th>5</th>\n",
       "      <td>Pacific_Islander</td>\n",
       "      <td>2.482825e+03</td>\n",
       "      <td>0.283234</td>\n",
       "      <td>1.263375e+03</td>\n",
       "      <td>0.144122</td>\n",
       "      <td>27.135887</td>\n",
       "      <td>0.003096</td>\n",
       "      <td>0.000000</td>\n",
       "      <td>0.000000e+00</td>\n",
       "    </tr>\n",
       "    <tr>\n",
       "      <th>6</th>\n",
       "      <td>White</td>\n",
       "      <td>6.927099e+06</td>\n",
       "      <td>0.543687</td>\n",
       "      <td>4.036151e+06</td>\n",
       "      <td>0.316785</td>\n",
       "      <td>82422.596879</td>\n",
       "      <td>0.006469</td>\n",
       "      <td>372.440094</td>\n",
       "      <td>2.923168e-05</td>\n",
       "    </tr>\n",
       "  </tbody>\n",
       "</table>\n",
       "</div>"
      ],
      "text/plain": [
       "               Race      HalfMile  HalfProportion       OneMile  \\\n",
       "0   American_Indian  3.455974e+04        0.323272  2.110377e+04   \n",
       "1             Asian  2.628393e+05        0.185066  9.479964e+04   \n",
       "2             Black  5.924514e+05        0.192742  1.717682e+05   \n",
       "3          Hispanic  6.036213e+05        0.176656  2.148840e+05   \n",
       "4             Other  3.583624e+05        0.176759  1.331233e+05   \n",
       "5  Pacific_Islander  2.482825e+03        0.283234  1.263375e+03   \n",
       "6             White  6.927099e+06        0.543687  4.036151e+06   \n",
       "\n",
       "   OneProportion      TenMiles  TenProportion  TwentyMiles  TwentyProportion  \n",
       "0       0.197405    787.270739       0.007364     1.000088      9.354839e-06  \n",
       "1       0.066749    346.265939       0.000244     0.000265      1.867897e-10  \n",
       "2       0.055881   2408.879887       0.000784     0.715675      2.328306e-07  \n",
       "3       0.062888   2023.171552       0.000592     4.505039      1.318449e-06  \n",
       "4       0.065662   1583.693025       0.000781     2.110698      1.041080e-06  \n",
       "5       0.144122     27.135887       0.003096     0.000000      0.000000e+00  \n",
       "6       0.316785  82422.596879       0.006469   372.440094      2.923168e-05  "
      ]
     },
     "execution_count": 153,
     "metadata": {},
     "output_type": "execute_result"
    }
   ],
   "source": [
    "# Adding proportion column to each dataframes\n",
    "cleaned_ny_half['Proportion'] = cleaned_ny_half['Population'] / ny_total_population['Population']\n",
    "cleaned_ny_one['Proportion'] = cleaned_ny_one['Population'] / ny_total_population['Population']\n",
    "cleaned_ny_ten['Proportion'] = cleaned_ny_ten['Population'] / ny_total_population['Population']\n",
    "cleaned_ny_twenty['Proportion'] = cleaned_ny_twenty['Population'] / ny_total_population['Population']\n",
    "\n",
    "# Combining four dataframes into one\n",
    "ny_pop_prop_at_each_dist = ny_pop_at_each_dist.copy()\n",
    "ny_pop_prop_at_each_dist.insert(2, 'HalfProportion', cleaned_ny_half['Proportion'])\n",
    "ny_pop_prop_at_each_dist.insert(4, 'OneProportion', cleaned_ny_one['Proportion'])\n",
    "ny_pop_prop_at_each_dist.insert(6, 'TenProportion', cleaned_ny_ten['Proportion'])\n",
    "ny_pop_prop_at_each_dist.insert(8, 'TwentyProportion', cleaned_ny_twenty['Proportion'])\n",
    "ny_pop_prop_at_each_dist.to_csv('ny_pop_prop_at_each_dist.csv')\n",
    "\n",
    "ny_pop_prop_at_each_dist"
   ]
  },
  {
   "cell_type": "markdown",
   "id": "26d6b4fc",
   "metadata": {},
   "source": [
    "This data frame displays the proportion of the total population of New York State in terms of a specific race and distance tract for New York state. This data frame is sorted by distance tracts in increasing order."
   ]
  },
  {
   "cell_type": "code",
   "execution_count": 154,
   "id": "69c79226",
   "metadata": {},
   "outputs": [],
   "source": [
    "# Creating dataframe with only proportions at each distance\n",
    "ny_prop_at_each_dist = pd.DataFrame({'Race':cleaned_ny_half['Race'], 'HalfMile':cleaned_ny_half['Proportion'], \\\n",
    "'OneMile':cleaned_ny_one['Proportion'],'TenMiles':cleaned_ny_ten['Proportion'],'TwentyMiles':cleaned_ny_twenty['Proportion']})\n",
    "ny_prop_at_each_dist.to_csv('ny_prop_at_each_dist.csv')\n"
   ]
  },
  {
   "cell_type": "code",
   "execution_count": 155,
   "id": "3505c593",
   "metadata": {},
   "outputs": [
    {
     "data": {
      "image/png": "[encoded data removed]",
      "text/plain": [
       "<Figure size 432x288 with 1 Axes>"
      ]
     },
     "metadata": {
      "needs_background": "light"
     },
     "output_type": "display_data"
    }
   ],
   "source": [
    "# Visualizing the racial distribution of proportions of food desserts at each distance\n",
    "ny_prop_at_each_dist_melted = pd.melt(ny_prop_at_each_dist, id_vars='Race', var_name='Distance_away', value_name='Proportion')\n",
    "sns.barplot(data=ny_prop_at_each_dist_melted, x='Distance_away', y='Proportion', hue='Race').set(title='Proportion Count by Race for Each Distance Tract: NY State')\n",
    "plt.show()"
   ]
  },
  {
   "cell_type": "markdown",
   "id": "41376a1a",
   "metadata": {},
   "source": [
    "This graph displays the proportion of the population of each race within New York State. From this initial observation, it appears that White, American Indian or Alaska native, and Native Hawaiian and Other Pacific Islander population appear to have the greatest proportion of people living far away from supermarkets. "
   ]
  },
  {
   "cell_type": "code",
   "execution_count": 156,
   "id": "01d3f6bb",
   "metadata": {},
   "outputs": [
    {
     "data": {
      "image/png": "[encoded data removed]",
      "text/plain": [
       "<Figure size 432x288 with 2 Axes>"
      ]
     },
     "metadata": {
      "needs_background": "light"
     },
     "output_type": "display_data"
    }
   ],
   "source": [
    "ny_prop_at_each_dist_heatmap = pd.melt(pop_prop_at_each_dist.drop(columns=['HalfMile','OneMile','TenMiles','TwentyMiles']),\\\n",
    "                                        id_vars='Race', var_name = 'Distance', value_name='Proportion')\n",
    "heatmap_df = ny_prop_at_each_dist_heatmap.pivot(\"Race\", \"Distance\", \"Proportion\")\n",
    "ax = sns.heatmap(heatmap_df)\n",
    "plt.title(\"Proportion of Population at Various Distances by Race: NY\")\n",
    "plt.show()"
   ]
  },
  {
   "cell_type": "markdown",
   "id": "7ea3c716",
   "metadata": {},
   "source": [
    "This heatmap is another visualization of the proportions in terms of NY State. Similar to the heatmap of the US, the colors get darker as the distance increases. For both the US and NY State, those who lived 10 miles and 20 miles away from a supermarket had a very low proportion of population of every race. However, in both heatmaps, the American Indian population had the greatest proportion of population within this tract at about 0.2 of its population in the 10 miles tract and 0.1 of its population in the 20 miles tract, which is the same found in the heatmap of the US. "
   ]
  },
  {
   "cell_type": "markdown",
   "id": "6eeeaeec",
   "metadata": {},
   "source": [
    "Below, we will conduct further analysis by looking at each distances on their own and comparing them to the distribution of the US."
   ]
  },
  {
   "cell_type": "code",
   "execution_count": 157,
   "id": "e84cca29",
   "metadata": {
    "scrolled": true
   },
   "outputs": [
    {
     "data": {
      "image/png": "[encoded data removed]",
      "text/plain": [
       "<Figure size 432x288 with 1 Axes>"
      ]
     },
     "metadata": {
      "needs_background": "light"
     },
     "output_type": "display_data"
    },
    {
     "data": {
      "text/plain": [
       "[Text(0.5, 1.0, 'Proportion Count by Race for Half Mile Tract: NY State')]"
      ]
     },
     "execution_count": 157,
     "metadata": {},
     "output_type": "execute_result"
    },
    {
     "data": {
      "image/png": "[encoded data removed]",
      "text/plain": [
       "<Figure size 432x288 with 1 Axes>"
      ]
     },
     "metadata": {
      "needs_background": "light"
     },
     "output_type": "display_data"
    }
   ],
   "source": [
    "sns.barplot(data=cleaned_half, x='Race', y='Proportion').set(title='Proportion Count by Race for Half Mile Tract: USA')\n",
    "plt.show()\n",
    "sns.barplot(data=cleaned_ny_half, x='Race', y='Proportion').set(title='Proportion Count by Race for Half Mile Tract: NY State')"
   ]
  },
  {
   "cell_type": "code",
   "execution_count": 158,
   "id": "8c0c661a",
   "metadata": {},
   "outputs": [
    {
     "data": {
      "image/png": "[encoded data removed]",
      "text/plain": [
       "<Figure size 432x288 with 1 Axes>"
      ]
     },
     "metadata": {
      "needs_background": "light"
     },
     "output_type": "display_data"
    },
    {
     "data": {
      "text/plain": [
       "[Text(0.5, 1.0, 'Proportion Count by Race for One Mile Tract: NY State')]"
      ]
     },
     "execution_count": 158,
     "metadata": {},
     "output_type": "execute_result"
    },
    {
     "data": {
      "image/png": "[encoded data removed]",
      "text/plain": [
       "<Figure size 432x288 with 1 Axes>"
      ]
     },
     "metadata": {
      "needs_background": "light"
     },
     "output_type": "display_data"
    }
   ],
   "source": [
    "sns.barplot(data=cleaned_one, x='Race', y='Proportion').set(title='Proportion Count by Race for One Mile Tract: USA')\n",
    "plt.show()\n",
    "sns.barplot(data=cleaned_ny_one, x='Race', y='Proportion').set(title='Proportion Count by Race for One Mile Tract: NY State')"
   ]
  },
  {
   "cell_type": "code",
   "execution_count": 159,
   "id": "b4324ecd",
   "metadata": {},
   "outputs": [
    {
     "data": {
      "image/png": "[encoded data removed]",
      "text/plain": [
       "<Figure size 432x288 with 1 Axes>"
      ]
     },
     "metadata": {
      "needs_background": "light"
     },
     "output_type": "display_data"
    },
    {
     "data": {
      "text/plain": [
       "[Text(0.5, 1.0, 'Proportion Count by Race for Ten Mile Tract: NY State')]"
      ]
     },
     "execution_count": 159,
     "metadata": {},
     "output_type": "execute_result"
    },
    {
     "data": {
      "image/png": "[encoded data removed]",
      "text/plain": [
       "<Figure size 432x288 with 1 Axes>"
      ]
     },
     "metadata": {
      "needs_background": "light"
     },
     "output_type": "display_data"
    }
   ],
   "source": [
    "sns.barplot(data=cleaned_ten, x='Race', y='Proportion').set(title='Proportion Count by Race for Ten Mile Tract: USA')\n",
    "plt.show()\n",
    "sns.barplot(data=cleaned_ny_ten, x='Race', y='Proportion').set(title='Proportion Count by Race for Ten Mile Tract: NY State')"
   ]
  },
  {
   "cell_type": "code",
   "execution_count": 160,
   "id": "3a5f0607",
   "metadata": {},
   "outputs": [
    {
     "data": {
      "image/png": "[encoded data removed]",
      "text/plain": [
       "<Figure size 432x288 with 1 Axes>"
      ]
     },
     "metadata": {
      "needs_background": "light"
     },
     "output_type": "display_data"
    },
    {
     "data": {
      "text/plain": [
       "[Text(0.5, 1.0, 'Proportion Count by Race for Twenty Mile Tract: NY State')]"
      ]
     },
     "execution_count": 160,
     "metadata": {},
     "output_type": "execute_result"
    },
    {
     "data": {
      "image/png": "[encoded data removed]",
      "text/plain": [
       "<Figure size 432x288 with 1 Axes>"
      ]
     },
     "metadata": {
      "needs_background": "light"
     },
     "output_type": "display_data"
    }
   ],
   "source": [
    "sns.barplot(data=cleaned_twenty, x='Race', y='Proportion').set(title='Proportion Count by Race for Twenty Mile Tract: USA')\n",
    "plt.show()\n",
    "sns.barplot(data=cleaned_ny_twenty, x='Race', y='Proportion').set(title='Proportion Count by Race for Twenty Mile Tract: NY State')"
   ]
  },
  {
   "cell_type": "markdown",
   "id": "a59cde03",
   "metadata": {},
   "source": [
    "As seen in these graphs, the White, American Indian or Alaska native, and Native Hawaiian and Other Pacific Islander population  have above average proportion of food insecurity for distances below 20 miles from a supermarket within New York State. From 20 miles and further, only the White and American Indian or Alaska native population have above average proportions.\n",
    "\n",
    "Comparing this distribution to that of the overall US food insecurity levels, the same races, White and American Indian or Alaska native, were the most food insecure. However, in NY state specificially, Native Hawaiian and Other Pacific Islander population also had above average proportions in the tracts less than 20 miles away. Additionally, it appears that ...\n"
   ]
  },
  {
   "cell_type": "markdown",
   "id": "3c90f63b",
   "metadata": {},
   "source": [
    "### Hypothesis Testing: NY State"
   ]
  },
  {
   "cell_type": "code",
   "execution_count": 161,
   "id": "43b26dc5",
   "metadata": {
    "scrolled": true
   },
   "outputs": [
    {
     "data": {
      "text/html": [
       "<div>\n",
       "<style scoped>\n",
       "    .dataframe tbody tr th:only-of-type {\n",
       "        vertical-align: middle;\n",
       "    }\n",
       "\n",
       "    .dataframe tbody tr th {\n",
       "        vertical-align: top;\n",
       "    }\n",
       "\n",
       "    .dataframe thead th {\n",
       "        text-align: right;\n",
       "    }\n",
       "</style>\n",
       "<table border=\"1\" class=\"dataframe\">\n",
       "  <thead>\n",
       "    <tr style=\"text-align: right;\">\n",
       "      <th></th>\n",
       "      <th>Race</th>\n",
       "      <th>Population</th>\n",
       "      <th>Proportion</th>\n",
       "      <th>p-val</th>\n",
       "      <th>Significant</th>\n",
       "    </tr>\n",
       "  </thead>\n",
       "  <tbody>\n",
       "    <tr>\n",
       "      <th>0</th>\n",
       "      <td>American_Indian</td>\n",
       "      <td>3.455974e+04</td>\n",
       "      <td>0.323272</td>\n",
       "      <td>0.312</td>\n",
       "      <td>False</td>\n",
       "    </tr>\n",
       "    <tr>\n",
       "      <th>1</th>\n",
       "      <td>Asian</td>\n",
       "      <td>2.628393e+05</td>\n",
       "      <td>0.185066</td>\n",
       "      <td>0.745</td>\n",
       "      <td>False</td>\n",
       "    </tr>\n",
       "    <tr>\n",
       "      <th>2</th>\n",
       "      <td>Black</td>\n",
       "      <td>5.924514e+05</td>\n",
       "      <td>0.192742</td>\n",
       "      <td>0.720</td>\n",
       "      <td>False</td>\n",
       "    </tr>\n",
       "    <tr>\n",
       "      <th>3</th>\n",
       "      <td>Hispanic</td>\n",
       "      <td>6.036213e+05</td>\n",
       "      <td>0.176656</td>\n",
       "      <td>0.763</td>\n",
       "      <td>False</td>\n",
       "    </tr>\n",
       "    <tr>\n",
       "      <th>4</th>\n",
       "      <td>Other</td>\n",
       "      <td>3.583624e+05</td>\n",
       "      <td>0.176759</td>\n",
       "      <td>0.761</td>\n",
       "      <td>False</td>\n",
       "    </tr>\n",
       "    <tr>\n",
       "      <th>5</th>\n",
       "      <td>Pacific_Islander</td>\n",
       "      <td>2.482825e+03</td>\n",
       "      <td>0.283234</td>\n",
       "      <td>0.435</td>\n",
       "      <td>False</td>\n",
       "    </tr>\n",
       "    <tr>\n",
       "      <th>6</th>\n",
       "      <td>White</td>\n",
       "      <td>6.927099e+06</td>\n",
       "      <td>0.543687</td>\n",
       "      <td>0.023</td>\n",
       "      <td>True</td>\n",
       "    </tr>\n",
       "  </tbody>\n",
       "</table>\n",
       "</div>"
      ],
      "text/plain": [
       "               Race    Population  Proportion  p-val  Significant\n",
       "0   American_Indian  3.455974e+04    0.323272  0.312        False\n",
       "1             Asian  2.628393e+05    0.185066  0.745        False\n",
       "2             Black  5.924514e+05    0.192742  0.720        False\n",
       "3          Hispanic  6.036213e+05    0.176656  0.763        False\n",
       "4             Other  3.583624e+05    0.176759  0.761        False\n",
       "5  Pacific_Islander  2.482825e+03    0.283234  0.435        False\n",
       "6             White  6.927099e+06    0.543687  0.023         True"
      ]
     },
     "execution_count": 161,
     "metadata": {},
     "output_type": "execute_result"
    },
    {
     "data": {
      "image/png": "[encoded data removed]",
      "text/plain": [
       "<Figure size 432x288 with 1 Axes>"
      ]
     },
     "metadata": {
      "needs_background": "light"
     },
     "output_type": "display_data"
    }
   ],
   "source": [
    "nyhalf_prop_mean = cleaned_ny_half['Proportion'].mean()\n",
    "nyhalf_prop_std = cleaned_ny_half['Proportion'].std()\n",
    "\n",
    "nyhalf_prop_hypo = get_p(cleaned_ny_half, nyhalf_prop_mean, nyhalf_prop_std)\n",
    "nyhalf_prop_hypo"
   ]
  },
  {
   "cell_type": "code",
   "execution_count": 162,
   "id": "eefc2645",
   "metadata": {
    "scrolled": true
   },
   "outputs": [
    {
     "data": {
      "text/html": [
       "<div>\n",
       "<style scoped>\n",
       "    .dataframe tbody tr th:only-of-type {\n",
       "        vertical-align: middle;\n",
       "    }\n",
       "\n",
       "    .dataframe tbody tr th {\n",
       "        vertical-align: top;\n",
       "    }\n",
       "\n",
       "    .dataframe thead th {\n",
       "        text-align: right;\n",
       "    }\n",
       "</style>\n",
       "<table border=\"1\" class=\"dataframe\">\n",
       "  <thead>\n",
       "    <tr style=\"text-align: right;\">\n",
       "      <th></th>\n",
       "      <th>Race</th>\n",
       "      <th>Population</th>\n",
       "      <th>Proportion</th>\n",
       "      <th>p-val</th>\n",
       "      <th>Significant</th>\n",
       "    </tr>\n",
       "  </thead>\n",
       "  <tbody>\n",
       "    <tr>\n",
       "      <th>0</th>\n",
       "      <td>American_Indian</td>\n",
       "      <td>2.110377e+04</td>\n",
       "      <td>0.197405</td>\n",
       "      <td>0.229</td>\n",
       "      <td>False</td>\n",
       "    </tr>\n",
       "    <tr>\n",
       "      <th>1</th>\n",
       "      <td>Asian</td>\n",
       "      <td>9.479964e+04</td>\n",
       "      <td>0.066749</td>\n",
       "      <td>0.708</td>\n",
       "      <td>False</td>\n",
       "    </tr>\n",
       "    <tr>\n",
       "      <th>2</th>\n",
       "      <td>Black</td>\n",
       "      <td>1.717682e+05</td>\n",
       "      <td>0.055881</td>\n",
       "      <td>0.756</td>\n",
       "      <td>False</td>\n",
       "    </tr>\n",
       "    <tr>\n",
       "      <th>3</th>\n",
       "      <td>Hispanic</td>\n",
       "      <td>2.148840e+05</td>\n",
       "      <td>0.062888</td>\n",
       "      <td>0.720</td>\n",
       "      <td>False</td>\n",
       "    </tr>\n",
       "    <tr>\n",
       "      <th>4</th>\n",
       "      <td>Other</td>\n",
       "      <td>1.331233e+05</td>\n",
       "      <td>0.065662</td>\n",
       "      <td>0.712</td>\n",
       "      <td>False</td>\n",
       "    </tr>\n",
       "    <tr>\n",
       "      <th>5</th>\n",
       "      <td>Pacific_Islander</td>\n",
       "      <td>1.263375e+03</td>\n",
       "      <td>0.144122</td>\n",
       "      <td>0.410</td>\n",
       "      <td>False</td>\n",
       "    </tr>\n",
       "    <tr>\n",
       "      <th>6</th>\n",
       "      <td>White</td>\n",
       "      <td>4.036151e+06</td>\n",
       "      <td>0.316785</td>\n",
       "      <td>0.029</td>\n",
       "      <td>True</td>\n",
       "    </tr>\n",
       "  </tbody>\n",
       "</table>\n",
       "</div>"
      ],
      "text/plain": [
       "               Race    Population  Proportion  p-val  Significant\n",
       "0   American_Indian  2.110377e+04    0.197405  0.229        False\n",
       "1             Asian  9.479964e+04    0.066749  0.708        False\n",
       "2             Black  1.717682e+05    0.055881  0.756        False\n",
       "3          Hispanic  2.148840e+05    0.062888  0.720        False\n",
       "4             Other  1.331233e+05    0.065662  0.712        False\n",
       "5  Pacific_Islander  1.263375e+03    0.144122  0.410        False\n",
       "6             White  4.036151e+06    0.316785  0.029         True"
      ]
     },
     "execution_count": 162,
     "metadata": {},
     "output_type": "execute_result"
    },
    {
     "data": {
      "image/png": "[encoded data removed]",
      "text/plain": [
       "<Figure size 432x288 with 1 Axes>"
      ]
     },
     "metadata": {
      "needs_background": "light"
     },
     "output_type": "display_data"
    }
   ],
   "source": [
    "nyone_prop_mean = cleaned_ny_one['Proportion'].mean()\n",
    "nyone_prop_std = cleaned_ny_one['Proportion'].std()\n",
    "\n",
    "nyone_prop_hypo = get_p(cleaned_ny_one, nyone_prop_mean, nyone_prop_std)\n",
    "nyone_prop_hypo"
   ]
  },
  {
   "cell_type": "code",
   "execution_count": 163,
   "id": "e01818fd",
   "metadata": {
    "scrolled": true
   },
   "outputs": [
    {
     "data": {
      "text/html": [
       "<div>\n",
       "<style scoped>\n",
       "    .dataframe tbody tr th:only-of-type {\n",
       "        vertical-align: middle;\n",
       "    }\n",
       "\n",
       "    .dataframe tbody tr th {\n",
       "        vertical-align: top;\n",
       "    }\n",
       "\n",
       "    .dataframe thead th {\n",
       "        text-align: right;\n",
       "    }\n",
       "</style>\n",
       "<table border=\"1\" class=\"dataframe\">\n",
       "  <thead>\n",
       "    <tr style=\"text-align: right;\">\n",
       "      <th></th>\n",
       "      <th>Race</th>\n",
       "      <th>Population</th>\n",
       "      <th>Proportion</th>\n",
       "      <th>p-val</th>\n",
       "      <th>Significant</th>\n",
       "    </tr>\n",
       "  </thead>\n",
       "  <tbody>\n",
       "    <tr>\n",
       "      <th>0</th>\n",
       "      <td>American_Indian</td>\n",
       "      <td>787.270739</td>\n",
       "      <td>0.007364</td>\n",
       "      <td>0.061</td>\n",
       "      <td>False</td>\n",
       "    </tr>\n",
       "    <tr>\n",
       "      <th>1</th>\n",
       "      <td>Asian</td>\n",
       "      <td>346.265939</td>\n",
       "      <td>0.000244</td>\n",
       "      <td>0.800</td>\n",
       "      <td>False</td>\n",
       "    </tr>\n",
       "    <tr>\n",
       "      <th>2</th>\n",
       "      <td>Black</td>\n",
       "      <td>2408.879887</td>\n",
       "      <td>0.000784</td>\n",
       "      <td>0.750</td>\n",
       "      <td>False</td>\n",
       "    </tr>\n",
       "    <tr>\n",
       "      <th>3</th>\n",
       "      <td>Hispanic</td>\n",
       "      <td>2023.171552</td>\n",
       "      <td>0.000592</td>\n",
       "      <td>0.771</td>\n",
       "      <td>False</td>\n",
       "    </tr>\n",
       "    <tr>\n",
       "      <th>4</th>\n",
       "      <td>Other</td>\n",
       "      <td>1583.693025</td>\n",
       "      <td>0.000781</td>\n",
       "      <td>0.750</td>\n",
       "      <td>False</td>\n",
       "    </tr>\n",
       "    <tr>\n",
       "      <th>5</th>\n",
       "      <td>Pacific_Islander</td>\n",
       "      <td>27.135887</td>\n",
       "      <td>0.003096</td>\n",
       "      <td>0.453</td>\n",
       "      <td>False</td>\n",
       "    </tr>\n",
       "    <tr>\n",
       "      <th>6</th>\n",
       "      <td>White</td>\n",
       "      <td>82422.596879</td>\n",
       "      <td>0.006469</td>\n",
       "      <td>0.114</td>\n",
       "      <td>False</td>\n",
       "    </tr>\n",
       "  </tbody>\n",
       "</table>\n",
       "</div>"
      ],
      "text/plain": [
       "               Race    Population  Proportion  p-val  Significant\n",
       "0   American_Indian    787.270739    0.007364  0.061        False\n",
       "1             Asian    346.265939    0.000244  0.800        False\n",
       "2             Black   2408.879887    0.000784  0.750        False\n",
       "3          Hispanic   2023.171552    0.000592  0.771        False\n",
       "4             Other   1583.693025    0.000781  0.750        False\n",
       "5  Pacific_Islander     27.135887    0.003096  0.453        False\n",
       "6             White  82422.596879    0.006469  0.114        False"
      ]
     },
     "execution_count": 163,
     "metadata": {},
     "output_type": "execute_result"
    },
    {
     "data": {
      "image/png": "[encoded data removed]",
      "text/plain": [
       "<Figure size 432x288 with 1 Axes>"
      ]
     },
     "metadata": {
      "needs_background": "light"
     },
     "output_type": "display_data"
    }
   ],
   "source": [
    "nyten_prop_mean = cleaned_ny_ten['Proportion'].mean()\n",
    "nyten_prop_std = cleaned_ny_ten['Proportion'].std()\n",
    "\n",
    "nyten_prop_hypo = get_p(cleaned_ny_ten, nyten_prop_mean, nyten_prop_std)\n",
    "nyten_prop_hypo"
   ]
  },
  {
   "cell_type": "code",
   "execution_count": 164,
   "id": "2905ed2e",
   "metadata": {},
   "outputs": [
    {
     "data": {
      "text/html": [
       "<div>\n",
       "<style scoped>\n",
       "    .dataframe tbody tr th:only-of-type {\n",
       "        vertical-align: middle;\n",
       "    }\n",
       "\n",
       "    .dataframe tbody tr th {\n",
       "        vertical-align: top;\n",
       "    }\n",
       "\n",
       "    .dataframe thead th {\n",
       "        text-align: right;\n",
       "    }\n",
       "</style>\n",
       "<table border=\"1\" class=\"dataframe\">\n",
       "  <thead>\n",
       "    <tr style=\"text-align: right;\">\n",
       "      <th></th>\n",
       "      <th>Race</th>\n",
       "      <th>Population</th>\n",
       "      <th>Proportion</th>\n",
       "      <th>p-val</th>\n",
       "      <th>Significant</th>\n",
       "    </tr>\n",
       "  </thead>\n",
       "  <tbody>\n",
       "    <tr>\n",
       "      <th>0</th>\n",
       "      <td>American_Indian</td>\n",
       "      <td>1.000088</td>\n",
       "      <td>9.354839e-06</td>\n",
       "      <td>0.341</td>\n",
       "      <td>False</td>\n",
       "    </tr>\n",
       "    <tr>\n",
       "      <th>1</th>\n",
       "      <td>Asian</td>\n",
       "      <td>0.000265</td>\n",
       "      <td>1.867897e-10</td>\n",
       "      <td>0.697</td>\n",
       "      <td>False</td>\n",
       "    </tr>\n",
       "    <tr>\n",
       "      <th>2</th>\n",
       "      <td>Black</td>\n",
       "      <td>0.715675</td>\n",
       "      <td>2.328306e-07</td>\n",
       "      <td>0.686</td>\n",
       "      <td>False</td>\n",
       "    </tr>\n",
       "    <tr>\n",
       "      <th>3</th>\n",
       "      <td>Hispanic</td>\n",
       "      <td>4.505039</td>\n",
       "      <td>1.318449e-06</td>\n",
       "      <td>0.652</td>\n",
       "      <td>False</td>\n",
       "    </tr>\n",
       "    <tr>\n",
       "      <th>4</th>\n",
       "      <td>Other</td>\n",
       "      <td>2.110698</td>\n",
       "      <td>1.041080e-06</td>\n",
       "      <td>0.665</td>\n",
       "      <td>False</td>\n",
       "    </tr>\n",
       "    <tr>\n",
       "      <th>5</th>\n",
       "      <td>Pacific_Islander</td>\n",
       "      <td>0.000000</td>\n",
       "      <td>0.000000e+00</td>\n",
       "      <td>0.697</td>\n",
       "      <td>False</td>\n",
       "    </tr>\n",
       "    <tr>\n",
       "      <th>6</th>\n",
       "      <td>White</td>\n",
       "      <td>372.440094</td>\n",
       "      <td>2.923168e-05</td>\n",
       "      <td>0.014</td>\n",
       "      <td>True</td>\n",
       "    </tr>\n",
       "  </tbody>\n",
       "</table>\n",
       "</div>"
      ],
      "text/plain": [
       "               Race  Population    Proportion  p-val  Significant\n",
       "0   American_Indian    1.000088  9.354839e-06  0.341        False\n",
       "1             Asian    0.000265  1.867897e-10  0.697        False\n",
       "2             Black    0.715675  2.328306e-07  0.686        False\n",
       "3          Hispanic    4.505039  1.318449e-06  0.652        False\n",
       "4             Other    2.110698  1.041080e-06  0.665        False\n",
       "5  Pacific_Islander    0.000000  0.000000e+00  0.697        False\n",
       "6             White  372.440094  2.923168e-05  0.014         True"
      ]
     },
     "execution_count": 164,
     "metadata": {},
     "output_type": "execute_result"
    },
    {
     "data": {
      "image/png": "[encoded data removed]",
      "text/plain": [
       "<Figure size 432x288 with 1 Axes>"
      ]
     },
     "metadata": {
      "needs_background": "light"
     },
     "output_type": "display_data"
    }
   ],
   "source": [
    "nytwenty_prop_mean = cleaned_ny_twenty['Proportion'].mean()\n",
    "nytwenty_prop_std = cleaned_ny_twenty['Proportion'].std()\n",
    "\n",
    "nytwenty_prop_hypo = get_p(cleaned_ny_twenty, nytwenty_prop_mean, nytwenty_prop_std)\n",
    "nytwenty_prop_hypo"
   ]
  },
  {
   "cell_type": "markdown",
   "id": "8d2b5f66",
   "metadata": {},
   "source": [
    "From the above hypothesis tests, we can reject the null hypothesis that there is no inequality in terms of access to food being more than 20 miles away from the White population. Although there is significance found for the white population at the half mile and one mile tract, this does not count toward our hypothesis as inaccess to food is defined as being beyond one mile away in urban areas and beyond 10 miles in rural areas.\n",
    "\n",
    "We can also note that this is different from the national data analysis where we found significance in the American Indian population at the 10 and 20 mile tract, rather than the white population solely at the 20 mile tract.\n",
    "\n",
    "Due to this finding, we will now explore if there is an underlying factor explain for the higher proportion of food inaccess in the 20 mile tracts for the White population specifically. "
   ]
  },
  {
   "cell_type": "markdown",
   "id": "e475cbf1",
   "metadata": {},
   "source": [
    "### Hypothesis Testing for Regression: NY State"
   ]
  },
  {
   "cell_type": "markdown",
   "id": "1f7f676c",
   "metadata": {},
   "source": [
    "As a means of understanding if there is some relationship between the white population tracks from the five feature, as aforementioned in the orginal dataset for New York State.\n",
    "\n",
    "These five features are:  \n",
    "- low income population  \n",
    "- count of kids between 0-17  \n",
    "- count of seniors above 65  \n",
    "- count of housing units with no vehicle  \n",
    "- count of housing units receiving SNAP benefits  \n",
    "\n",
    "This hypothesis test will also help us determine if levels of food insecurity in this population in NY State, which is the most at-risk population, as seen through our previous analysis, is similar to that of the national level for those population."
   ]
  },
  {
   "cell_type": "code",
   "execution_count": 184,
   "id": "902591b3",
   "metadata": {},
   "outputs": [
    {
     "name": "stdout",
     "output_type": "stream",
     "text": [
      "Returning data to local variable reg_ny_df\n"
     ]
    },
    {
     "data": {
      "text/html": [
       "<div>\n",
       "<style scoped>\n",
       "    .dataframe tbody tr th:only-of-type {\n",
       "        vertical-align: middle;\n",
       "    }\n",
       "\n",
       "    .dataframe tbody tr th {\n",
       "        vertical-align: top;\n",
       "    }\n",
       "\n",
       "    .dataframe thead th {\n",
       "        text-align: right;\n",
       "    }\n",
       "</style>\n",
       "<table border=\"1\" class=\"dataframe\">\n",
       "  <thead>\n",
       "    <tr style=\"text-align: right;\">\n",
       "      <th></th>\n",
       "      <th>County</th>\n",
       "      <th>LowIncome</th>\n",
       "      <th>Kids</th>\n",
       "      <th>Seniors</th>\n",
       "      <th>NoVehicle</th>\n",
       "      <th>SNAP</th>\n",
       "    </tr>\n",
       "  </thead>\n",
       "  <tbody>\n",
       "    <tr>\n",
       "      <th>0</th>\n",
       "      <td>Albany</td>\n",
       "      <td>1163</td>\n",
       "      <td>644</td>\n",
       "      <td>218</td>\n",
       "      <td>191</td>\n",
       "      <td>298</td>\n",
       "    </tr>\n",
       "    <tr>\n",
       "      <th>1</th>\n",
       "      <td>Albany</td>\n",
       "      <td>2962</td>\n",
       "      <td>1946</td>\n",
       "      <td>401</td>\n",
       "      <td>880</td>\n",
       "      <td>974</td>\n",
       "    </tr>\n",
       "    <tr>\n",
       "      <th>2</th>\n",
       "      <td>Albany</td>\n",
       "      <td>2670</td>\n",
       "      <td>1297</td>\n",
       "      <td>859</td>\n",
       "      <td>697</td>\n",
       "      <td>653</td>\n",
       "    </tr>\n",
       "    <tr>\n",
       "      <th>3</th>\n",
       "      <td>Albany</td>\n",
       "      <td>245</td>\n",
       "      <td>149</td>\n",
       "      <td>1088</td>\n",
       "      <td>123</td>\n",
       "      <td>0</td>\n",
       "    </tr>\n",
       "    <tr>\n",
       "      <th>4</th>\n",
       "      <td>Albany</td>\n",
       "      <td>1445</td>\n",
       "      <td>531</td>\n",
       "      <td>679</td>\n",
       "      <td>488</td>\n",
       "      <td>146</td>\n",
       "    </tr>\n",
       "  </tbody>\n",
       "</table>\n",
       "</div>"
      ],
      "text/plain": [
       "   County  LowIncome  Kids  Seniors  NoVehicle  SNAP\n",
       "0  Albany       1163   644      218        191   298\n",
       "1  Albany       2962  1946      401        880   974\n",
       "2  Albany       2670  1297      859        697   653\n",
       "3  Albany        245   149     1088        123     0\n",
       "4  Albany       1445   531      679        488   146"
      ]
     },
     "execution_count": 184,
     "metadata": {},
     "output_type": "execute_result"
    }
   ],
   "source": [
    "# Cleaning the dataframe to get only columns of interest for NY \n",
    "%sql reg_ny_df << SELECT County, TractLOWI AS LowIncome, TractKids AS Kids, TractSeniors AS Seniors, TractHUNV AS NoVehicle,\\\n",
    "TractSNAP AS SNAP FROM df WHERE State = 'New York'\n",
    "reg_ny_df.head()"
   ]
  },
  {
   "cell_type": "markdown",
   "id": "0f4f2e7a",
   "metadata": {},
   "source": [
    "In the above data frame, we are filtering out the feature variables (x) from the original dataset and also adding the boolean column (y) for New York State."
   ]
  },
  {
   "cell_type": "code",
   "execution_count": 185,
   "id": "b37cfd57",
   "metadata": {},
   "outputs": [
    {
     "data": {
      "text/html": [
       "<div>\n",
       "<style scoped>\n",
       "    .dataframe tbody tr th:only-of-type {\n",
       "        vertical-align: middle;\n",
       "    }\n",
       "\n",
       "    .dataframe tbody tr th {\n",
       "        vertical-align: top;\n",
       "    }\n",
       "\n",
       "    .dataframe thead th {\n",
       "        text-align: right;\n",
       "    }\n",
       "</style>\n",
       "<table border=\"1\" class=\"dataframe\">\n",
       "  <thead>\n",
       "    <tr style=\"text-align: right;\">\n",
       "      <th></th>\n",
       "      <th>LowIncome</th>\n",
       "      <th>Kids</th>\n",
       "      <th>Seniors</th>\n",
       "      <th>NoVehicle</th>\n",
       "      <th>SNAP</th>\n",
       "    </tr>\n",
       "  </thead>\n",
       "  <tbody>\n",
       "    <tr>\n",
       "      <th>LowIncome</th>\n",
       "      <td>1.000000</td>\n",
       "      <td>0.630829</td>\n",
       "      <td>0.196947</td>\n",
       "      <td>0.558255</td>\n",
       "      <td>0.875548</td>\n",
       "    </tr>\n",
       "    <tr>\n",
       "      <th>Kids</th>\n",
       "      <td>0.630829</td>\n",
       "      <td>1.000000</td>\n",
       "      <td>0.481974</td>\n",
       "      <td>0.239307</td>\n",
       "      <td>0.488386</td>\n",
       "    </tr>\n",
       "    <tr>\n",
       "      <th>Seniors</th>\n",
       "      <td>0.196947</td>\n",
       "      <td>0.481974</td>\n",
       "      <td>1.000000</td>\n",
       "      <td>0.275894</td>\n",
       "      <td>0.121415</td>\n",
       "    </tr>\n",
       "    <tr>\n",
       "      <th>NoVehicle</th>\n",
       "      <td>0.558255</td>\n",
       "      <td>0.239307</td>\n",
       "      <td>0.275894</td>\n",
       "      <td>1.000000</td>\n",
       "      <td>0.552488</td>\n",
       "    </tr>\n",
       "    <tr>\n",
       "      <th>SNAP</th>\n",
       "      <td>0.875548</td>\n",
       "      <td>0.488386</td>\n",
       "      <td>0.121415</td>\n",
       "      <td>0.552488</td>\n",
       "      <td>1.000000</td>\n",
       "    </tr>\n",
       "  </tbody>\n",
       "</table>\n",
       "</div>"
      ],
      "text/plain": [
       "           LowIncome      Kids   Seniors  NoVehicle      SNAP\n",
       "LowIncome   1.000000  0.630829  0.196947   0.558255  0.875548\n",
       "Kids        0.630829  1.000000  0.481974   0.239307  0.488386\n",
       "Seniors     0.196947  0.481974  1.000000   0.275894  0.121415\n",
       "NoVehicle   0.558255  0.239307  0.275894   1.000000  0.552488\n",
       "SNAP        0.875548  0.488386  0.121415   0.552488  1.000000"
      ]
     },
     "execution_count": 185,
     "metadata": {},
     "output_type": "execute_result"
    }
   ],
   "source": [
    "reg_ny_df.corr()"
   ]
  },
  {
   "cell_type": "markdown",
   "id": "016f7976",
   "metadata": {},
   "source": [
    "As seen when the process was completed for national level analysis, there is also a strong correlation between the SNAP program and low income. This can be attributed to the fact that the SNAP program was created to support low income people. To avoid multicollinearity, we will drop the SNAP variable when running the regression."
   ]
  },
  {
   "cell_type": "code",
   "execution_count": 188,
   "id": "16333e0c",
   "metadata": {},
   "outputs": [
    {
     "data": {
      "text/html": [
       "<div>\n",
       "<style scoped>\n",
       "    .dataframe tbody tr th:only-of-type {\n",
       "        vertical-align: middle;\n",
       "    }\n",
       "\n",
       "    .dataframe tbody tr th {\n",
       "        vertical-align: top;\n",
       "    }\n",
       "\n",
       "    .dataframe thead th {\n",
       "        text-align: right;\n",
       "    }\n",
       "</style>\n",
       "<table border=\"1\" class=\"dataframe\">\n",
       "  <thead>\n",
       "    <tr style=\"text-align: right;\">\n",
       "      <th></th>\n",
       "      <th>County</th>\n",
       "      <th>LowIncome</th>\n",
       "      <th>Kids</th>\n",
       "      <th>Seniors</th>\n",
       "      <th>NoVehicle</th>\n",
       "    </tr>\n",
       "  </thead>\n",
       "  <tbody>\n",
       "    <tr>\n",
       "      <th>0</th>\n",
       "      <td>Albany</td>\n",
       "      <td>1163</td>\n",
       "      <td>644</td>\n",
       "      <td>218</td>\n",
       "      <td>191</td>\n",
       "    </tr>\n",
       "    <tr>\n",
       "      <th>1</th>\n",
       "      <td>Albany</td>\n",
       "      <td>2962</td>\n",
       "      <td>1946</td>\n",
       "      <td>401</td>\n",
       "      <td>880</td>\n",
       "    </tr>\n",
       "    <tr>\n",
       "      <th>2</th>\n",
       "      <td>Albany</td>\n",
       "      <td>2670</td>\n",
       "      <td>1297</td>\n",
       "      <td>859</td>\n",
       "      <td>697</td>\n",
       "    </tr>\n",
       "    <tr>\n",
       "      <th>3</th>\n",
       "      <td>Albany</td>\n",
       "      <td>245</td>\n",
       "      <td>149</td>\n",
       "      <td>1088</td>\n",
       "      <td>123</td>\n",
       "    </tr>\n",
       "    <tr>\n",
       "      <th>4</th>\n",
       "      <td>Albany</td>\n",
       "      <td>1445</td>\n",
       "      <td>531</td>\n",
       "      <td>679</td>\n",
       "      <td>488</td>\n",
       "    </tr>\n",
       "  </tbody>\n",
       "</table>\n",
       "</div>"
      ],
      "text/plain": [
       "   County  LowIncome  Kids  Seniors  NoVehicle\n",
       "0  Albany       1163   644      218        191\n",
       "1  Albany       2962  1946      401        880\n",
       "2  Albany       2670  1297      859        697\n",
       "3  Albany        245   149     1088        123\n",
       "4  Albany       1445   531      679        488"
      ]
     },
     "execution_count": 188,
     "metadata": {},
     "output_type": "execute_result"
    }
   ],
   "source": [
    "new_reg_ny_df = reg_ny_df.drop(columns='SNAP')\n",
    "new_reg_ny_df.head()"
   ]
  },
  {
   "cell_type": "markdown",
   "id": "abf25d36",
   "metadata": {},
   "source": [
    "This data frame is updated with the dropped SNAP column. Now we will normalize values to organize the data effectively."
   ]
  },
  {
   "cell_type": "code",
   "execution_count": 189,
   "id": "c3ff1dea",
   "metadata": {},
   "outputs": [
    {
     "data": {
      "text/html": [
       "<div>\n",
       "<style scoped>\n",
       "    .dataframe tbody tr th:only-of-type {\n",
       "        vertical-align: middle;\n",
       "    }\n",
       "\n",
       "    .dataframe tbody tr th {\n",
       "        vertical-align: top;\n",
       "    }\n",
       "\n",
       "    .dataframe thead th {\n",
       "        text-align: right;\n",
       "    }\n",
       "</style>\n",
       "<table border=\"1\" class=\"dataframe\">\n",
       "  <thead>\n",
       "    <tr style=\"text-align: right;\">\n",
       "      <th></th>\n",
       "      <th>LowIncome</th>\n",
       "      <th>Kids</th>\n",
       "      <th>Seniors</th>\n",
       "      <th>NoVehicle</th>\n",
       "    </tr>\n",
       "  </thead>\n",
       "  <tbody>\n",
       "    <tr>\n",
       "      <th>0</th>\n",
       "      <td>-0.095851</td>\n",
       "      <td>-0.480400</td>\n",
       "      <td>-0.917674</td>\n",
       "      <td>-0.382644</td>\n",
       "    </tr>\n",
       "    <tr>\n",
       "      <th>1</th>\n",
       "      <td>1.629584</td>\n",
       "      <td>2.154540</td>\n",
       "      <td>-0.385414</td>\n",
       "      <td>0.704500</td>\n",
       "    </tr>\n",
       "    <tr>\n",
       "      <th>2</th>\n",
       "      <td>1.349525</td>\n",
       "      <td>0.841118</td>\n",
       "      <td>0.946690</td>\n",
       "      <td>0.415752</td>\n",
       "    </tr>\n",
       "    <tr>\n",
       "      <th>3</th>\n",
       "      <td>-0.976311</td>\n",
       "      <td>-1.482163</td>\n",
       "      <td>1.612742</td>\n",
       "      <td>-0.489938</td>\n",
       "    </tr>\n",
       "    <tr>\n",
       "      <th>4</th>\n",
       "      <td>0.174618</td>\n",
       "      <td>-0.709085</td>\n",
       "      <td>0.423156</td>\n",
       "      <td>0.085980</td>\n",
       "    </tr>\n",
       "  </tbody>\n",
       "</table>\n",
       "</div>"
      ],
      "text/plain": [
       "   LowIncome      Kids   Seniors  NoVehicle\n",
       "0  -0.095851 -0.480400 -0.917674  -0.382644\n",
       "1   1.629584  2.154540 -0.385414   0.704500\n",
       "2   1.349525  0.841118  0.946690   0.415752\n",
       "3  -0.976311 -1.482163  1.612742  -0.489938\n",
       "4   0.174618 -0.709085  0.423156   0.085980"
      ]
     },
     "execution_count": 189,
     "metadata": {},
     "output_type": "execute_result"
    }
   ],
   "source": [
    "means_ny = new_reg_ny_df[['LowIncome','Kids','Seniors','NoVehicle']].mean()\n",
    "stds_ny = new_reg_ny_df[['LowIncome','Kids','Seniors','NoVehicle']].std()\n",
    "norm_reg_ny_df = (new_reg_ny_df[['LowIncome','Kids','Seniors','NoVehicle']] - means_ny)/ stds_ny\n",
    "norm_reg_ny_df.head()"
   ]
  },
  {
   "cell_type": "markdown",
   "id": "ea3e0bd6",
   "metadata": {},
   "source": [
    "This dataframe is the result of normalization."
   ]
  },
  {
   "cell_type": "code",
   "execution_count": 190,
   "id": "75885966",
   "metadata": {},
   "outputs": [],
   "source": [
    "#Filter tracts with greatest white for NY\n",
    "most_white_tracts_ny = (ny_twenty.drop(columns=['State','County']).max(axis=1) == ny_twenty['White']) & (ny_twenty['White'] > 0)"
   ]
  },
  {
   "cell_type": "markdown",
   "id": "5ff0f2fc",
   "metadata": {},
   "source": [
    "We have created a variable `most_white_tracts_ny` to filter tracts with the greatest proportion of white population that was at risk for food insecurity in NY. As informed by our hypothesis testing, significance was found for the white population of the 20 mile tract. Thus, we restricted the variable for the white population proportion for the 20 mile tract.\n",
    "\n",
    "Within this next dataframe, we will now generate summary statistics to understand if any features have a relevant relationship with the white population at the 20 mile distance"
   ]
  },
  {
   "cell_type": "code",
   "execution_count": 191,
   "id": "da684e0e",
   "metadata": {},
   "outputs": [
    {
     "name": "stdout",
     "output_type": "stream",
     "text": [
      "Optimization terminated successfully.\n",
      "         Current function value: 0.693141\n",
      "         Iterations 3\n"
     ]
    },
    {
     "data": {
      "text/html": [
       "<table class=\"simpletable\">\n",
       "<caption>Logit Regression Results</caption>\n",
       "<tr>\n",
       "  <th>Dep. Variable:</th>           <td>y</td>        <th>  No. Observations:  </th>  <td>  4907</td> \n",
       "</tr>\n",
       "<tr>\n",
       "  <th>Model:</th>                 <td>Logit</td>      <th>  Df Residuals:      </th>  <td>  4903</td> \n",
       "</tr>\n",
       "<tr>\n",
       "  <th>Method:</th>                 <td>MLE</td>       <th>  Df Model:          </th>  <td>     3</td> \n",
       "</tr>\n",
       "<tr>\n",
       "  <th>Date:</th>            <td>Mon, 21 Nov 2022</td> <th>  Pseudo R-squ.:     </th>  <td>-56.31</td> \n",
       "</tr>\n",
       "<tr>\n",
       "  <th>Time:</th>                <td>15:03:02</td>     <th>  Log-Likelihood:    </th> <td> -3401.2</td>\n",
       "</tr>\n",
       "<tr>\n",
       "  <th>converged:</th>             <td>True</td>       <th>  LL-Null:           </th> <td> -59.345</td>\n",
       "</tr>\n",
       "<tr>\n",
       "  <th>Covariance Type:</th>     <td>nonrobust</td>    <th>  LLR p-value:       </th>  <td> 1.000</td> \n",
       "</tr>\n",
       "</table>\n",
       "<table class=\"simpletable\">\n",
       "<tr>\n",
       "      <td></td>         <th>coef</th>     <th>std err</th>      <th>z</th>      <th>P>|z|</th>  <th>[0.025</th>    <th>0.975]</th>  \n",
       "</tr>\n",
       "<tr>\n",
       "  <th>LowIncome</th> <td>    0.0010</td> <td>    0.046</td> <td>    0.021</td> <td> 0.983</td> <td>   -0.089</td> <td>    0.091</td>\n",
       "</tr>\n",
       "<tr>\n",
       "  <th>Kids</th>      <td>   -0.0067</td> <td>    0.044</td> <td>   -0.153</td> <td> 0.878</td> <td>   -0.093</td> <td>    0.079</td>\n",
       "</tr>\n",
       "<tr>\n",
       "  <th>Seniors</th>   <td>    0.0012</td> <td>    0.035</td> <td>    0.034</td> <td> 0.973</td> <td>   -0.067</td> <td>    0.070</td>\n",
       "</tr>\n",
       "<tr>\n",
       "  <th>NoVehicle</th> <td>   -0.0032</td> <td>    0.037</td> <td>   -0.088</td> <td> 0.930</td> <td>   -0.076</td> <td>    0.069</td>\n",
       "</tr>\n",
       "</table>"
      ],
      "text/plain": [
       "<class 'statsmodels.iolib.summary.Summary'>\n",
       "\"\"\"\n",
       "                           Logit Regression Results                           \n",
       "==============================================================================\n",
       "Dep. Variable:                      y   No. Observations:                 4907\n",
       "Model:                          Logit   Df Residuals:                     4903\n",
       "Method:                           MLE   Df Model:                            3\n",
       "Date:                Mon, 21 Nov 2022   Pseudo R-squ.:                  -56.31\n",
       "Time:                        15:03:02   Log-Likelihood:                -3401.2\n",
       "converged:                       True   LL-Null:                       -59.345\n",
       "Covariance Type:            nonrobust   LLR p-value:                     1.000\n",
       "==============================================================================\n",
       "                 coef    std err          z      P>|z|      [0.025      0.975]\n",
       "------------------------------------------------------------------------------\n",
       "LowIncome      0.0010      0.046      0.021      0.983      -0.089       0.091\n",
       "Kids          -0.0067      0.044     -0.153      0.878      -0.093       0.079\n",
       "Seniors        0.0012      0.035      0.034      0.973      -0.067       0.070\n",
       "NoVehicle     -0.0032      0.037     -0.088      0.930      -0.076       0.069\n",
       "==============================================================================\n",
       "\"\"\""
      ]
     },
     "execution_count": 191,
     "metadata": {},
     "output_type": "execute_result"
    }
   ],
   "source": [
    "# Splitting above dataset to fit regression\n",
    "X_train, X_test, y_train, y_test = \\\n",
    "train_test_split(norm_reg_ny_df, most_white_tracts_ny, test_size=0.3)\n",
    "\n",
    "# Using statsmodel package to get summary statistics of the regression\n",
    "model = sm.Logit(most_white_tracts_ny, norm_reg_ny_df)\n",
    "results = model.fit()\n",
    "results.summary()"
   ]
  },
  {
   "cell_type": "markdown",
   "id": "d9d9c133",
   "metadata": {},
   "source": [
    "From the above summary statistics, we can see again that there are no significant p-values across the four features. We fail to reject the null hypothesis that there is no relationship between the features (low income, number of kids, number of seniors, and number of housing units without a vehicle) and white population tracts in New York State."
   ]
  },
  {
   "cell_type": "markdown",
   "id": "2b7db7c0",
   "metadata": {},
   "source": [
    "\n",
    "---\n",
    "\n",
    "## Comparing Two Distributions"
   ]
  },
  {
   "cell_type": "code",
   "execution_count": 192,
   "id": "85ce6887",
   "metadata": {},
   "outputs": [
    {
     "data": {
      "text/html": [
       "<div>\n",
       "<style scoped>\n",
       "    .dataframe tbody tr th:only-of-type {\n",
       "        vertical-align: middle;\n",
       "    }\n",
       "\n",
       "    .dataframe tbody tr th {\n",
       "        vertical-align: top;\n",
       "    }\n",
       "\n",
       "    .dataframe thead th {\n",
       "        text-align: right;\n",
       "    }\n",
       "</style>\n",
       "<table border=\"1\" class=\"dataframe\">\n",
       "  <thead>\n",
       "    <tr style=\"text-align: right;\">\n",
       "      <th></th>\n",
       "      <th>Race</th>\n",
       "      <th>NYS_half</th>\n",
       "      <th>US_half</th>\n",
       "      <th>NYS_one</th>\n",
       "      <th>US_one</th>\n",
       "      <th>NYS_ten</th>\n",
       "      <th>US_ten</th>\n",
       "      <th>NYS_twenty</th>\n",
       "      <th>US_twenty</th>\n",
       "    </tr>\n",
       "  </thead>\n",
       "  <tbody>\n",
       "    <tr>\n",
       "      <th>0</th>\n",
       "      <td>American_Indian</td>\n",
       "      <td>0.323272</td>\n",
       "      <td>0.736394</td>\n",
       "      <td>0.197405</td>\n",
       "      <td>0.500249</td>\n",
       "      <td>0.007364</td>\n",
       "      <td>0.115463</td>\n",
       "      <td>9.354839e-06</td>\n",
       "      <td>0.052531</td>\n",
       "    </tr>\n",
       "    <tr>\n",
       "      <th>1</th>\n",
       "      <td>Asian</td>\n",
       "      <td>0.185066</td>\n",
       "      <td>0.540450</td>\n",
       "      <td>0.066749</td>\n",
       "      <td>0.212169</td>\n",
       "      <td>0.000244</td>\n",
       "      <td>0.001566</td>\n",
       "      <td>1.867897e-10</td>\n",
       "      <td>0.000261</td>\n",
       "    </tr>\n",
       "    <tr>\n",
       "      <th>2</th>\n",
       "      <td>Black</td>\n",
       "      <td>0.192742</td>\n",
       "      <td>0.626048</td>\n",
       "      <td>0.055881</td>\n",
       "      <td>0.290160</td>\n",
       "      <td>0.000784</td>\n",
       "      <td>0.008718</td>\n",
       "      <td>2.328306e-07</td>\n",
       "      <td>0.000178</td>\n",
       "    </tr>\n",
       "    <tr>\n",
       "      <th>3</th>\n",
       "      <td>Hispanic</td>\n",
       "      <td>0.176656</td>\n",
       "      <td>0.549026</td>\n",
       "      <td>0.062888</td>\n",
       "      <td>0.233282</td>\n",
       "      <td>0.000592</td>\n",
       "      <td>0.007739</td>\n",
       "      <td>1.318449e-06</td>\n",
       "      <td>0.001386</td>\n",
       "    </tr>\n",
       "    <tr>\n",
       "      <th>4</th>\n",
       "      <td>Other</td>\n",
       "      <td>0.176759</td>\n",
       "      <td>0.551826</td>\n",
       "      <td>0.065662</td>\n",
       "      <td>0.241492</td>\n",
       "      <td>0.000781</td>\n",
       "      <td>0.008525</td>\n",
       "      <td>1.041080e-06</td>\n",
       "      <td>0.001340</td>\n",
       "    </tr>\n",
       "    <tr>\n",
       "      <th>5</th>\n",
       "      <td>Pacific_Islander</td>\n",
       "      <td>0.283234</td>\n",
       "      <td>0.610743</td>\n",
       "      <td>0.144122</td>\n",
       "      <td>0.292074</td>\n",
       "      <td>0.003096</td>\n",
       "      <td>0.009084</td>\n",
       "      <td>0.000000e+00</td>\n",
       "      <td>0.001362</td>\n",
       "    </tr>\n",
       "    <tr>\n",
       "      <th>6</th>\n",
       "      <td>White</td>\n",
       "      <td>0.543687</td>\n",
       "      <td>0.741245</td>\n",
       "      <td>0.316785</td>\n",
       "      <td>0.450630</td>\n",
       "      <td>0.006469</td>\n",
       "      <td>0.019292</td>\n",
       "      <td>2.923168e-05</td>\n",
       "      <td>0.001930</td>\n",
       "    </tr>\n",
       "  </tbody>\n",
       "</table>\n",
       "</div>"
      ],
      "text/plain": [
       "               Race  NYS_half   US_half   NYS_one    US_one   NYS_ten  \\\n",
       "0   American_Indian  0.323272  0.736394  0.197405  0.500249  0.007364   \n",
       "1             Asian  0.185066  0.540450  0.066749  0.212169  0.000244   \n",
       "2             Black  0.192742  0.626048  0.055881  0.290160  0.000784   \n",
       "3          Hispanic  0.176656  0.549026  0.062888  0.233282  0.000592   \n",
       "4             Other  0.176759  0.551826  0.065662  0.241492  0.000781   \n",
       "5  Pacific_Islander  0.283234  0.610743  0.144122  0.292074  0.003096   \n",
       "6             White  0.543687  0.741245  0.316785  0.450630  0.006469   \n",
       "\n",
       "     US_ten    NYS_twenty  US_twenty  \n",
       "0  0.115463  9.354839e-06   0.052531  \n",
       "1  0.001566  1.867897e-10   0.000261  \n",
       "2  0.008718  2.328306e-07   0.000178  \n",
       "3  0.007739  1.318449e-06   0.001386  \n",
       "4  0.008525  1.041080e-06   0.001340  \n",
       "5  0.009084  0.000000e+00   0.001362  \n",
       "6  0.019292  2.923168e-05   0.001930  "
      ]
     },
     "execution_count": 192,
     "metadata": {},
     "output_type": "execute_result"
    }
   ],
   "source": [
    "both_prop_dist = pd.DataFrame({'Race':cleaned_half['Race'],\\\n",
    "                               'NYS_half':cleaned_ny_half['Proportion'], 'US_half':cleaned_half['Proportion'],\\\n",
    "                               'NYS_one':cleaned_ny_one['Proportion'], 'US_one':cleaned_one['Proportion'],\\\n",
    "                               'NYS_ten':cleaned_ny_ten['Proportion'], 'US_ten':cleaned_ten['Proportion'],\\\n",
    "                               'NYS_twenty':cleaned_ny_twenty['Proportion'], 'US_twenty':cleaned_twenty['Proportion']})\n",
    "both_prop_dist"
   ]
  },
  {
   "cell_type": "markdown",
   "id": "c9551272",
   "metadata": {},
   "source": [
    "The above dataframe is simply the proportion of the different racial groups aggregated into one dataframe for both the NYS and US distributions. We noticed that the proportion for the US is significantly larger for obvious reasons, so we will normalize the data to make them more comparable."
   ]
  },
  {
   "cell_type": "code",
   "execution_count": 193,
   "id": "c5c3cc11",
   "metadata": {},
   "outputs": [
    {
     "data": {
      "text/html": [
       "<div>\n",
       "<style scoped>\n",
       "    .dataframe tbody tr th:only-of-type {\n",
       "        vertical-align: middle;\n",
       "    }\n",
       "\n",
       "    .dataframe tbody tr th {\n",
       "        vertical-align: top;\n",
       "    }\n",
       "\n",
       "    .dataframe thead th {\n",
       "        text-align: right;\n",
       "    }\n",
       "</style>\n",
       "<table border=\"1\" class=\"dataframe\">\n",
       "  <thead>\n",
       "    <tr style=\"text-align: right;\">\n",
       "      <th></th>\n",
       "      <th>Race</th>\n",
       "      <th>NYS_half</th>\n",
       "      <th>US_half</th>\n",
       "      <th>NYS_one</th>\n",
       "      <th>US_one</th>\n",
       "      <th>NYS_ten</th>\n",
       "      <th>US_ten</th>\n",
       "      <th>NYS_twenty</th>\n",
       "      <th>US_twenty</th>\n",
       "    </tr>\n",
       "  </thead>\n",
       "  <tbody>\n",
       "    <tr>\n",
       "      <th>0</th>\n",
       "      <td>American_Indian</td>\n",
       "      <td>0.405277</td>\n",
       "      <td>1.327701</td>\n",
       "      <td>0.687680</td>\n",
       "      <td>1.621773</td>\n",
       "      <td>1.535384</td>\n",
       "      <td>2.248951</td>\n",
       "      <td>0.320852</td>\n",
       "      <td>2.266565</td>\n",
       "    </tr>\n",
       "    <tr>\n",
       "      <th>1</th>\n",
       "      <td>Asian</td>\n",
       "      <td>-0.622489</td>\n",
       "      <td>-0.951430</td>\n",
       "      <td>-0.643869</td>\n",
       "      <td>-0.929866</td>\n",
       "      <td>-0.839802</td>\n",
       "      <td>-0.562102</td>\n",
       "      <td>-0.543595</td>\n",
       "      <td>-0.419659</td>\n",
       "    </tr>\n",
       "    <tr>\n",
       "      <th>2</th>\n",
       "      <td>Black</td>\n",
       "      <td>-0.565407</td>\n",
       "      <td>0.044206</td>\n",
       "      <td>-0.754622</td>\n",
       "      <td>-0.239066</td>\n",
       "      <td>-0.659712</td>\n",
       "      <td>-0.385586</td>\n",
       "      <td>-0.522097</td>\n",
       "      <td>-0.423918</td>\n",
       "    </tr>\n",
       "    <tr>\n",
       "      <th>3</th>\n",
       "      <td>Hispanic</td>\n",
       "      <td>-0.685029</td>\n",
       "      <td>-0.851682</td>\n",
       "      <td>-0.683214</td>\n",
       "      <td>-0.742857</td>\n",
       "      <td>-0.723618</td>\n",
       "      <td>-0.409753</td>\n",
       "      <td>-0.421776</td>\n",
       "      <td>-0.361827</td>\n",
       "    </tr>\n",
       "    <tr>\n",
       "      <th>4</th>\n",
       "      <td>Other</td>\n",
       "      <td>-0.684270</td>\n",
       "      <td>-0.819111</td>\n",
       "      <td>-0.654949</td>\n",
       "      <td>-0.670145</td>\n",
       "      <td>-0.660559</td>\n",
       "      <td>-0.390340</td>\n",
       "      <td>-0.447408</td>\n",
       "      <td>-0.364208</td>\n",
       "    </tr>\n",
       "    <tr>\n",
       "      <th>5</th>\n",
       "      <td>Pacific_Islander</td>\n",
       "      <td>0.107530</td>\n",
       "      <td>-0.133817</td>\n",
       "      <td>0.144661</td>\n",
       "      <td>-0.222118</td>\n",
       "      <td>0.111488</td>\n",
       "      <td>-0.376550</td>\n",
       "      <td>-0.543612</td>\n",
       "      <td>-0.363085</td>\n",
       "    </tr>\n",
       "    <tr>\n",
       "      <th>6</th>\n",
       "      <td>White</td>\n",
       "      <td>2.044387</td>\n",
       "      <td>1.384133</td>\n",
       "      <td>1.904313</td>\n",
       "      <td>1.182278</td>\n",
       "      <td>1.236818</td>\n",
       "      <td>-0.124621</td>\n",
       "      <td>2.157636</td>\n",
       "      <td>-0.333868</td>\n",
       "    </tr>\n",
       "  </tbody>\n",
       "</table>\n",
       "</div>"
      ],
      "text/plain": [
       "               Race  NYS_half   US_half   NYS_one    US_one   NYS_ten  \\\n",
       "0   American_Indian  0.405277  1.327701  0.687680  1.621773  1.535384   \n",
       "1             Asian -0.622489 -0.951430 -0.643869 -0.929866 -0.839802   \n",
       "2             Black -0.565407  0.044206 -0.754622 -0.239066 -0.659712   \n",
       "3          Hispanic -0.685029 -0.851682 -0.683214 -0.742857 -0.723618   \n",
       "4             Other -0.684270 -0.819111 -0.654949 -0.670145 -0.660559   \n",
       "5  Pacific_Islander  0.107530 -0.133817  0.144661 -0.222118  0.111488   \n",
       "6             White  2.044387  1.384133  1.904313  1.182278  1.236818   \n",
       "\n",
       "     US_ten  NYS_twenty  US_twenty  \n",
       "0  2.248951    0.320852   2.266565  \n",
       "1 -0.562102   -0.543595  -0.419659  \n",
       "2 -0.385586   -0.522097  -0.423918  \n",
       "3 -0.409753   -0.421776  -0.361827  \n",
       "4 -0.390340   -0.447408  -0.364208  \n",
       "5 -0.376550   -0.543612  -0.363085  \n",
       "6 -0.124621    2.157636  -0.333868  "
      ]
     },
     "execution_count": 193,
     "metadata": {},
     "output_type": "execute_result"
    }
   ],
   "source": [
    "means = both_prop_dist.drop(columns='Race').mean()\n",
    "stds = both_prop_dist.drop(columns='Race').std()\n",
    "\n",
    "both_prop_dist_norm = (both_prop_dist.drop(columns='Race') - means)/stds\n",
    "both_prop_dist_norm.insert(0, 'Race', both_prop_dist['Race'])\n",
    "both_prop_dist_norm"
   ]
  },
  {
   "cell_type": "code",
   "execution_count": 194,
   "id": "ebf3584d",
   "metadata": {},
   "outputs": [
    {
     "data": {
      "text/plain": [
       "<seaborn.axisgrid.FacetGrid at 0x7f8aba6f7fa0>"
      ]
     },
     "execution_count": 194,
     "metadata": {},
     "output_type": "execute_result"
    },
    {
     "data": {
      "image/png": "[encoded data removed]",
      "text/plain": [
       "<Figure size 459x360 with 1 Axes>"
      ]
     },
     "metadata": {
      "needs_background": "light"
     },
     "output_type": "display_data"
    }
   ],
   "source": [
    "both_prop_half_melted = pd.melt(both_prop_dist_norm[['Race','NYS_half','US_half']], id_vars='Race', var_name='Location_Distance', value_name='z-score')\n",
    "sns.catplot(data=both_prop_half_melted, x='z-score',y='Race',kind='bar',hue='Location_Distance')"
   ]
  },
  {
   "cell_type": "markdown",
   "id": "24e32a44",
   "metadata": {},
   "source": [
    "This catplot displays the differnece in the z-score of race reflective of the US and NY State in the half mile tract."
   ]
  },
  {
   "cell_type": "code",
   "execution_count": 195,
   "id": "c066efb2",
   "metadata": {},
   "outputs": [
    {
     "data": {
      "text/plain": [
       "<seaborn.axisgrid.FacetGrid at 0x7f8abab88bb0>"
      ]
     },
     "execution_count": 195,
     "metadata": {},
     "output_type": "execute_result"
    },
    {
     "data": {
      "image/png": "[encoded data removed]",
      "text/plain": [
       "<Figure size 459x360 with 1 Axes>"
      ]
     },
     "metadata": {
      "needs_background": "light"
     },
     "output_type": "display_data"
    }
   ],
   "source": [
    "both_prop_one_melted = pd.melt(both_prop_dist_norm[['Race','NYS_one','US_one']], id_vars='Race', var_name='Location_Distance', value_name='z-score')\n",
    "sns.catplot(data=both_prop_one_melted, x='z-score',y='Race',kind='bar',hue='Location_Distance')"
   ]
  },
  {
   "cell_type": "markdown",
   "id": "a845547d",
   "metadata": {},
   "source": [
    "This catplot displays the differnece in the z-score of race reflective of the US and NY State in the one mile tract."
   ]
  },
  {
   "cell_type": "code",
   "execution_count": 196,
   "id": "c19266d8",
   "metadata": {},
   "outputs": [
    {
     "data": {
      "text/plain": [
       "<seaborn.axisgrid.FacetGrid at 0x7f8ac780d4c0>"
      ]
     },
     "execution_count": 196,
     "metadata": {},
     "output_type": "execute_result"
    },
    {
     "data": {
      "image/png": "[encoded data removed]",
      "text/plain": [
       "<Figure size 459x360 with 1 Axes>"
      ]
     },
     "metadata": {
      "needs_background": "light"
     },
     "output_type": "display_data"
    }
   ],
   "source": [
    "both_prop_ten_melted = pd.melt(both_prop_dist_norm[['Race','NYS_ten','US_ten']], id_vars='Race', var_name='Location_Distance', value_name='z-score')\n",
    "sns.catplot(data=both_prop_ten_melted, x='z-score',y='Race',kind='bar',hue='Location_Distance')"
   ]
  },
  {
   "cell_type": "markdown",
   "id": "683e9d8a",
   "metadata": {},
   "source": [
    "This catplot displays the differnece in the z-score of race reflective of the US and NY State in the ten mile tract."
   ]
  },
  {
   "cell_type": "code",
   "execution_count": 197,
   "id": "4c8d719c",
   "metadata": {},
   "outputs": [
    {
     "data": {
      "text/plain": [
       "<seaborn.axisgrid.FacetGrid at 0x7f8ad7985610>"
      ]
     },
     "execution_count": 197,
     "metadata": {},
     "output_type": "execute_result"
    },
    {
     "data": {
      "image/png": "[encoded data removed]",
      "text/plain": [
       "<Figure size 459x360 with 1 Axes>"
      ]
     },
     "metadata": {
      "needs_background": "light"
     },
     "output_type": "display_data"
    }
   ],
   "source": [
    "both_prop_twenty_melted = pd.melt(both_prop_dist_norm[['Race','NYS_twenty','US_twenty']], id_vars='Race', var_name='Location_Distance', value_name='z-score')\n",
    "sns.catplot(data=both_prop_twenty_melted, x='z-score',y='Race',kind='bar',hue='Location_Distance')"
   ]
  },
  {
   "cell_type": "markdown",
   "id": "f905067c",
   "metadata": {},
   "source": [
    "This catplot displays the differnece in the z-score of race reflective of the US and NY State in the twenty mile tract."
   ]
  },
  {
   "cell_type": "markdown",
   "id": "5f42c7bf",
   "metadata": {},
   "source": [
    "### Regression"
   ]
  },
  {
   "cell_type": "markdown",
   "id": "1d4ef357",
   "metadata": {},
   "source": [
    "For this regression, we are seeing if we can we predict the proportion of people living in a \"food desert\" based on racial distribution."
   ]
  },
  {
   "cell_type": "markdown",
   "id": "bbcf2a2b",
   "metadata": {},
   "source": [
    "Here, we are creating four dataframes. Each of dataframes is a combination of either national or New York data and urban or rural data. Additionally, census tract is included as the ID variable, as data is given at the census-tract-level."
   ]
  },
  {
   "cell_type": "code",
   "execution_count": 93,
   "id": "25c10806",
   "metadata": {},
   "outputs": [
    {
     "name": "stdout",
     "output_type": "stream",
     "text": [
      "Returning data to local variable urban_national\n"
     ]
    }
   ],
   "source": [
    "%sql urban_national << SELECT CensusTract, POP2010 as Population, lawhite1 as White, lablack1 as Black,\\\n",
    "laasian1 as Asian, lanhopi1 as Pacific_Islander, laaian1 as American_Indian, laomultir1 as Other,\\\n",
    "lahisp1 as Hispanic FROM df WHERE Urban == '1'"
   ]
  },
  {
   "cell_type": "code",
   "execution_count": 94,
   "id": "42483698",
   "metadata": {},
   "outputs": [
    {
     "name": "stdout",
     "output_type": "stream",
     "text": [
      "Returning data to local variable urban_nys\n"
     ]
    }
   ],
   "source": [
    "%sql urban_nys << SELECT CensusTract, POP2010 as Population, lawhite1 as White, lablack1 as Black,\\\n",
    "laasian1 as Asian, lanhopi1 as Pacific_Islander, laaian1 as American_Indian, laomultir1 as Other,\\\n",
    "lahisp1 as Hispanic FROM df WHERE State == 'New York' AND Urban == '1'"
   ]
  },
  {
   "cell_type": "code",
   "execution_count": 95,
   "id": "8ebaba8a",
   "metadata": {},
   "outputs": [
    {
     "name": "stdout",
     "output_type": "stream",
     "text": [
      "Returning data to local variable rural_national\n"
     ]
    }
   ],
   "source": [
    "%sql rural_national << SELECT CensusTract, POP2010 as Population, lawhite10 as White, lablack10 as Black,\\\n",
    "laasian10 as Asian, lanhopi10 as Pacific_Islander, laaian10 as American_Indian, laomultir10 as Other,\\\n",
    "lahisp10 as Hispanic FROM df WHERE Urban == '0'"
   ]
  },
  {
   "cell_type": "code",
   "execution_count": 96,
   "id": "e72d3b89",
   "metadata": {},
   "outputs": [
    {
     "name": "stdout",
     "output_type": "stream",
     "text": [
      "Returning data to local variable rural_nys\n"
     ]
    }
   ],
   "source": [
    "%sql rural_nys << SELECT CensusTract, POP2010 as Population, lawhite10 as White, lablack10 as Black,\\\n",
    "laasian10 as Asian, lanhopi10 as Pacific_Islander, laaian10 as American_Indian, laomultir10 as Other,\\\n",
    "lahisp10 as Hispanic FROM df WHERE State == 'New York' AND Urban == '0'"
   ]
  },
  {
   "cell_type": "markdown",
   "id": "e8765d5e",
   "metadata": {},
   "source": [
    "This function allows the regression to be run on each of the four dataframes. First, the proportion of each race per tract is calculated. Next, the dataset is melted and dummy variables are created. Then, the model is initialized and run. Lastly, metrics incuding mean squared error, root mean squared error, and mean absolute error are calculated."
   ]
  },
  {
   "cell_type": "code",
   "execution_count": 149,
   "id": "1f9af2c4",
   "metadata": {},
   "outputs": [],
   "source": [
    "def run_regression(dataset):\n",
    "    dataset = dataset.dropna()\n",
    "    dataset = dataset.astype(float)\n",
    "    \n",
    "    # calculating proportion of race per tract\n",
    "    dataset['White'] = dataset['White'] / dataset['Population']\n",
    "    dataset['Black'] = dataset['Black'] / dataset['Population']\n",
    "    dataset['Asian'] = dataset['Asian'] / dataset['Population']\n",
    "    dataset['Pacific_Islander'] = dataset['Pacific_Islander'] / dataset['Population']\n",
    "    dataset['American_Indian'] = dataset['American_Indian'] / dataset['Population']\n",
    "    dataset['Other'] = dataset['Other'] / dataset['Population']\n",
    "    dataset['Hispanic'] = dataset['Hispanic'] / dataset['Population']\n",
    "    \n",
    "    # preparing dataset for regression\n",
    "    dataset = dataset.drop(['Population'],axis=1)\n",
    "    dataset = dataset.dropna(axis=0)\n",
    "    melted_dataset = pd.melt(dataset, id_vars='CensusTract', var_name='Race',value_name='Proportion')\n",
    "    melted_dummies_dataset = pd.concat([melted_dataset, pd.get_dummies(melted_dataset['Race'])], axis=1)\n",
    "    \n",
    "    # creating a train and test dataset\n",
    "    X = melted_dummies_dataset[['American_Indian','Asian','Black','Hispanic','Other','Pacific_Islander','White']]\n",
    "    Y = melted_dummies_dataset['Proportion']\n",
    "    print('X shape',X.shape)\n",
    "    print('Y shape',Y.shape)\n",
    "    X_train, X_test, y_train, y_test = train_test_split(X, Y, test_size=0.3, random_state=0)\n",
    "    \n",
    "    # regression model\n",
    "    model = LinearRegression()\n",
    "    model.fit(X_train,y_train)\n",
    "    print('Coefficient:',model.coef_)\n",
    "    print('Intercept:',model.intercept_)\n",
    "    \n",
    "    y_train_pred = model.predict(X_train)\n",
    "    y_test_pred = model.predict(X_test)\n",
    "    predicted_american_indian = model.predict([[1,0,0,0,0,0,0]])\n",
    "    predicted_white = model.predict([[1,0,0,0,0,0,0]])\n",
    "    \n",
    "    msetrain = np.mean(np.square(np.subtract(y_train, y_train_pred)))\n",
    "    msetest = np.mean(np.square(np.subtract(y_test, y_test_pred)))\n",
    "    \n",
    "    rmsetrain = math.sqrt(msetrain)\n",
    "    rmsetest = math.sqrt(msetest)\n",
    "    \n",
    "    maetrain = np.mean(np.abs(np.subtract(y_test, y_test_pred)))\n",
    "    maetest = np.mean(np.abs(np.subtract(y_test, y_test_pred)))\n",
    "    \n",
    "    print('MSE:',msetrain, msetest)\n",
    "    print('RMSE:',rmsetrain, rmsetest)\n",
    "    print('MAE:',maetrain, maetest)"
   ]
  },
  {
   "cell_type": "markdown",
   "id": "e36bfcfb",
   "metadata": {},
   "source": [
    "Below are the results for each of the four dataframes:"
   ]
  },
  {
   "cell_type": "code",
   "execution_count": 155,
   "id": "16cbe27d",
   "metadata": {},
   "outputs": [
    {
     "name": "stdout",
     "output_type": "stream",
     "text": [
      "X shape (386204, 7)\n",
      "Y shape (386204,)\n",
      "Coefficient: [-1.05187495e+09 -1.05187495e+09 -1.05187495e+09 -1.05187495e+09\n",
      " -1.05187495e+09 -1.05187495e+09 -1.05187495e+09]\n",
      "Intercept: 1051874954.0357033\n",
      "MSE: 0.012721222650627292 0.012668371271004801\n",
      "RMSE: 0.11278839767736437 0.11255385942296604\n",
      "MAE: 0.0482033225793975 0.0482033225793975\n"
     ]
    }
   ],
   "source": [
    "run_regression(urban_national)"
   ]
  },
  {
   "cell_type": "code",
   "execution_count": 156,
   "id": "e3a7e973",
   "metadata": {},
   "outputs": [
    {
     "name": "stdout",
     "output_type": "stream",
     "text": [
      "X shape (29281, 7)\n",
      "Y shape (29281,)\n",
      "Coefficient: [-8.62119004e+11 -8.62119004e+11 -8.62119004e+11 -8.62119004e+11\n",
      " -8.62119004e+11 -8.62119004e+11 -8.62119004e+11]\n",
      "Intercept: 862119003585.239\n",
      "MSE: 0.007901737349781624 0.006847732245465596\n",
      "RMSE: 0.08889171699197639 0.08275102564600391\n",
      "MAE: 0.027274786433728816 0.027274786433728816\n"
     ]
    }
   ],
   "source": [
    "run_regression(urban_nys)"
   ]
  },
  {
   "cell_type": "code",
   "execution_count": 157,
   "id": "5c73640b",
   "metadata": {},
   "outputs": [
    {
     "name": "stdout",
     "output_type": "stream",
     "text": [
      "X shape (121513, 7)\n",
      "Y shape (121513,)\n",
      "Coefficient: [2.6110573e+08 2.6110573e+08 2.6110573e+08 2.6110573e+08 2.6110573e+08\n",
      " 2.6110573e+08 2.6110573e+08]\n",
      "Intercept: -261105729.92620358\n",
      "MSE: 0.00590667198247798 0.005847153844837318\n",
      "RMSE: 0.07685487611386788 0.07646668454194491\n",
      "MAE: 0.02265858886219336 0.02265858886219336\n"
     ]
    }
   ],
   "source": [
    "run_regression(rural_national)"
   ]
  },
  {
   "cell_type": "code",
   "execution_count": 158,
   "id": "d9ce9608",
   "metadata": {},
   "outputs": [
    {
     "name": "stdout",
     "output_type": "stream",
     "text": [
      "X shape (4809, 7)\n",
      "Y shape (4809,)\n",
      "Coefficient: [2.15054354e+10 2.15054354e+10 2.15054354e+10 2.15054354e+10\n",
      " 2.15054354e+10 2.15054354e+10 2.15054354e+10]\n",
      "Intercept: -21505435387.43293\n",
      "MSE: 0.0019381336706538882 0.0030676291125248966\n",
      "RMSE: 0.044024239580643394 0.05538618160267863\n",
      "MAE: 0.010645903292507895 0.010645903292507895\n"
     ]
    }
   ],
   "source": [
    "run_regression(rural_nys)"
   ]
  },
  {
   "cell_type": "markdown",
   "id": "a211117a",
   "metadata": {},
   "source": [
    "---\n",
    "\n",
    "# Interpretation and Conclusion \n",
    "\n",
    "## Interpretation\n",
    "We generally conducted our data analysis with a _big to small_ approach, which our interpretation will follow in terms of organization. \n",
    "\n",
    "### 1) National Data Analysis \n",
    "- We began by conducting our analysis of data on the national level, calculating the proportions of each race that lived at varying distances from their local supermarkets and producing multiple visualizations for this data. \n",
    "- Upon visualizing these proportions on a heat map and multiple bar plots, we noticed that the Native American population had a __significantly higher proportion of people with lower access to supermarkets__ at each distance. Specifically, at every recorded distance, this group was __above the national mean__ for proportion of population living at that distance. \n",
    "- It is necessary to note that the white population was also above the national mean for two plots, but these were the half-mile and one-mile distance-- this was less concerning, since the definition of _food desert_ varies between 1 mile and 10 miles depending on one's type of geographical residence. \n",
    "- These trends motivated us to look further into the Native American population in our data analysis, because their proportions were especially high at the ten and twenty mile marks compared to other races.\n",
    "\n",
    "#### 1a) Hypothesis Testing \n",
    "    \n",
    "- To confirm our suspicion that there exists a disparity in terms of Native American food access (and directly answer our first research question), we conducted hypothesis testing for each race using our cleaned national data. \n",
    "- This testing, in which we calculated the p-value for each race in relation to each of the other 6 racial groups, led us to the conclusion that there __does exist a statistically significant difference in terms of access to food in the US across race, specifically for the Native American population at the one, ten, and twenty mile distance increments__. This was the most significant takeaway from this stet of hypothesis tests.\n",
    "\n",
    "#### 1b) Focus on Native American Population, further hypothesis testing\n",
    "\n",
    "- To delve deeper into our finding that there is a disparity in food access between the Native American population and other races in the U.S., we isolated the U.S. population tracts with the highest amounts of Native American residents. __We found that Arizona, New Mexico, and Alaska have the most Native Americans that live 20 or more miles away from a supermarket.__\n",
    "- Using this subset of the population, we pulled in five variables (low income population, youth count, senior count, # housing units with no vehicle, # housing units receiving SNAP benefits) from the original dataset to test whether they had a notable relationship with the Native American population tracts. __We found through our logistic regression that there was no significant relationship between any of the chosen variables and the likelihood of being in a Native American tract.__\n",
    "- The general takeaway from this portion of our analysis is that income level, age group, and not owning a vehicle do not have a significant relationship with the Native American tracts we chose to analyze. This does not imply that there is no interaction whatsoever between these factors (we know that there is very often interaction between income level and race in socioeconomic disparities), but with our chosen population of Native Americans, we did not find a significant relationship to interpret.\n",
    "\n",
    "\n",
    "### 2) New York State Analysis \n",
    "- We continued our analysis of data at the state level, essentially reproducing the results from our national analysis but only for New York State. Upon visualizing these proportions, we noticed slightly different trends than we did for our national data.\n",
    "- Once again, the Native American population had a __significantly higher proportion of people with lower access to supermarkets__ at each distance. At every recorded distance, this group was __above the national mean__ for proportion of population living at that distance. \n",
    "- However, at every recorded distance, the white racial group was _also_ above the national mean, and the Pacific Islander racial group was above for every distance except the 20 mile distance. These were two novel findings that __indicates New York state may not reflect national levels of food access inequality__.\n",
    "\n",
    "#### 2a) Hypothesis Testing (NY)\n",
    "- Our hypothesis testing on the New York data, which followed the same procedure as the hypothesis testing on US data, confirmed the trends that our visualizations showed. \n",
    "- __We found that in there exists a statistically significant difference in terms of access to food in New york across race, specifically for the white population at the half, one, and twenty mile distance increments__. Due to the definition of \"food desert,\" however, we do not consider the half and one mile disparities to be a concern, and focus solely on the white population in the 20 mile tract for the rest of this state analysis. \n",
    "- This second hypothesis test indicates that __New York does not reflect national disparities in food access__. \n",
    "\n",
    "#### 2b) Focus on white population, further hypothesis testing\n",
    "- Due to our finding of a disparity in food access for white Americans in New York, we conducted a logistic regression similar to the one ran on the US Native American data. \n",
    "- __We found that there is no significant relationship between income, number of kids, number of seniors, and ownership of a vehicle for the white population tract living 20 miles from a supermarket in New York.__ \n",
    "    \n",
    "\n",
    "### 3) Comparing Two Distributions\n",
    "- Continuing to test our second hypothesis, we decided to create a more direct comparison between US and New York data beyond our hypothesis testing. Using z-scores, we compared the distribution of the proportion of each racial group living at each geographical distance in order to determine how NY food access levels compare to national levels. \n",
    "- The most notable differences between NY and the US are found at twenty mile distance, which aligns with our earlier hypothesis testing. __For Americans living 20 miles from their nearest supermarket, there is a disparity for Native Americans on the national level, but a disparity for white Americans in New York state.__\n",
    "- This answers our second hypothesis: __New York does not reflect national levels of food access inequality; white Americans are uniquely disadvantaged in NYS.__ \n",
    "\n",
    "\n",
    "### 4) Regression \n",
    "\n",
    "- When modeling the seven races jointly, there tended to be __similarities between national and New York coefficients.__ Both national and New York urban tracts resulted in positive coefficients for urban tracts, whereas national and New York rural tracts resulted in negative coefficients. These relationships make sense and align with conclusions from previous sections regarding similar racial proportions between national and New York tracts. \n",
    "- The RMSE and MAE between the training and testing sets are pretty similar, so we should not be concerned about overfitting.\n",
    "\n",
    "\n",
    "\n",
    "## Conclusion\n",
    "\n",
    "### Explanation for findings / confidence in interpretations\n",
    "\n",
    "The two biggest takeaways from our analysis are 1) the high proportion of Native Americans living 1-20 miles away from the nearest supermarket nationally, and 2) the high proportion of white Americans living 20 miles away from the nearest supermarket in New York state.\n",
    "\n",
    "While we are relatively confident in the source of the rest of our data, as it is pulled from the U.S. Census and major U.S. surveys (see Data Limitations for more information), our current findings do not entirely line up with prior research on food deserts. Research at JHU (https://hub.jhu.edu/magazine/2014/spring/racial-food-deserts/) found that _black and Hispanic neighborhoods_ have fewer large supermarkets and more small grocery stores than white neighborhoods, but our data does not find a significant disparity between these two groups and other racial groups on both the national and state level. \n",
    "\n",
    "It is possible that the reason these findings (and others in the field of social science research) do not line up with our analysis is that their data is more specific than our dataset. Our dataset's sources of supermarket data (meant to represent \"sources of affordable and nutritious food\") could provide much more detail-- it only pulls from two lists of supermarkets and does not include smaller grocery stores. This may create a lack of context necessary to see disparities experienced by Black and Hispanic communities in the U.S.\n",
    "\n",
    "### Real-life application & implications for lawmakers\n",
    "\n",
    "One could take the findings of our data analysis and conclude that __more supermarkets need to be placed in U.S. regions with Native American communities who live 10-20 miles from a supermarket, and in New York regions with white communities who live 20+ miles from a supermarket.__ While this is a solid recommendation to lawmakers that would likely improve the disparity that we find in our data, it is most likely omitting other important factors not captured by our analysis. \n",
    "\n",
    "Beyond revealing the need for more supermarkets in certain areas shown to lack food access, these findings are also valuable because they create a host of new questions for our research topic. Among them are:\n",
    "1. Historically, what does food access look like for Native Americans? How do the majority of Native Americans receive their food? (A quick Google search shows that there exists a program called \"The Food Distribution Program on Indian Reservations (FDPIR)\", which could explain why a portion of Native Americans do not need access to local supermarkets). \n",
    "2. Why does New York state have a disparity (negatively impacting white Americans) that is not present at the national level? What is the cause for this? \n",
    "3. Is New York City, which inhabits 43% of the New York state population, responsible for the food access disparity, or is this disparity located in other New York regions?\n",
    "\n",
    "\n",
    "### Next steps\n",
    "\n",
    "If we were to continue this analysis, there are a number of data analyses that we'd be interested in exploring. \n",
    "1. _More specific supermarket data_ - As stated above, it would be valuable to have data that specified the type of food that each race had access to. It is possible that Black and Hispanic communities were not shown to be disadvantaged because these tracts technically have access to supermarkets, but they are not \"good\" supermarkets that provide nutritious and affordable food. \n",
    "2. _Interactions with other socioeconomic metrics_ - While we did have access to data on income level and pulled it in at specific points of our analysis on race, it would be interesting to conduct a large scale comparison between race and income level in relation to food access. This is because food access is known to have a strong correlation with income level. \n",
    "3. _Food access in relation to other necessities_ - It would be very interesting to see if the trends we note in terms of food access are similar for healthcare access, education access, and other resources that affect life quality."
   ]
  },
  {
   "cell_type": "markdown",
   "id": "841723d3",
   "metadata": {},
   "source": [
    "# Acknowledgements\n",
    "\n",
    "We would like to thank all people and resources that have helped us through the course of this project. Specifically, we would like to thank Professor Minmo and Professor Koenecke for teaching the concepts of INFO 2950 that were integral to this project, including using various packages, creating visualizations, hypothesis testing, and interpretation techniques. Moreover, we would like to thanks the Teaching Assistants of our respective discussions as well as the reviewers of our past phases for their feedback and suggestions that helped us improve our analysis. We would also like to thank users on Stack Overflow for posting their questions! These posts helped inspire us to change our methodology and troubleshoot issues we were having, such as for the heatmap."
   ]
  },
  {
   "cell_type": "markdown",
   "id": "adbc2d41",
   "metadata": {},
   "source": [
    "# Questions for Reviewers\n",
    "\n",
    "1. For the data cleaning appendix, do we remove all data cleaning elements from this notebook?\n",
    "2. We are having a hard time interpreting our regression results (see the last section before our Intepretation/Conclusion section). \n",
    "    1. Do our current X and Y variables make sense? \n",
    "    2. Does logistic regression make more sense to perform over linear regresssion given the variables we are working with? \n",
    "    3. How would you suggest we improve our regression? \n",
    "3. Is our interpretation/conclusion section missing any key components?\n",
    "4. Is our overall project lacking any key components? What needs clarity?"
   ]
  },
  {
   "cell_type": "code",
   "execution_count": null,
   "id": "d336b55a",
   "metadata": {},
   "outputs": [],
   "source": []
  }
 ],
 "metadata": {
  "kernelspec": {
   "display_name": "Python 3 (ipykernel)",
   "language": "python",
   "name": "python3"
  },
  "language_info": {
   "codemirror_mode": {
    "name": "ipython",
    "version": 3
   },
   "file_extension": ".py",
   "mimetype": "text/x-python",
   "name": "python",
   "nbconvert_exporter": "python",
   "pygments_lexer": "ipython3",
   "version": "3.8.13"
  }
 },
 "nbformat": 4,
 "nbformat_minor": 5
}
